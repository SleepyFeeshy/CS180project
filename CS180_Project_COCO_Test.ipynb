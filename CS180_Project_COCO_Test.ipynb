{
  "cells": [
    {
      "cell_type": "markdown",
      "metadata": {
        "id": "bW7wkYTDMrJp"
      },
      "source": [
        "### **Initial Setup**"
      ]
    },
    {
      "cell_type": "code",
      "execution_count": 1,
      "metadata": {
        "id": "2ASEoEALMwow"
      },
      "outputs": [
        {
          "name": "stdout",
          "output_type": "stream",
          "text": [
            "WARNING:tensorflow:From C:\\Users\\Petter Xymone\\AppData\\Local\\Packages\\PythonSoftwareFoundation.Python.3.11_qbz5n2kfra8p0\\LocalCache\\local-packages\\Python311\\site-packages\\keras\\src\\losses.py:2976: The name tf.losses.sparse_softmax_cross_entropy is deprecated. Please use tf.compat.v1.losses.sparse_softmax_cross_entropy instead.\n",
            "\n"
          ]
        }
      ],
      "source": [
        "import tensorflow as tf\n",
        "import tensorflow_hub as hub\n",
        "import pandas as pd\n",
        "\n",
        "import matplotlib.pyplot as plt\n",
        "import numpy as np\n",
        "from PIL import Image\n",
        "\n",
        "from tensorflow.keras.utils import to_categorical"
      ]
    },
    {
      "cell_type": "code",
      "execution_count": 2,
      "metadata": {
        "colab": {
          "base_uri": "https://localhost:8080/"
        },
        "id": "PwBr4FiAMyVb",
        "outputId": "78be52d4-d162-47cc-c12e-af79a9af5cbe"
      },
      "outputs": [
        {
          "name": "stdout",
          "output_type": "stream",
          "text": [
            "2.15.0\n"
          ]
        }
      ],
      "source": [
        "print(tf.__version__)"
      ]
    },
    {
      "cell_type": "markdown",
      "metadata": {
        "id": "kOEyEefNM-8K"
      },
      "source": [
        "### **Importing Image Details (Cars)**"
      ]
    },
    {
      "cell_type": "code",
      "execution_count": 3,
      "metadata": {
        "id": "aK8kIodJM0QM"
      },
      "outputs": [],
      "source": [
        "cars_folder = \"datasets/Car Counting.v1i.coco/\""
      ]
    },
    {
      "cell_type": "code",
      "execution_count": 4,
      "metadata": {
        "colab": {
          "base_uri": "https://localhost:8080/"
        },
        "id": "0onBtOukNFZl",
        "outputId": "f8d0b767-8d02-4898-92ab-88d500e8ef59"
      },
      "outputs": [
        {
          "name": "stdout",
          "output_type": "stream",
          "text": [
            "loading annotations into memory...\n",
            "Done (t=0.30s)\n",
            "creating index...\n",
            "index created!\n",
            "loading annotations into memory...\n",
            "Done (t=0.01s)\n",
            "creating index...\n",
            "index created!\n"
          ]
        }
      ],
      "source": [
        "from pycocotools.coco import COCO\n",
        "\n",
        "cars_info_train = cars_folder + \"train/_annotations.coco.json\"\n",
        "cars_COCO_train = COCO(cars_info_train)\n",
        "\n",
        "cars_info_test = cars_folder + \"test/_annotations.coco.json\"\n",
        "cars_COCO_test = COCO(cars_info_test)"
      ]
    },
    {
      "cell_type": "code",
      "execution_count": 5,
      "metadata": {
        "colab": {
          "base_uri": "https://localhost:8080/"
        },
        "id": "zPZ_QMLgNIEk",
        "outputId": "e9d1f2e2-3773-4f80-e95d-5b09ffb82f8d"
      },
      "outputs": [
        {
          "name": "stdout",
          "output_type": "stream",
          "text": [
            "Total images: 5536\n",
            "Image example:\n",
            "{'id': 2059, 'license': 1, 'file_name': 'DOH_16_mp4-14_jpg.rf.5fe5adad011467d729838ce1f9cff9b5.jpg', 'height': 416, 'width': 416, 'date_captured': '2023-07-16T10:33:59+00:00'}\n",
            "\n",
            "Total annotations: 31431\n",
            "Annotation example:\n",
            "{'id': 11682, 'image_id': 2059, 'category_id': 9, 'bbox': [51, 137, 46.5, 58], 'area': 2697, 'segmentation': [], 'iscrowd': 0}\n"
          ]
        }
      ],
      "source": [
        "imgIds = cars_COCO_train.getImgIds()\n",
        "print(\"Total images: {}\".format(len(imgIds)))\n",
        "rand=np.random.randint(0,len(imgIds))\n",
        "img = cars_COCO_train.loadImgs(imgIds[rand])[0]\n",
        "print(\"Image example:\")\n",
        "print(img)\n",
        "annIds=cars_COCO_train.getAnnIds()\n",
        "print(\"\\nTotal annotations: {}\".format(len(annIds)))\n",
        "ann=cars_COCO_train.loadAnns(cars_COCO_train.getAnnIds(imgIds=img['id']))\n",
        "print(\"Annotation example:\")\n",
        "print(ann[0])"
      ]
    },
    {
      "cell_type": "code",
      "execution_count": 6,
      "metadata": {
        "colab": {
          "base_uri": "https://localhost:8080/"
        },
        "id": "moRlW9-_NIr0",
        "outputId": "e784cd10-20de-4027-e069-d6cb5744332d"
      },
      "outputs": [
        {
          "name": "stdout",
          "output_type": "stream",
          "text": [
            "Number of categories: 11\n",
            "\n",
            "COCO categories: \n",
            "cc Bus Motorcyecle Pickup SUV Sedan Suv TRUCK TUCK Truck Van\n",
            "\n"
          ]
        }
      ],
      "source": [
        "car_categories = cars_COCO_train.loadCats(cars_COCO_train.getCatIds())\n",
        "print(\"Number of categories: {}\".format(len(car_categories)))\n",
        "cars_kinds = [category['name'] for category in car_categories]\n",
        "print('\\nCOCO categories: \\n{}\\n'.format(' '.join(cars_kinds)))"
      ]
    },
    {
      "cell_type": "markdown",
      "metadata": {
        "id": "yby_AXvBeuyi"
      },
      "source": [
        "### **Setting Up Dataframes**"
      ]
    },
    {
      "cell_type": "code",
      "execution_count": 7,
      "metadata": {
        "id": "9xtlWPtFbpo3"
      },
      "outputs": [],
      "source": [
        "ann_ids = cars_COCO_train.getAnnIds()\n",
        "\n",
        "annotations_list = cars_COCO_train.loadAnns(ann_ids[0:len(ann_ids)])\n",
        "\n",
        "annotations_df = pd.DataFrame(annotations_list)\n",
        "annotations_df = annotations_df.drop([\"segmentation\", \"area\", \"iscrowd\"], axis=1)"
      ]
    },
    {
      "cell_type": "code",
      "execution_count": 8,
      "metadata": {
        "colab": {
          "base_uri": "https://localhost:8080/",
          "height": 444
        },
        "id": "9MxaPLkGcVD9",
        "outputId": "6adf3e8a-aece-414a-d7aa-b8941b54efd8"
      },
      "outputs": [
        {
          "data": {
            "text/html": [
              "<div>\n",
              "<style scoped>\n",
              "    .dataframe tbody tr th:only-of-type {\n",
              "        vertical-align: middle;\n",
              "    }\n",
              "\n",
              "    .dataframe tbody tr th {\n",
              "        vertical-align: top;\n",
              "    }\n",
              "\n",
              "    .dataframe thead th {\n",
              "        text-align: right;\n",
              "    }\n",
              "</style>\n",
              "<table border=\"1\" class=\"dataframe\">\n",
              "  <thead>\n",
              "    <tr style=\"text-align: right;\">\n",
              "      <th></th>\n",
              "      <th>id</th>\n",
              "      <th>image_id</th>\n",
              "      <th>category_id</th>\n",
              "      <th>bbox</th>\n",
              "    </tr>\n",
              "  </thead>\n",
              "  <tbody>\n",
              "    <tr>\n",
              "      <th>0</th>\n",
              "      <td>0</td>\n",
              "      <td>0</td>\n",
              "      <td>6</td>\n",
              "      <td>[102, 150, 35, 43.5]</td>\n",
              "    </tr>\n",
              "    <tr>\n",
              "      <th>1</th>\n",
              "      <td>1</td>\n",
              "      <td>0</td>\n",
              "      <td>5</td>\n",
              "      <td>[162, 163, 21.5, 24]</td>\n",
              "    </tr>\n",
              "    <tr>\n",
              "      <th>2</th>\n",
              "      <td>2</td>\n",
              "      <td>0</td>\n",
              "      <td>5</td>\n",
              "      <td>[133, 169, 21.5, 18]</td>\n",
              "    </tr>\n",
              "    <tr>\n",
              "      <th>3</th>\n",
              "      <td>3</td>\n",
              "      <td>0</td>\n",
              "      <td>3</td>\n",
              "      <td>[147, 223, 35.5, 43]</td>\n",
              "    </tr>\n",
              "    <tr>\n",
              "      <th>4</th>\n",
              "      <td>4</td>\n",
              "      <td>1</td>\n",
              "      <td>9</td>\n",
              "      <td>[88, 110, 66, 58]</td>\n",
              "    </tr>\n",
              "    <tr>\n",
              "      <th>...</th>\n",
              "      <td>...</td>\n",
              "      <td>...</td>\n",
              "      <td>...</td>\n",
              "      <td>...</td>\n",
              "    </tr>\n",
              "    <tr>\n",
              "      <th>31426</th>\n",
              "      <td>31426</td>\n",
              "      <td>5535</td>\n",
              "      <td>5</td>\n",
              "      <td>[227, 269, 25, 39.5]</td>\n",
              "    </tr>\n",
              "    <tr>\n",
              "      <th>31427</th>\n",
              "      <td>31427</td>\n",
              "      <td>5535</td>\n",
              "      <td>10</td>\n",
              "      <td>[10, 280, 36.5, 34.5]</td>\n",
              "    </tr>\n",
              "    <tr>\n",
              "      <th>31428</th>\n",
              "      <td>31428</td>\n",
              "      <td>5535</td>\n",
              "      <td>3</td>\n",
              "      <td>[149, 268, 33, 60.5]</td>\n",
              "    </tr>\n",
              "    <tr>\n",
              "      <th>31429</th>\n",
              "      <td>31429</td>\n",
              "      <td>5535</td>\n",
              "      <td>6</td>\n",
              "      <td>[10, 303, 38, 42.5]</td>\n",
              "    </tr>\n",
              "    <tr>\n",
              "      <th>31430</th>\n",
              "      <td>31430</td>\n",
              "      <td>5535</td>\n",
              "      <td>5</td>\n",
              "      <td>[59, 319, 39.5, 49]</td>\n",
              "    </tr>\n",
              "  </tbody>\n",
              "</table>\n",
              "<p>31431 rows × 4 columns</p>\n",
              "</div>"
            ],
            "text/plain": [
              "          id  image_id  category_id                   bbox\n",
              "0          0         0            6   [102, 150, 35, 43.5]\n",
              "1          1         0            5   [162, 163, 21.5, 24]\n",
              "2          2         0            5   [133, 169, 21.5, 18]\n",
              "3          3         0            3   [147, 223, 35.5, 43]\n",
              "4          4         1            9      [88, 110, 66, 58]\n",
              "...      ...       ...          ...                    ...\n",
              "31426  31426      5535            5   [227, 269, 25, 39.5]\n",
              "31427  31427      5535           10  [10, 280, 36.5, 34.5]\n",
              "31428  31428      5535            3   [149, 268, 33, 60.5]\n",
              "31429  31429      5535            6    [10, 303, 38, 42.5]\n",
              "31430  31430      5535            5    [59, 319, 39.5, 49]\n",
              "\n",
              "[31431 rows x 4 columns]"
            ]
          },
          "execution_count": 8,
          "metadata": {},
          "output_type": "execute_result"
        }
      ],
      "source": [
        "annotations_df"
      ]
    },
    {
      "cell_type": "code",
      "execution_count": 9,
      "metadata": {
        "id": "VAUUF5Gkr6fv"
      },
      "outputs": [],
      "source": [
        "image_ids = cars_COCO_train.getImgIds()\n",
        "\n",
        "image_list = cars_COCO_train.loadImgs(imgIds[0:len(image_ids)])\n",
        "\n",
        "image_df = pd.DataFrame(image_list)\n",
        "image_df = image_df.drop([\"date_captured\", \"license\"], axis=1)\n",
        "image_df.rename(columns={'id':'image_id'}, inplace=True)"
      ]
    },
    {
      "cell_type": "code",
      "execution_count": 10,
      "metadata": {
        "colab": {
          "base_uri": "https://localhost:8080/",
          "height": 444
        },
        "id": "LY1OWUM3dpIi",
        "outputId": "36dc568c-e163-42a0-f8a1-7005e91812fc"
      },
      "outputs": [
        {
          "data": {
            "text/html": [
              "<div>\n",
              "<style scoped>\n",
              "    .dataframe tbody tr th:only-of-type {\n",
              "        vertical-align: middle;\n",
              "    }\n",
              "\n",
              "    .dataframe tbody tr th {\n",
              "        vertical-align: top;\n",
              "    }\n",
              "\n",
              "    .dataframe thead th {\n",
              "        text-align: right;\n",
              "    }\n",
              "</style>\n",
              "<table border=\"1\" class=\"dataframe\">\n",
              "  <thead>\n",
              "    <tr style=\"text-align: right;\">\n",
              "      <th></th>\n",
              "      <th>image_id</th>\n",
              "      <th>file_name</th>\n",
              "      <th>height</th>\n",
              "      <th>width</th>\n",
              "    </tr>\n",
              "  </thead>\n",
              "  <tbody>\n",
              "    <tr>\n",
              "      <th>0</th>\n",
              "      <td>0</td>\n",
              "      <td>DOH_10_mp4-5_jpg.rf.1b99964f5eada026f922d24242...</td>\n",
              "      <td>416</td>\n",
              "      <td>416</td>\n",
              "    </tr>\n",
              "    <tr>\n",
              "      <th>1</th>\n",
              "      <td>1</td>\n",
              "      <td>DOH--video-converter_com-_mp4-29_jpg.rf.1bb791...</td>\n",
              "      <td>416</td>\n",
              "      <td>416</td>\n",
              "    </tr>\n",
              "    <tr>\n",
              "      <th>2</th>\n",
              "      <td>2</td>\n",
              "      <td>DOH_mp4-15_jpg.rf.1bca0d965b9c7bdf418f144f385e...</td>\n",
              "      <td>416</td>\n",
              "      <td>416</td>\n",
              "    </tr>\n",
              "    <tr>\n",
              "      <th>3</th>\n",
              "      <td>3</td>\n",
              "      <td>DOH_12_mp4-1_jpg.rf.1bab660cb143eedf004f4f4594...</td>\n",
              "      <td>416</td>\n",
              "      <td>416</td>\n",
              "    </tr>\n",
              "    <tr>\n",
              "      <th>4</th>\n",
              "      <td>4</td>\n",
              "      <td>DOH_mp4-13_jpg.rf.1bf23eb96868d1d271d4e44f6229...</td>\n",
              "      <td>416</td>\n",
              "      <td>416</td>\n",
              "    </tr>\n",
              "    <tr>\n",
              "      <th>...</th>\n",
              "      <td>...</td>\n",
              "      <td>...</td>\n",
              "      <td>...</td>\n",
              "      <td>...</td>\n",
              "    </tr>\n",
              "    <tr>\n",
              "      <th>5531</th>\n",
              "      <td>5531</td>\n",
              "      <td>DOH_4_mp4-18_jpg.rf.9d790097613dad0b42d71db69c...</td>\n",
              "      <td>416</td>\n",
              "      <td>416</td>\n",
              "    </tr>\n",
              "    <tr>\n",
              "      <th>5532</th>\n",
              "      <td>5532</td>\n",
              "      <td>DOH_3_mp4-18_jpg.rf.9cf78475ac7f2f6ff2be5381bd...</td>\n",
              "      <td>416</td>\n",
              "      <td>416</td>\n",
              "    </tr>\n",
              "    <tr>\n",
              "      <th>5533</th>\n",
              "      <td>5533</td>\n",
              "      <td>DOH_7_mp4-1_jpg.rf.9bb67a2bc97408e3bd27c431bab...</td>\n",
              "      <td>416</td>\n",
              "      <td>416</td>\n",
              "    </tr>\n",
              "    <tr>\n",
              "      <th>5534</th>\n",
              "      <td>5534</td>\n",
              "      <td>DOH_3_mp4-18_jpg.rf.9d72f5ebc6892fa37a04bf02c1...</td>\n",
              "      <td>416</td>\n",
              "      <td>416</td>\n",
              "    </tr>\n",
              "    <tr>\n",
              "      <th>5535</th>\n",
              "      <td>5535</td>\n",
              "      <td>DOH_mp4-15_jpg.rf.9d96ca8d3bcac3594961fc4745d4...</td>\n",
              "      <td>416</td>\n",
              "      <td>416</td>\n",
              "    </tr>\n",
              "  </tbody>\n",
              "</table>\n",
              "<p>5536 rows × 4 columns</p>\n",
              "</div>"
            ],
            "text/plain": [
              "      image_id                                          file_name  height  \\\n",
              "0            0  DOH_10_mp4-5_jpg.rf.1b99964f5eada026f922d24242...     416   \n",
              "1            1  DOH--video-converter_com-_mp4-29_jpg.rf.1bb791...     416   \n",
              "2            2  DOH_mp4-15_jpg.rf.1bca0d965b9c7bdf418f144f385e...     416   \n",
              "3            3  DOH_12_mp4-1_jpg.rf.1bab660cb143eedf004f4f4594...     416   \n",
              "4            4  DOH_mp4-13_jpg.rf.1bf23eb96868d1d271d4e44f6229...     416   \n",
              "...        ...                                                ...     ...   \n",
              "5531      5531  DOH_4_mp4-18_jpg.rf.9d790097613dad0b42d71db69c...     416   \n",
              "5532      5532  DOH_3_mp4-18_jpg.rf.9cf78475ac7f2f6ff2be5381bd...     416   \n",
              "5533      5533  DOH_7_mp4-1_jpg.rf.9bb67a2bc97408e3bd27c431bab...     416   \n",
              "5534      5534  DOH_3_mp4-18_jpg.rf.9d72f5ebc6892fa37a04bf02c1...     416   \n",
              "5535      5535  DOH_mp4-15_jpg.rf.9d96ca8d3bcac3594961fc4745d4...     416   \n",
              "\n",
              "      width  \n",
              "0       416  \n",
              "1       416  \n",
              "2       416  \n",
              "3       416  \n",
              "4       416  \n",
              "...     ...  \n",
              "5531    416  \n",
              "5532    416  \n",
              "5533    416  \n",
              "5534    416  \n",
              "5535    416  \n",
              "\n",
              "[5536 rows x 4 columns]"
            ]
          },
          "execution_count": 10,
          "metadata": {},
          "output_type": "execute_result"
        }
      ],
      "source": [
        "image_df"
      ]
    },
    {
      "cell_type": "markdown",
      "metadata": {
        "id": "UeaG9IymezV3"
      },
      "source": [
        "### **Setting Up Training Data**"
      ]
    },
    {
      "cell_type": "code",
      "execution_count": 11,
      "metadata": {
        "id": "2bttFO4EfQhG"
      },
      "outputs": [],
      "source": [
        "image_to_annotations_df = annotations_df[\"image_id\"].value_counts().sort_index().reset_index() # https://stackoverflow.com/questions/35893176/how-to-assign-a-value-count-output-to-a-dataframe\n",
        "image_to_annotations_df.columns=[\"image_id\", \"vehicle_count\"]"
      ]
    },
    {
      "cell_type": "code",
      "execution_count": 12,
      "metadata": {
        "colab": {
          "base_uri": "https://localhost:8080/",
          "height": 444
        },
        "id": "7W_81056rWGA",
        "outputId": "2894fadf-2a36-4bbd-86da-495d377488ee"
      },
      "outputs": [
        {
          "data": {
            "text/html": [
              "<div>\n",
              "<style scoped>\n",
              "    .dataframe tbody tr th:only-of-type {\n",
              "        vertical-align: middle;\n",
              "    }\n",
              "\n",
              "    .dataframe tbody tr th {\n",
              "        vertical-align: top;\n",
              "    }\n",
              "\n",
              "    .dataframe thead th {\n",
              "        text-align: right;\n",
              "    }\n",
              "</style>\n",
              "<table border=\"1\" class=\"dataframe\">\n",
              "  <thead>\n",
              "    <tr style=\"text-align: right;\">\n",
              "      <th></th>\n",
              "      <th>image_id</th>\n",
              "      <th>vehicle_count</th>\n",
              "    </tr>\n",
              "  </thead>\n",
              "  <tbody>\n",
              "    <tr>\n",
              "      <th>0</th>\n",
              "      <td>0</td>\n",
              "      <td>4</td>\n",
              "    </tr>\n",
              "    <tr>\n",
              "      <th>1</th>\n",
              "      <td>1</td>\n",
              "      <td>6</td>\n",
              "    </tr>\n",
              "    <tr>\n",
              "      <th>2</th>\n",
              "      <td>2</td>\n",
              "      <td>5</td>\n",
              "    </tr>\n",
              "    <tr>\n",
              "      <th>3</th>\n",
              "      <td>3</td>\n",
              "      <td>2</td>\n",
              "    </tr>\n",
              "    <tr>\n",
              "      <th>4</th>\n",
              "      <td>4</td>\n",
              "      <td>6</td>\n",
              "    </tr>\n",
              "    <tr>\n",
              "      <th>...</th>\n",
              "      <td>...</td>\n",
              "      <td>...</td>\n",
              "    </tr>\n",
              "    <tr>\n",
              "      <th>5531</th>\n",
              "      <td>5531</td>\n",
              "      <td>3</td>\n",
              "    </tr>\n",
              "    <tr>\n",
              "      <th>5532</th>\n",
              "      <td>5532</td>\n",
              "      <td>4</td>\n",
              "    </tr>\n",
              "    <tr>\n",
              "      <th>5533</th>\n",
              "      <td>5533</td>\n",
              "      <td>7</td>\n",
              "    </tr>\n",
              "    <tr>\n",
              "      <th>5534</th>\n",
              "      <td>5534</td>\n",
              "      <td>5</td>\n",
              "    </tr>\n",
              "    <tr>\n",
              "      <th>5535</th>\n",
              "      <td>5535</td>\n",
              "      <td>16</td>\n",
              "    </tr>\n",
              "  </tbody>\n",
              "</table>\n",
              "<p>5536 rows × 2 columns</p>\n",
              "</div>"
            ],
            "text/plain": [
              "      image_id  vehicle_count\n",
              "0            0              4\n",
              "1            1              6\n",
              "2            2              5\n",
              "3            3              2\n",
              "4            4              6\n",
              "...        ...            ...\n",
              "5531      5531              3\n",
              "5532      5532              4\n",
              "5533      5533              7\n",
              "5534      5534              5\n",
              "5535      5535             16\n",
              "\n",
              "[5536 rows x 2 columns]"
            ]
          },
          "execution_count": 12,
          "metadata": {},
          "output_type": "execute_result"
        }
      ],
      "source": [
        "image_to_annotations_df"
      ]
    },
    {
      "cell_type": "code",
      "execution_count": 13,
      "metadata": {
        "id": "z5lPpKSprj5Q"
      },
      "outputs": [],
      "source": [
        "vehicle_count = [i for i in image_to_annotations_df.vehicle_count]\n",
        "image_df.insert(4, \"vehicle_count\", vehicle_count)"
      ]
    },
    {
      "cell_type": "code",
      "execution_count": 14,
      "metadata": {
        "colab": {
          "base_uri": "https://localhost:8080/",
          "height": 444
        },
        "id": "JZyqx42-6w3j",
        "outputId": "e9d3b007-48c2-4508-8bed-2edd6b6af516"
      },
      "outputs": [
        {
          "data": {
            "text/html": [
              "<div>\n",
              "<style scoped>\n",
              "    .dataframe tbody tr th:only-of-type {\n",
              "        vertical-align: middle;\n",
              "    }\n",
              "\n",
              "    .dataframe tbody tr th {\n",
              "        vertical-align: top;\n",
              "    }\n",
              "\n",
              "    .dataframe thead th {\n",
              "        text-align: right;\n",
              "    }\n",
              "</style>\n",
              "<table border=\"1\" class=\"dataframe\">\n",
              "  <thead>\n",
              "    <tr style=\"text-align: right;\">\n",
              "      <th></th>\n",
              "      <th>id</th>\n",
              "      <th>image_id</th>\n",
              "      <th>category_id</th>\n",
              "      <th>bbox</th>\n",
              "      <th>file_name</th>\n",
              "      <th>height</th>\n",
              "      <th>width</th>\n",
              "    </tr>\n",
              "  </thead>\n",
              "  <tbody>\n",
              "    <tr>\n",
              "      <th>0</th>\n",
              "      <td>0</td>\n",
              "      <td>0</td>\n",
              "      <td>6</td>\n",
              "      <td>[102, 150, 35, 43.5]</td>\n",
              "      <td>DOH_10_mp4-5_jpg.rf.1b99964f5eada026f922d24242...</td>\n",
              "      <td>416</td>\n",
              "      <td>416</td>\n",
              "    </tr>\n",
              "    <tr>\n",
              "      <th>1</th>\n",
              "      <td>1</td>\n",
              "      <td>0</td>\n",
              "      <td>5</td>\n",
              "      <td>[162, 163, 21.5, 24]</td>\n",
              "      <td>DOH_10_mp4-5_jpg.rf.1b99964f5eada026f922d24242...</td>\n",
              "      <td>416</td>\n",
              "      <td>416</td>\n",
              "    </tr>\n",
              "    <tr>\n",
              "      <th>2</th>\n",
              "      <td>2</td>\n",
              "      <td>0</td>\n",
              "      <td>5</td>\n",
              "      <td>[133, 169, 21.5, 18]</td>\n",
              "      <td>DOH_10_mp4-5_jpg.rf.1b99964f5eada026f922d24242...</td>\n",
              "      <td>416</td>\n",
              "      <td>416</td>\n",
              "    </tr>\n",
              "    <tr>\n",
              "      <th>3</th>\n",
              "      <td>3</td>\n",
              "      <td>0</td>\n",
              "      <td>3</td>\n",
              "      <td>[147, 223, 35.5, 43]</td>\n",
              "      <td>DOH_10_mp4-5_jpg.rf.1b99964f5eada026f922d24242...</td>\n",
              "      <td>416</td>\n",
              "      <td>416</td>\n",
              "    </tr>\n",
              "    <tr>\n",
              "      <th>4</th>\n",
              "      <td>4</td>\n",
              "      <td>1</td>\n",
              "      <td>9</td>\n",
              "      <td>[88, 110, 66, 58]</td>\n",
              "      <td>DOH--video-converter_com-_mp4-29_jpg.rf.1bb791...</td>\n",
              "      <td>416</td>\n",
              "      <td>416</td>\n",
              "    </tr>\n",
              "    <tr>\n",
              "      <th>...</th>\n",
              "      <td>...</td>\n",
              "      <td>...</td>\n",
              "      <td>...</td>\n",
              "      <td>...</td>\n",
              "      <td>...</td>\n",
              "      <td>...</td>\n",
              "      <td>...</td>\n",
              "    </tr>\n",
              "    <tr>\n",
              "      <th>31426</th>\n",
              "      <td>31426</td>\n",
              "      <td>5535</td>\n",
              "      <td>5</td>\n",
              "      <td>[227, 269, 25, 39.5]</td>\n",
              "      <td>DOH_mp4-15_jpg.rf.9d96ca8d3bcac3594961fc4745d4...</td>\n",
              "      <td>416</td>\n",
              "      <td>416</td>\n",
              "    </tr>\n",
              "    <tr>\n",
              "      <th>31427</th>\n",
              "      <td>31427</td>\n",
              "      <td>5535</td>\n",
              "      <td>10</td>\n",
              "      <td>[10, 280, 36.5, 34.5]</td>\n",
              "      <td>DOH_mp4-15_jpg.rf.9d96ca8d3bcac3594961fc4745d4...</td>\n",
              "      <td>416</td>\n",
              "      <td>416</td>\n",
              "    </tr>\n",
              "    <tr>\n",
              "      <th>31428</th>\n",
              "      <td>31428</td>\n",
              "      <td>5535</td>\n",
              "      <td>3</td>\n",
              "      <td>[149, 268, 33, 60.5]</td>\n",
              "      <td>DOH_mp4-15_jpg.rf.9d96ca8d3bcac3594961fc4745d4...</td>\n",
              "      <td>416</td>\n",
              "      <td>416</td>\n",
              "    </tr>\n",
              "    <tr>\n",
              "      <th>31429</th>\n",
              "      <td>31429</td>\n",
              "      <td>5535</td>\n",
              "      <td>6</td>\n",
              "      <td>[10, 303, 38, 42.5]</td>\n",
              "      <td>DOH_mp4-15_jpg.rf.9d96ca8d3bcac3594961fc4745d4...</td>\n",
              "      <td>416</td>\n",
              "      <td>416</td>\n",
              "    </tr>\n",
              "    <tr>\n",
              "      <th>31430</th>\n",
              "      <td>31430</td>\n",
              "      <td>5535</td>\n",
              "      <td>5</td>\n",
              "      <td>[59, 319, 39.5, 49]</td>\n",
              "      <td>DOH_mp4-15_jpg.rf.9d96ca8d3bcac3594961fc4745d4...</td>\n",
              "      <td>416</td>\n",
              "      <td>416</td>\n",
              "    </tr>\n",
              "  </tbody>\n",
              "</table>\n",
              "<p>31431 rows × 7 columns</p>\n",
              "</div>"
            ],
            "text/plain": [
              "          id  image_id  category_id                   bbox  \\\n",
              "0          0         0            6   [102, 150, 35, 43.5]   \n",
              "1          1         0            5   [162, 163, 21.5, 24]   \n",
              "2          2         0            5   [133, 169, 21.5, 18]   \n",
              "3          3         0            3   [147, 223, 35.5, 43]   \n",
              "4          4         1            9      [88, 110, 66, 58]   \n",
              "...      ...       ...          ...                    ...   \n",
              "31426  31426      5535            5   [227, 269, 25, 39.5]   \n",
              "31427  31427      5535           10  [10, 280, 36.5, 34.5]   \n",
              "31428  31428      5535            3   [149, 268, 33, 60.5]   \n",
              "31429  31429      5535            6    [10, 303, 38, 42.5]   \n",
              "31430  31430      5535            5    [59, 319, 39.5, 49]   \n",
              "\n",
              "                                               file_name  height  width  \n",
              "0      DOH_10_mp4-5_jpg.rf.1b99964f5eada026f922d24242...     416    416  \n",
              "1      DOH_10_mp4-5_jpg.rf.1b99964f5eada026f922d24242...     416    416  \n",
              "2      DOH_10_mp4-5_jpg.rf.1b99964f5eada026f922d24242...     416    416  \n",
              "3      DOH_10_mp4-5_jpg.rf.1b99964f5eada026f922d24242...     416    416  \n",
              "4      DOH--video-converter_com-_mp4-29_jpg.rf.1bb791...     416    416  \n",
              "...                                                  ...     ...    ...  \n",
              "31426  DOH_mp4-15_jpg.rf.9d96ca8d3bcac3594961fc4745d4...     416    416  \n",
              "31427  DOH_mp4-15_jpg.rf.9d96ca8d3bcac3594961fc4745d4...     416    416  \n",
              "31428  DOH_mp4-15_jpg.rf.9d96ca8d3bcac3594961fc4745d4...     416    416  \n",
              "31429  DOH_mp4-15_jpg.rf.9d96ca8d3bcac3594961fc4745d4...     416    416  \n",
              "31430  DOH_mp4-15_jpg.rf.9d96ca8d3bcac3594961fc4745d4...     416    416  \n",
              "\n",
              "[31431 rows x 7 columns]"
            ]
          },
          "execution_count": 14,
          "metadata": {},
          "output_type": "execute_result"
        }
      ],
      "source": [
        "image_and_annotations_df = pd.merge(annotations_df, image_df, on=\"image_id\")\n",
        "image_and_annotations_df.drop([\"vehicle_count\"], axis=1)"
      ]
    },
    {
      "cell_type": "markdown",
      "metadata": {},
      "source": [
        "### **Setting Up Testing Data**"
      ]
    },
    {
      "cell_type": "code",
      "execution_count": 15,
      "metadata": {},
      "outputs": [],
      "source": [
        "ann_test_ids = cars_COCO_test.getAnnIds()\n",
        "\n",
        "annotations_test_list = cars_COCO_test.loadAnns(ann_test_ids[0:len(ann_test_ids)])\n",
        "\n",
        "annotations_test_df = pd.DataFrame(annotations_test_list)\n",
        "annotations_test_df = annotations_test_df.drop([\"segmentation\", \"area\", \"iscrowd\"], axis=1)"
      ]
    },
    {
      "cell_type": "code",
      "execution_count": 16,
      "metadata": {},
      "outputs": [],
      "source": [
        "image_test_ids = cars_COCO_test.getImgIds()\n",
        "\n",
        "image_test_list = cars_COCO_test.loadImgs(image_test_ids[0:len(image_test_ids)])\n",
        "\n",
        "image_test_df = pd.DataFrame(image_test_list)\n",
        "image_test_df = image_test_df.drop([\"date_captured\", \"license\"], axis=1)\n",
        "image_test_df.rename(columns={'id':'image_id'}, inplace=True)"
      ]
    },
    {
      "cell_type": "code",
      "execution_count": 17,
      "metadata": {},
      "outputs": [],
      "source": [
        "cars_y_test = annotations_test_df[\"category_id\"][0:300]\n",
        "\n",
        "cars_y_test = to_categorical(cars_y_test) # change category_id into one-hot encoding"
      ]
    },
    {
      "cell_type": "markdown",
      "metadata": {
        "id": "_KCy_qfK4Wx8"
      },
      "source": [
        "### **Extracting Cars from Images**\n",
        "\n",
        "Source: https://www.kaggle.com/code/aryankansal2019/face-mask-detection-classsifier-using-cnn"
      ]
    },
    {
      "cell_type": "code",
      "execution_count": 18,
      "metadata": {
        "id": "3bcPgXO50as6"
      },
      "outputs": [],
      "source": [
        "from PIL import Image\n",
        "\n",
        "def crop_image(image_path, bbox):\n",
        "  img = Image.open(image_path)\n",
        "\n",
        "  left, top, width, height = bbox\n",
        "  cropped = img.crop((left, top, left + width, top + height))\n",
        "\n",
        "  return cropped"
      ]
    },
    {
      "cell_type": "code",
      "execution_count": 19,
      "metadata": {
        "colab": {
          "base_uri": "https://localhost:8080/",
          "height": 81
        },
        "id": "IRGOU0q41d80",
        "outputId": "daca28ac-978c-40ea-b1f7-9aaa009411a0"
      },
      "outputs": [
        {
          "data": {
            "image/png": "[encoded data removed]",
            "text/plain": [
              "<PIL.Image.Image image mode=RGB size=35x44>"
            ]
          },
          "execution_count": 19,
          "metadata": {},
          "output_type": "execute_result"
        }
      ],
      "source": [
        "crop_image(cars_folder + \"train/DOH_10_mp4-5_jpg.rf.1b99964f5eada026f922d242423833c8.jpg\", annotations_df[\"bbox\"][0])"
      ]
    },
    {
      "cell_type": "code",
      "execution_count": 20,
      "metadata": {
        "id": "ZnbtNnn11BAp"
      },
      "outputs": [],
      "source": [
        "def extract_cars(image_name, dataframe):\n",
        "  cars_image = []\n",
        "\n",
        "  df_one_img = dataframe[dataframe['file_name'] == image_name][\"bbox\"]\n",
        "\n",
        "  path = cars_folder + \"train/\" + image_name\n",
        "  for row in df_one_img:\n",
        "    img = crop_image(path, row)\n",
        "    cars_image.append(img)\n",
        "\n",
        "  return cars_image"
      ]
    },
    {
      "cell_type": "code",
      "execution_count": 21,
      "metadata": {
        "colab": {
          "base_uri": "https://localhost:8080/",
          "height": 1000
        },
        "id": "Zz_moRY35nJ_",
        "outputId": "a421bfeb-d2a9-4afd-ace7-17b40d11bbe1"
      },
      "outputs": [],
      "source": [
        "for i in extract_cars(\"DOH_10_mp4-5_jpg.rf.1b99964f5eada026f922d242423833c8.jpg\", image_and_annotations_df):\n",
        "  plt.figure()\n",
        "  plt.imshow(i)"
      ]
    },
    {
      "cell_type": "code",
      "execution_count": 22,
      "metadata": {
        "id": "Rt-8iJulAppl"
      },
      "outputs": [],
      "source": [
        "# Extraction of images is done locally as it takes so long to do in colab\n",
        "\n",
        "# cropped_images = [extract_cars(img, image_and_annotations_df) for img in image_df[\"file_name\"]]\n",
        "\n",
        "# ctr = 0\n",
        "\n",
        "# for arr in cropped_images:\n",
        "#   for img in arr:\n",
        "#     height, width = img.height, img.width\n",
        "#     max_size = max(height, width)\n",
        "#     r = max_size / 128\n",
        "#     new_width = int(width / r)\n",
        "#     new_height = int(height / r)\n",
        "#     new_size = (new_width, new_height)\n",
        "#  \n",
        "#     img = img.resize(new_size, Image.Resampling.LANCZOS)\n",
        "# \n",
        "#     new_img = np.zeros((128, 128, 3), dtype=np.uint8)\n",
        "#     new_img[0:new_height, 0:new_width] = img\n",
        "#     new_img = Image.fromarray(new_img)\n",
        "#     new_img.save(f\"extracted_resized_train/{ctr}.jpg\")\n",
        "#\n",
        "#     ctr += 1\n",
        "\n"
      ]
    },
    {
      "cell_type": "code",
      "execution_count": 23,
      "metadata": {
        "id": "Sp9zGqeHA6ch"
      },
      "outputs": [],
      "source": [
        "extracted_cars_folder = \"datasets/train_2100_128x128\"\n",
        "extracted_cars_valid = \"datasets/valid_600_128x128\"\n",
        "extracted_cars_test = \"datasets/test_300_128x128\""
      ]
    },
    {
      "cell_type": "markdown",
      "metadata": {},
      "source": [
        "### **Preprocessing Train and Valid Datasets**"
      ]
    },
    {
      "cell_type": "code",
      "execution_count": 24,
      "metadata": {
        "id": "Y-vlmHDCKSDy"
      },
      "outputs": [],
      "source": [
        "import os\n",
        "\n",
        "img_size = 128\n",
        "\n",
        "def load_images_from_folder(folder_path):\n",
        "  images = []\n",
        "  for filename in os.listdir(folder_path):\n",
        "    img_path = os.path.join(folder_path, filename)\n",
        "    image = tf.keras.utils.load_img(img_path)\n",
        "    imageArr = np.asarray(image) / 255.0 # change values from 0-255 to 0-1\n",
        "    images.append(imageArr)\n",
        "  return images"
      ]
    },
    {
      "cell_type": "code",
      "execution_count": 25,
      "metadata": {},
      "outputs": [],
      "source": [
        "# Labels\n",
        "\n",
        "cars_y_train = annotations_df[\"category_id\"][0:2100]\n",
        "cars_y_valid = annotations_df[\"category_id\"][2100:2700]\n",
        "cars_y_test = annotations_test_df[\"category_id\"][0:300]"
      ]
    },
    {
      "cell_type": "code",
      "execution_count": 30,
      "metadata": {},
      "outputs": [
        {
          "name": "stdout",
          "output_type": "stream",
          "text": [
            "Found 2100 images belonging to 11 classes.\n",
            "Found 600 images belonging to 11 classes.\n",
            "Found 300 images belonging to 11 classes.\n"
          ]
        }
      ],
      "source": [
        "from keras.preprocessing.image import ImageDataGenerator\n",
        "\n",
        "datagen = ImageDataGenerator(\n",
        "    rescale=1.0 / 255, horizontal_flip=True, zoom_range=0.1, shear_range=0.2, width_shift_range=0.1,\n",
        "    height_shift_range=0.1, rotation_range=4, vertical_flip=False\n",
        ")\n",
        "\n",
        "val_datagen = ImageDataGenerator(\n",
        "    rescale=1.0 / 255\n",
        ")\n",
        "\n",
        "train_generator = datagen.flow_from_directory(\n",
        "    directory=extracted_cars_folder, \n",
        "    classes=list(map(str, list(range(11)))),\n",
        "    target_size = (128,128),\n",
        "    class_mode=\"categorical\", batch_size=100, shuffle=True\n",
        "\n",
        ")\n",
        "\n",
        "# Validation data\n",
        "val_generator = val_datagen.flow_from_directory(\n",
        "    classes=list(map(str, list(range(11)))),\n",
        "    directory=extracted_cars_valid, \n",
        "    target_size = (128,128),\n",
        "    class_mode=\"categorical\", batch_size=100, shuffle=True\n",
        ")\n",
        "\n",
        "# Test data\n",
        "test_generator = val_datagen.flow_from_directory(\n",
        "    classes=list(map(str, list(range(11)))),\n",
        "    directory=extracted_cars_test, \n",
        "    target_size = (128,128),\n",
        "    class_mode=\"categorical\", batch_size=100, shuffle=False\n",
        ")"
      ]
    },
    {
      "cell_type": "markdown",
      "metadata": {
        "id": "IU5Dv779Fm_j"
      },
      "source": [
        "### **Setting Up Model**"
      ]
    },
    {
      "cell_type": "code",
      "execution_count": 31,
      "metadata": {
        "id": "kQHF9z0WNLCK"
      },
      "outputs": [],
      "source": [
        "img_size = 128\n",
        "batch_size = 50\n",
        "\n",
        "input_shape = (img_size, img_size, 3)\n",
        "output_shape = 11 # how many categories"
      ]
    },
    {
      "cell_type": "code",
      "execution_count": 32,
      "metadata": {
        "colab": {
          "base_uri": "https://localhost:8080/"
        },
        "id": "R-2Kv_MFFHzw",
        "outputId": "7fafca47-4c85-48b2-9ed0-d04456816c90"
      },
      "outputs": [
        {
          "name": "stdout",
          "output_type": "stream",
          "text": [
            "Model: \"sequential_1\"\n",
            "_________________________________________________________________\n",
            " Layer (type)                Output Shape              Param #   \n",
            "=================================================================\n",
            " keras_layer_1 (KerasLayer)  (None, 1280)              410208    \n",
            "                                                                 \n",
            " dense_1 (Dense)             (None, 11)                14091     \n",
            "                                                                 \n",
            "=================================================================\n",
            "Total params: 424299 (1.62 MB)\n",
            "Trainable params: 410219 (1.56 MB)\n",
            "Non-trainable params: 14080 (55.00 KB)\n",
            "_________________________________________________________________\n"
          ]
        }
      ],
      "source": [
        "import tensorflow as tf\n",
        "import tensorflow_hub as hub\n",
        "\n",
        "model_mobilenet = tf.keras.Sequential([\n",
        "    hub.KerasLayer('https://www.kaggle.com/models/google/mobilenet-v2/TensorFlow2/035-128-feature-vector/2',\n",
        "                  trainable=True, input_shape=[128, 128, 3]),\n",
        "    tf.keras.layers.Dense(11, activation='softmax'),\n",
        "])\n",
        "\n",
        "model_mobilenet.compile(\n",
        "    optimizer=tf.keras.optimizers.Adam(learning_rate=0.0001),\n",
        "              loss=tf.keras.losses.CategoricalCrossentropy(),\n",
        "              metrics=['accuracy','Recall', 'Precision', 'AUC'])\n",
        "\n",
        "model_mobilenet.summary()"
      ]
    },
    {
      "cell_type": "markdown",
      "metadata": {
        "id": "LBcg1ATBpC9g"
      },
      "source": [
        "### **Training the Model**"
      ]
    },
    {
      "cell_type": "code",
      "execution_count": 33,
      "metadata": {},
      "outputs": [
        {
          "name": "stderr",
          "output_type": "stream",
          "text": [
            "C:\\Users\\Petter Xymone\\AppData\\Local\\Temp\\ipykernel_29640\\2353381691.py:1: UserWarning: `Model.fit_generator` is deprecated and will be removed in a future version. Please use `Model.fit`, which supports generators.\n",
            "  model_mobilenet_history = model_mobilenet.fit_generator(\n"
          ]
        },
        {
          "name": "stdout",
          "output_type": "stream",
          "text": [
            "Epoch 1/10\n",
            "21/21 [==============================] - 29s 655ms/step - loss: 1.3560 - accuracy: 0.5514 - recall: 0.4448 - precision: 0.6389 - auc: 0.9127 - val_loss: 1.5909 - val_accuracy: 0.4600 - val_recall: 0.3567 - val_precision: 0.5232 - val_auc: 0.8901\n",
            "Epoch 2/10\n",
            "21/21 [==============================] - 13s 598ms/step - loss: 0.9070 - accuracy: 0.6676 - recall: 0.5800 - precision: 0.7382 - auc: 0.9604 - val_loss: 1.5109 - val_accuracy: 0.5250 - val_recall: 0.5150 - val_precision: 0.5440 - val_auc: 0.9150\n",
            "Epoch 3/10\n",
            "21/21 [==============================] - 12s 564ms/step - loss: 0.7405 - accuracy: 0.7448 - recall: 0.6776 - precision: 0.7994 - auc: 0.9738 - val_loss: 1.2822 - val_accuracy: 0.5950 - val_recall: 0.5633 - val_precision: 0.6259 - val_auc: 0.9328\n",
            "Epoch 4/10\n",
            "21/21 [==============================] - 12s 550ms/step - loss: 0.6201 - accuracy: 0.7833 - recall: 0.7295 - precision: 0.8272 - auc: 0.9812 - val_loss: 1.1979 - val_accuracy: 0.6350 - val_recall: 0.6117 - val_precision: 0.6473 - val_auc: 0.9383\n",
            "Epoch 5/10\n",
            "21/21 [==============================] - 12s 551ms/step - loss: 0.5642 - accuracy: 0.7971 - recall: 0.7543 - precision: 0.8372 - auc: 0.9848 - val_loss: 1.2364 - val_accuracy: 0.6350 - val_recall: 0.6217 - val_precision: 0.6544 - val_auc: 0.9365\n",
            "Epoch 6/10\n",
            "21/21 [==============================] - 12s 556ms/step - loss: 0.4932 - accuracy: 0.8219 - recall: 0.7881 - precision: 0.8522 - auc: 0.9887 - val_loss: 1.2009 - val_accuracy: 0.6150 - val_recall: 0.6017 - val_precision: 0.6333 - val_auc: 0.9441\n",
            "Epoch 7/10\n",
            "21/21 [==============================] - 12s 550ms/step - loss: 0.4162 - accuracy: 0.8562 - recall: 0.8252 - precision: 0.8806 - auc: 0.9921 - val_loss: 1.0125 - val_accuracy: 0.6750 - val_recall: 0.6433 - val_precision: 0.7005 - val_auc: 0.9530\n",
            "Epoch 8/10\n",
            "21/21 [==============================] - 12s 551ms/step - loss: 0.3568 - accuracy: 0.8829 - recall: 0.8571 - precision: 0.9023 - auc: 0.9944 - val_loss: 1.3137 - val_accuracy: 0.6433 - val_recall: 0.6200 - val_precision: 0.6691 - val_auc: 0.9347\n",
            "Epoch 9/10\n",
            "21/21 [==============================] - 13s 595ms/step - loss: 0.3185 - accuracy: 0.8943 - recall: 0.8786 - precision: 0.9111 - auc: 0.9954 - val_loss: 1.1646 - val_accuracy: 0.6600 - val_recall: 0.6417 - val_precision: 0.6900 - val_auc: 0.9441\n",
            "Epoch 10/10\n",
            "21/21 [==============================] - 14s 648ms/step - loss: 0.3160 - accuracy: 0.8924 - recall: 0.8776 - precision: 0.9115 - auc: 0.9953 - val_loss: 1.1320 - val_accuracy: 0.6900 - val_recall: 0.6750 - val_precision: 0.7019 - val_auc: 0.9431\n"
          ]
        }
      ],
      "source": [
        "model_mobilenet_history = model_mobilenet.fit_generator(\n",
        "    generator=train_generator,\n",
        "    epochs=10,\n",
        "    shuffle=True,\n",
        "    validation_data=val_generator,\n",
        ")"
      ]
    },
    {
      "cell_type": "code",
      "execution_count": 34,
      "metadata": {},
      "outputs": [
        {
          "name": "stderr",
          "output_type": "stream",
          "text": [
            "C:\\Users\\Petter Xymone\\AppData\\Local\\Packages\\PythonSoftwareFoundation.Python.3.11_qbz5n2kfra8p0\\LocalCache\\local-packages\\Python311\\site-packages\\keras\\src\\engine\\training.py:3103: UserWarning: You are saving your model as an HDF5 file via `model.save()`. This file format is considered legacy. We recommend using instead the native Keras format, e.g. `model.save('my_model.keras')`.\n",
            "  saving_api.save_model(\n"
          ]
        }
      ],
      "source": [
        "model_mobilenet.save('model/custom_model_ssd.h5')"
      ]
    },
    {
      "cell_type": "markdown",
      "metadata": {},
      "source": [
        "### **Testing the Model**"
      ]
    },
    {
      "cell_type": "code",
      "execution_count": 35,
      "metadata": {},
      "outputs": [
        {
          "name": "stdout",
          "output_type": "stream",
          "text": [
            "3/3 [==============================] - 1s 119ms/step\n"
          ]
        }
      ],
      "source": [
        "predictions = model_mobilenet.predict(test_generator)"
      ]
    },
    {
      "cell_type": "markdown",
      "metadata": {},
      "source": [
        "### **Model Evaluation**"
      ]
    },
    {
      "cell_type": "code",
      "execution_count": 38,
      "metadata": {},
      "outputs": [],
      "source": [
        "cars_y_test_arr = cars_y_test.tolist()"
      ]
    },
    {
      "cell_type": "code",
      "execution_count": 46,
      "metadata": {},
      "outputs": [
        {
          "data": {
            "text/plain": [
              "[3,\n",
              " 3,\n",
              " 3,\n",
              " 3,\n",
              " 3,\n",
              " 3,\n",
              " 3,\n",
              " 3,\n",
              " 5,\n",
              " 5,\n",
              " 5,\n",
              " 3,\n",
              " 3,\n",
              " 5,\n",
              " 3,\n",
              " 5,\n",
              " 3,\n",
              " 3,\n",
              " 3,\n",
              " 3,\n",
              " 3,\n",
              " 6,\n",
              " 3,\n",
              " 5,\n",
              " 3,\n",
              " 9,\n",
              " 3,\n",
              " 5,\n",
              " 5,\n",
              " 5,\n",
              " 5,\n",
              " 6,\n",
              " 3,\n",
              " 6,\n",
              " 10,\n",
              " 5,\n",
              " 3,\n",
              " 9,\n",
              " 5,\n",
              " 5,\n",
              " 3,\n",
              " 9,\n",
              " 3,\n",
              " 3,\n",
              " 3,\n",
              " 5,\n",
              " 3,\n",
              " 5,\n",
              " 5,\n",
              " 3,\n",
              " 3,\n",
              " 5,\n",
              " 3,\n",
              " 3,\n",
              " 5,\n",
              " 3,\n",
              " 3,\n",
              " 5,\n",
              " 5,\n",
              " 3,\n",
              " 3,\n",
              " 5,\n",
              " 3,\n",
              " 6,\n",
              " 3,\n",
              " 5,\n",
              " 3,\n",
              " 5,\n",
              " 3,\n",
              " 3,\n",
              " 9,\n",
              " 5,\n",
              " 3,\n",
              " 3,\n",
              " 3,\n",
              " 5,\n",
              " 5,\n",
              " 5,\n",
              " 9,\n",
              " 9,\n",
              " 9,\n",
              " 5,\n",
              " 3,\n",
              " 3,\n",
              " 9,\n",
              " 3,\n",
              " 3,\n",
              " 5,\n",
              " 5,\n",
              " 3,\n",
              " 9,\n",
              " 3,\n",
              " 6,\n",
              " 5,\n",
              " 5,\n",
              " 3,\n",
              " 5,\n",
              " 3,\n",
              " 5,\n",
              " 3,\n",
              " 6,\n",
              " 5,\n",
              " 3,\n",
              " 3,\n",
              " 5,\n",
              " 9,\n",
              " 5,\n",
              " 9,\n",
              " 3,\n",
              " 6,\n",
              " 5,\n",
              " 9,\n",
              " 5,\n",
              " 3,\n",
              " 3,\n",
              " 3,\n",
              " 1,\n",
              " 5,\n",
              " 3,\n",
              " 9,\n",
              " 9,\n",
              " 9,\n",
              " 3,\n",
              " 9,\n",
              " 9,\n",
              " 2,\n",
              " 3,\n",
              " 3,\n",
              " 2,\n",
              " 5,\n",
              " 9,\n",
              " 3,\n",
              " 5,\n",
              " 5,\n",
              " 5,\n",
              " 5,\n",
              " 5,\n",
              " 2,\n",
              " 2,\n",
              " 2,\n",
              " 5,\n",
              " 3,\n",
              " 5,\n",
              " 3,\n",
              " 6,\n",
              " 3,\n",
              " 3,\n",
              " 3,\n",
              " 9,\n",
              " 5,\n",
              " 3,\n",
              " 9,\n",
              " 6,\n",
              " 10,\n",
              " 3,\n",
              " 3,\n",
              " 5,\n",
              " 6,\n",
              " 5,\n",
              " 6,\n",
              " 9,\n",
              " 3,\n",
              " 3,\n",
              " 5,\n",
              " 3,\n",
              " 10,\n",
              " 5,\n",
              " 5,\n",
              " 9,\n",
              " 3,\n",
              " 9,\n",
              " 3,\n",
              " 9,\n",
              " 5,\n",
              " 9,\n",
              " 3,\n",
              " 5,\n",
              " 5,\n",
              " 5,\n",
              " 6,\n",
              " 6,\n",
              " 10,\n",
              " 3,\n",
              " 9,\n",
              " 5,\n",
              " 9,\n",
              " 5,\n",
              " 6,\n",
              " 5,\n",
              " 5,\n",
              " 3,\n",
              " 9,\n",
              " 5,\n",
              " 5,\n",
              " 9,\n",
              " 5,\n",
              " 9,\n",
              " 3,\n",
              " 5,\n",
              " 6,\n",
              " 9,\n",
              " 3,\n",
              " 3,\n",
              " 5,\n",
              " 5,\n",
              " 5,\n",
              " 3,\n",
              " 3,\n",
              " 1,\n",
              " 9,\n",
              " 5,\n",
              " 3,\n",
              " 3,\n",
              " 5,\n",
              " 9,\n",
              " 5,\n",
              " 5,\n",
              " 3,\n",
              " 9,\n",
              " 3,\n",
              " 3,\n",
              " 3,\n",
              " 1,\n",
              " 5,\n",
              " 5,\n",
              " 2,\n",
              " 5,\n",
              " 5,\n",
              " 9,\n",
              " 5,\n",
              " 5,\n",
              " 3,\n",
              " 3,\n",
              " 5,\n",
              " 10,\n",
              " 9,\n",
              " 3,\n",
              " 5,\n",
              " 3,\n",
              " 5,\n",
              " 1,\n",
              " 5,\n",
              " 3,\n",
              " 5,\n",
              " 5,\n",
              " 10,\n",
              " 5,\n",
              " 3,\n",
              " 5,\n",
              " 3,\n",
              " 3,\n",
              " 5,\n",
              " 5,\n",
              " 3,\n",
              " 6,\n",
              " 9,\n",
              " 2,\n",
              " 5,\n",
              " 3,\n",
              " 5,\n",
              " 5,\n",
              " 3,\n",
              " 3,\n",
              " 3,\n",
              " 5,\n",
              " 5,\n",
              " 3,\n",
              " 3,\n",
              " 5,\n",
              " 3,\n",
              " 5,\n",
              " 5,\n",
              " 3,\n",
              " 5,\n",
              " 6,\n",
              " 6,\n",
              " 10,\n",
              " 5,\n",
              " 3,\n",
              " 3,\n",
              " 5,\n",
              " 6,\n",
              " 5,\n",
              " 9,\n",
              " 3,\n",
              " 3,\n",
              " 5,\n",
              " 9,\n",
              " 3,\n",
              " 5,\n",
              " 3,\n",
              " 3,\n",
              " 9,\n",
              " 3,\n",
              " 5,\n",
              " 6,\n",
              " 3,\n",
              " 5,\n",
              " 5,\n",
              " 9]"
            ]
          },
          "execution_count": 46,
          "metadata": {},
          "output_type": "execute_result"
        }
      ],
      "source": [
        "cars_y_test_arr"
      ]
    },
    {
      "cell_type": "code",
      "execution_count": 44,
      "metadata": {},
      "outputs": [
        {
          "data": {
            "text/html": [
              "<div>\n",
              "<style scoped>\n",
              "    .dataframe tbody tr th:only-of-type {\n",
              "        vertical-align: middle;\n",
              "    }\n",
              "\n",
              "    .dataframe tbody tr th {\n",
              "        vertical-align: top;\n",
              "    }\n",
              "\n",
              "    .dataframe thead th {\n",
              "        text-align: right;\n",
              "    }\n",
              "</style>\n",
              "<table border=\"1\" class=\"dataframe\">\n",
              "  <thead>\n",
              "    <tr style=\"text-align: right;\">\n",
              "      <th></th>\n",
              "      <th>id</th>\n",
              "      <th>image_id</th>\n",
              "      <th>category_id</th>\n",
              "      <th>bbox</th>\n",
              "    </tr>\n",
              "  </thead>\n",
              "  <tbody>\n",
              "    <tr>\n",
              "      <th>0</th>\n",
              "      <td>0</td>\n",
              "      <td>0</td>\n",
              "      <td>3</td>\n",
              "      <td>[325, 143, 20.5, 25]</td>\n",
              "    </tr>\n",
              "    <tr>\n",
              "      <th>1</th>\n",
              "      <td>1</td>\n",
              "      <td>0</td>\n",
              "      <td>3</td>\n",
              "      <td>[339, 157, 26.5, 42.5]</td>\n",
              "    </tr>\n",
              "    <tr>\n",
              "      <th>2</th>\n",
              "      <td>2</td>\n",
              "      <td>0</td>\n",
              "      <td>3</td>\n",
              "      <td>[152, 186, 47, 49]</td>\n",
              "    </tr>\n",
              "    <tr>\n",
              "      <th>3</th>\n",
              "      <td>3</td>\n",
              "      <td>1</td>\n",
              "      <td>3</td>\n",
              "      <td>[174, 174, 33, 68.5]</td>\n",
              "    </tr>\n",
              "    <tr>\n",
              "      <th>4</th>\n",
              "      <td>4</td>\n",
              "      <td>2</td>\n",
              "      <td>3</td>\n",
              "      <td>[140, 146, 18.5, 27]</td>\n",
              "    </tr>\n",
              "    <tr>\n",
              "      <th>...</th>\n",
              "      <td>...</td>\n",
              "      <td>...</td>\n",
              "      <td>...</td>\n",
              "      <td>...</td>\n",
              "    </tr>\n",
              "    <tr>\n",
              "      <th>1668</th>\n",
              "      <td>1668</td>\n",
              "      <td>289</td>\n",
              "      <td>3</td>\n",
              "      <td>[1, 220, 42, 49.5]</td>\n",
              "    </tr>\n",
              "    <tr>\n",
              "      <th>1669</th>\n",
              "      <td>1669</td>\n",
              "      <td>289</td>\n",
              "      <td>9</td>\n",
              "      <td>[305, 203, 53.5, 106.5]</td>\n",
              "    </tr>\n",
              "    <tr>\n",
              "      <th>1670</th>\n",
              "      <td>1670</td>\n",
              "      <td>290</td>\n",
              "      <td>5</td>\n",
              "      <td>[192, 240, 26, 41.5]</td>\n",
              "    </tr>\n",
              "    <tr>\n",
              "      <th>1671</th>\n",
              "      <td>1671</td>\n",
              "      <td>290</td>\n",
              "      <td>5</td>\n",
              "      <td>[316, 282, 44.5, 56]</td>\n",
              "    </tr>\n",
              "    <tr>\n",
              "      <th>1672</th>\n",
              "      <td>1672</td>\n",
              "      <td>290</td>\n",
              "      <td>3</td>\n",
              "      <td>[363, 295, 53, 58]</td>\n",
              "    </tr>\n",
              "  </tbody>\n",
              "</table>\n",
              "<p>1673 rows × 4 columns</p>\n",
              "</div>"
            ],
            "text/plain": [
              "        id  image_id  category_id                     bbox\n",
              "0        0         0            3     [325, 143, 20.5, 25]\n",
              "1        1         0            3   [339, 157, 26.5, 42.5]\n",
              "2        2         0            3       [152, 186, 47, 49]\n",
              "3        3         1            3     [174, 174, 33, 68.5]\n",
              "4        4         2            3     [140, 146, 18.5, 27]\n",
              "...    ...       ...          ...                      ...\n",
              "1668  1668       289            3       [1, 220, 42, 49.5]\n",
              "1669  1669       289            9  [305, 203, 53.5, 106.5]\n",
              "1670  1670       290            5     [192, 240, 26, 41.5]\n",
              "1671  1671       290            5     [316, 282, 44.5, 56]\n",
              "1672  1672       290            3       [363, 295, 53, 58]\n",
              "\n",
              "[1673 rows x 4 columns]"
            ]
          },
          "execution_count": 44,
          "metadata": {},
          "output_type": "execute_result"
        }
      ],
      "source": [
        "annotations_test_df"
      ]
    },
    {
      "cell_type": "code",
      "execution_count": 57,
      "metadata": {
        "colab": {
          "base_uri": "https://localhost:8080/"
        },
        "id": "_B6rxnbqrQCz",
        "outputId": "f949cae0-3c08-459a-cef6-fafea8e8789a"
      },
      "outputs": [
        {
          "name": "stdout",
          "output_type": "stream",
          "text": [
            "accuracy: 31.33%\n",
            "{0: [0, 0], 1: [0, 0], 2: [0, 4], 3: [63, 92], 4: [0, 0], 5: [25, 51], 6: [0, 2], 7: [0, 0], 8: [0, 0], 9: [5, 38], 10: [1, 19]}\n",
            "0\t0\t0\t0\t0\t0\t0\t0\t0\t0\t0\t\n",
            "0\t0\t0\t0\t0\t0\t0\t0\t0\t0\t0\t\n",
            "0\t0\t0\t0\t0\t0\t0\t0\t0\t0\t0\t\n",
            "0\t0\t0\t0\t0\t0\t0\t0\t0\t0\t0\t\n",
            "0\t0\t0\t0\t0\t0\t0\t0\t0\t0\t0\t\n",
            "0\t0\t0\t0\t0\t0\t0\t0\t0\t0\t0\t\n",
            "0\t0\t0\t0\t0\t0\t0\t0\t0\t0\t0\t\n",
            "0\t0\t0\t0\t0\t0\t0\t0\t0\t0\t0\t\n",
            "0\t0\t0\t0\t0\t0\t0\t0\t0\t0\t0\t\n",
            "0\t0\t0\t0\t0\t0\t0\t0\t0\t0\t0\t\n",
            "0\t0\t0\t0\t0\t0\t0\t0\t0\t0\t0\t\n"
          ]
        }
      ],
      "source": [
        "correct_answers = 0\n",
        "\n",
        "status = {i: [0, 0] for i in range(11)}\n",
        "answers = [[0 for i in range(11)] for j in range(11)]\n",
        "\n",
        "for p in range(len(predictions)):\n",
        "  label_pred = np.max(predictions[p])\n",
        "  index = np.where(predictions[p] == label_pred)[0]\n",
        "  \n",
        "  answer = np.max(cars_y_test_arr[p])\n",
        "  pred = np.where(cars_y_test_arr[p] == answer)[0]\n",
        "\n",
        "\n",
        "  if index == answer:\n",
        "    correct_answers += 1\n",
        "    status[index[0]][0] += 1\n",
        "  else:\n",
        "    status[index[0]][1] += 1\n",
        "    \n",
        "\n",
        "print(\"accuracy: \", np.round(correct_answers/len(predictions) * 100, 2), \"%\", sep = \"\")\n",
        "\n",
        "print(status)\n",
        "\n",
        "for r in answers:\n",
        "  for c in r:\n",
        "    print(c, end = \"\\t\")\n",
        "  print()"
      ]
    }
  ],
  "metadata": {
    "colab": {
      "provenance": []
    },
    "kernelspec": {
      "display_name": "Python 3",
      "name": "python3"
    },
    "language_info": {
      "codemirror_mode": {
        "name": "ipython",
        "version": 3
      },
      "file_extension": ".py",
      "mimetype": "text/x-python",
      "name": "python",
      "nbconvert_exporter": "python",
      "pygments_lexer": "ipython3",
      "version": "3.11.9"
    }
  },
  "nbformat": 4,
  "nbformat_minor": 0
}
