{
  "cells": [
    {
      "cell_type": "markdown",
      "metadata": {
        "id": "bW7wkYTDMrJp"
      },
      "source": [
        "### **Initial Setup**"
      ]
    },
    {
      "cell_type": "code",
      "execution_count": 137,
      "metadata": {
        "id": "2ASEoEALMwow"
      },
      "outputs": [],
      "source": [
        "import tensorflow as tf\n",
        "import tensorflow_hub as hub\n",
        "import pandas as pd\n",
        "\n",
        "import matplotlib.pyplot as plt\n",
        "import numpy as np\n",
        "from PIL import Image"
      ]
    },
    {
      "cell_type": "code",
      "execution_count": 138,
      "metadata": {
        "colab": {
          "base_uri": "https://localhost:8080/"
        },
        "id": "PwBr4FiAMyVb",
        "outputId": "78be52d4-d162-47cc-c12e-af79a9af5cbe"
      },
      "outputs": [
        {
          "name": "stdout",
          "output_type": "stream",
          "text": [
            "2.15.0\n"
          ]
        }
      ],
      "source": [
        "print(tf.__version__)"
      ]
    },
    {
      "cell_type": "markdown",
      "metadata": {
        "id": "kOEyEefNM-8K"
      },
      "source": [
        "### **Importing Image Details (Cars)**"
      ]
    },
    {
      "cell_type": "code",
      "execution_count": 139,
      "metadata": {
        "id": "aK8kIodJM0QM"
      },
      "outputs": [],
      "source": [
        "cars_folder = \"datasets/Car Counting.v1i.coco/\""
      ]
    },
    {
      "cell_type": "code",
      "execution_count": 140,
      "metadata": {
        "colab": {
          "base_uri": "https://localhost:8080/"
        },
        "id": "0onBtOukNFZl",
        "outputId": "f8d0b767-8d02-4898-92ab-88d500e8ef59"
      },
      "outputs": [
        {
          "name": "stdout",
          "output_type": "stream",
          "text": [
            "loading annotations into memory...\n",
            "Done (t=0.22s)\n",
            "creating index...\n",
            "index created!\n",
            "loading annotations into memory...\n",
            "Done (t=0.02s)\n",
            "creating index...\n",
            "index created!\n"
          ]
        }
      ],
      "source": [
        "from pycocotools.coco import COCO\n",
        "\n",
        "cars_info_train = cars_folder + \"train/_annotations.coco.json\"\n",
        "cars_COCO_train = COCO(cars_info_train)\n",
        "\n",
        "cars_info_test = cars_folder + \"test/_annotations.coco.json\"\n",
        "cars_COCO_test = COCO(cars_info_test)"
      ]
    },
    {
      "cell_type": "code",
      "execution_count": 141,
      "metadata": {
        "colab": {
          "base_uri": "https://localhost:8080/"
        },
        "id": "zPZ_QMLgNIEk",
        "outputId": "e9d1f2e2-3773-4f80-e95d-5b09ffb82f8d"
      },
      "outputs": [
        {
          "name": "stdout",
          "output_type": "stream",
          "text": [
            "Total images: 5536\n",
            "Image example:\n",
            "{'id': 3076, 'license': 1, 'file_name': 'DOH_5--video-converter_com-_mp4-21_jpg.rf.b8e79fe46fa7b6a0ec5111d9bb694306.jpg', 'height': 416, 'width': 416, 'date_captured': '2023-07-16T10:33:59+00:00'}\n",
            "\n",
            "Total annotations: 31431\n",
            "Annotation example:\n",
            "{'id': 17300, 'image_id': 3076, 'category_id': 5, 'bbox': [206, 145, 47.5, 46], 'area': 2185, 'segmentation': [], 'iscrowd': 0}\n"
          ]
        }
      ],
      "source": [
        "imgIds = cars_COCO_train.getImgIds()\n",
        "print(\"Total images: {}\".format(len(imgIds)))\n",
        "rand=np.random.randint(0,len(imgIds))\n",
        "img = cars_COCO_train.loadImgs(imgIds[rand])[0]\n",
        "print(\"Image example:\")\n",
        "print(img)\n",
        "annIds=cars_COCO_train.getAnnIds()\n",
        "print(\"\\nTotal annotations: {}\".format(len(annIds)))\n",
        "ann=cars_COCO_train.loadAnns(cars_COCO_train.getAnnIds(imgIds=img['id']))\n",
        "print(\"Annotation example:\")\n",
        "print(ann[0])"
      ]
    },
    {
      "cell_type": "code",
      "execution_count": 142,
      "metadata": {
        "colab": {
          "base_uri": "https://localhost:8080/"
        },
        "id": "moRlW9-_NIr0",
        "outputId": "e784cd10-20de-4027-e069-d6cb5744332d"
      },
      "outputs": [
        {
          "name": "stdout",
          "output_type": "stream",
          "text": [
            "Number of categories: 11\n",
            "\n",
            "COCO categories: \n",
            "cc Bus Motorcyecle Pickup SUV Sedan Suv TRUCK TUCK Truck Van\n",
            "\n"
          ]
        }
      ],
      "source": [
        "car_categories = cars_COCO_train.loadCats(cars_COCO_train.getCatIds())\n",
        "print(\"Number of categories: {}\".format(len(car_categories)))\n",
        "cars_kinds = [category['name'] for category in car_categories]\n",
        "print('\\nCOCO categories: \\n{}\\n'.format(' '.join(cars_kinds)))"
      ]
    },
    {
      "cell_type": "markdown",
      "metadata": {
        "id": "yby_AXvBeuyi"
      },
      "source": [
        "### **Setting Up Dataframes**"
      ]
    },
    {
      "cell_type": "code",
      "execution_count": 143,
      "metadata": {
        "id": "9xtlWPtFbpo3"
      },
      "outputs": [],
      "source": [
        "ann_ids = cars_COCO_train.getAnnIds()\n",
        "\n",
        "annotations_list = cars_COCO_train.loadAnns(ann_ids[0:len(ann_ids)])\n",
        "\n",
        "annotations_df = pd.DataFrame(annotations_list)\n",
        "annotations_df = annotations_df.drop([\"segmentation\", \"area\", \"iscrowd\"], axis=1)"
      ]
    },
    {
      "cell_type": "code",
      "execution_count": 144,
      "metadata": {
        "colab": {
          "base_uri": "https://localhost:8080/",
          "height": 444
        },
        "id": "9MxaPLkGcVD9",
        "outputId": "6adf3e8a-aece-414a-d7aa-b8941b54efd8"
      },
      "outputs": [
        {
          "data": {
            "text/html": [
              "<div>\n",
              "<style scoped>\n",
              "    .dataframe tbody tr th:only-of-type {\n",
              "        vertical-align: middle;\n",
              "    }\n",
              "\n",
              "    .dataframe tbody tr th {\n",
              "        vertical-align: top;\n",
              "    }\n",
              "\n",
              "    .dataframe thead th {\n",
              "        text-align: right;\n",
              "    }\n",
              "</style>\n",
              "<table border=\"1\" class=\"dataframe\">\n",
              "  <thead>\n",
              "    <tr style=\"text-align: right;\">\n",
              "      <th></th>\n",
              "      <th>id</th>\n",
              "      <th>image_id</th>\n",
              "      <th>category_id</th>\n",
              "      <th>bbox</th>\n",
              "    </tr>\n",
              "  </thead>\n",
              "  <tbody>\n",
              "    <tr>\n",
              "      <th>0</th>\n",
              "      <td>0</td>\n",
              "      <td>0</td>\n",
              "      <td>6</td>\n",
              "      <td>[102, 150, 35, 43.5]</td>\n",
              "    </tr>\n",
              "    <tr>\n",
              "      <th>1</th>\n",
              "      <td>1</td>\n",
              "      <td>0</td>\n",
              "      <td>5</td>\n",
              "      <td>[162, 163, 21.5, 24]</td>\n",
              "    </tr>\n",
              "    <tr>\n",
              "      <th>2</th>\n",
              "      <td>2</td>\n",
              "      <td>0</td>\n",
              "      <td>5</td>\n",
              "      <td>[133, 169, 21.5, 18]</td>\n",
              "    </tr>\n",
              "    <tr>\n",
              "      <th>3</th>\n",
              "      <td>3</td>\n",
              "      <td>0</td>\n",
              "      <td>3</td>\n",
              "      <td>[147, 223, 35.5, 43]</td>\n",
              "    </tr>\n",
              "    <tr>\n",
              "      <th>4</th>\n",
              "      <td>4</td>\n",
              "      <td>1</td>\n",
              "      <td>9</td>\n",
              "      <td>[88, 110, 66, 58]</td>\n",
              "    </tr>\n",
              "    <tr>\n",
              "      <th>...</th>\n",
              "      <td>...</td>\n",
              "      <td>...</td>\n",
              "      <td>...</td>\n",
              "      <td>...</td>\n",
              "    </tr>\n",
              "    <tr>\n",
              "      <th>31426</th>\n",
              "      <td>31426</td>\n",
              "      <td>5535</td>\n",
              "      <td>5</td>\n",
              "      <td>[227, 269, 25, 39.5]</td>\n",
              "    </tr>\n",
              "    <tr>\n",
              "      <th>31427</th>\n",
              "      <td>31427</td>\n",
              "      <td>5535</td>\n",
              "      <td>10</td>\n",
              "      <td>[10, 280, 36.5, 34.5]</td>\n",
              "    </tr>\n",
              "    <tr>\n",
              "      <th>31428</th>\n",
              "      <td>31428</td>\n",
              "      <td>5535</td>\n",
              "      <td>3</td>\n",
              "      <td>[149, 268, 33, 60.5]</td>\n",
              "    </tr>\n",
              "    <tr>\n",
              "      <th>31429</th>\n",
              "      <td>31429</td>\n",
              "      <td>5535</td>\n",
              "      <td>6</td>\n",
              "      <td>[10, 303, 38, 42.5]</td>\n",
              "    </tr>\n",
              "    <tr>\n",
              "      <th>31430</th>\n",
              "      <td>31430</td>\n",
              "      <td>5535</td>\n",
              "      <td>5</td>\n",
              "      <td>[59, 319, 39.5, 49]</td>\n",
              "    </tr>\n",
              "  </tbody>\n",
              "</table>\n",
              "<p>31431 rows × 4 columns</p>\n",
              "</div>"
            ],
            "text/plain": [
              "          id  image_id  category_id                   bbox\n",
              "0          0         0            6   [102, 150, 35, 43.5]\n",
              "1          1         0            5   [162, 163, 21.5, 24]\n",
              "2          2         0            5   [133, 169, 21.5, 18]\n",
              "3          3         0            3   [147, 223, 35.5, 43]\n",
              "4          4         1            9      [88, 110, 66, 58]\n",
              "...      ...       ...          ...                    ...\n",
              "31426  31426      5535            5   [227, 269, 25, 39.5]\n",
              "31427  31427      5535           10  [10, 280, 36.5, 34.5]\n",
              "31428  31428      5535            3   [149, 268, 33, 60.5]\n",
              "31429  31429      5535            6    [10, 303, 38, 42.5]\n",
              "31430  31430      5535            5    [59, 319, 39.5, 49]\n",
              "\n",
              "[31431 rows x 4 columns]"
            ]
          },
          "execution_count": 144,
          "metadata": {},
          "output_type": "execute_result"
        }
      ],
      "source": [
        "annotations_df"
      ]
    },
    {
      "cell_type": "code",
      "execution_count": 145,
      "metadata": {
        "id": "VAUUF5Gkr6fv"
      },
      "outputs": [],
      "source": [
        "image_ids = cars_COCO_train.getImgIds()\n",
        "\n",
        "image_list = cars_COCO_train.loadImgs(imgIds[0:len(image_ids)])\n",
        "\n",
        "image_df = pd.DataFrame(image_list)\n",
        "image_df = image_df.drop([\"date_captured\", \"license\"], axis=1)\n",
        "image_df.rename(columns={'id':'image_id'}, inplace=True)"
      ]
    },
    {
      "cell_type": "code",
      "execution_count": 146,
      "metadata": {
        "colab": {
          "base_uri": "https://localhost:8080/",
          "height": 444
        },
        "id": "LY1OWUM3dpIi",
        "outputId": "36dc568c-e163-42a0-f8a1-7005e91812fc"
      },
      "outputs": [
        {
          "data": {
            "text/html": [
              "<div>\n",
              "<style scoped>\n",
              "    .dataframe tbody tr th:only-of-type {\n",
              "        vertical-align: middle;\n",
              "    }\n",
              "\n",
              "    .dataframe tbody tr th {\n",
              "        vertical-align: top;\n",
              "    }\n",
              "\n",
              "    .dataframe thead th {\n",
              "        text-align: right;\n",
              "    }\n",
              "</style>\n",
              "<table border=\"1\" class=\"dataframe\">\n",
              "  <thead>\n",
              "    <tr style=\"text-align: right;\">\n",
              "      <th></th>\n",
              "      <th>image_id</th>\n",
              "      <th>file_name</th>\n",
              "      <th>height</th>\n",
              "      <th>width</th>\n",
              "    </tr>\n",
              "  </thead>\n",
              "  <tbody>\n",
              "    <tr>\n",
              "      <th>0</th>\n",
              "      <td>0</td>\n",
              "      <td>DOH_10_mp4-5_jpg.rf.1b99964f5eada026f922d24242...</td>\n",
              "      <td>416</td>\n",
              "      <td>416</td>\n",
              "    </tr>\n",
              "    <tr>\n",
              "      <th>1</th>\n",
              "      <td>1</td>\n",
              "      <td>DOH--video-converter_com-_mp4-29_jpg.rf.1bb791...</td>\n",
              "      <td>416</td>\n",
              "      <td>416</td>\n",
              "    </tr>\n",
              "    <tr>\n",
              "      <th>2</th>\n",
              "      <td>2</td>\n",
              "      <td>DOH_mp4-15_jpg.rf.1bca0d965b9c7bdf418f144f385e...</td>\n",
              "      <td>416</td>\n",
              "      <td>416</td>\n",
              "    </tr>\n",
              "    <tr>\n",
              "      <th>3</th>\n",
              "      <td>3</td>\n",
              "      <td>DOH_12_mp4-1_jpg.rf.1bab660cb143eedf004f4f4594...</td>\n",
              "      <td>416</td>\n",
              "      <td>416</td>\n",
              "    </tr>\n",
              "    <tr>\n",
              "      <th>4</th>\n",
              "      <td>4</td>\n",
              "      <td>DOH_mp4-13_jpg.rf.1bf23eb96868d1d271d4e44f6229...</td>\n",
              "      <td>416</td>\n",
              "      <td>416</td>\n",
              "    </tr>\n",
              "    <tr>\n",
              "      <th>...</th>\n",
              "      <td>...</td>\n",
              "      <td>...</td>\n",
              "      <td>...</td>\n",
              "      <td>...</td>\n",
              "    </tr>\n",
              "    <tr>\n",
              "      <th>5531</th>\n",
              "      <td>5531</td>\n",
              "      <td>DOH_4_mp4-18_jpg.rf.9d790097613dad0b42d71db69c...</td>\n",
              "      <td>416</td>\n",
              "      <td>416</td>\n",
              "    </tr>\n",
              "    <tr>\n",
              "      <th>5532</th>\n",
              "      <td>5532</td>\n",
              "      <td>DOH_3_mp4-18_jpg.rf.9cf78475ac7f2f6ff2be5381bd...</td>\n",
              "      <td>416</td>\n",
              "      <td>416</td>\n",
              "    </tr>\n",
              "    <tr>\n",
              "      <th>5533</th>\n",
              "      <td>5533</td>\n",
              "      <td>DOH_7_mp4-1_jpg.rf.9bb67a2bc97408e3bd27c431bab...</td>\n",
              "      <td>416</td>\n",
              "      <td>416</td>\n",
              "    </tr>\n",
              "    <tr>\n",
              "      <th>5534</th>\n",
              "      <td>5534</td>\n",
              "      <td>DOH_3_mp4-18_jpg.rf.9d72f5ebc6892fa37a04bf02c1...</td>\n",
              "      <td>416</td>\n",
              "      <td>416</td>\n",
              "    </tr>\n",
              "    <tr>\n",
              "      <th>5535</th>\n",
              "      <td>5535</td>\n",
              "      <td>DOH_mp4-15_jpg.rf.9d96ca8d3bcac3594961fc4745d4...</td>\n",
              "      <td>416</td>\n",
              "      <td>416</td>\n",
              "    </tr>\n",
              "  </tbody>\n",
              "</table>\n",
              "<p>5536 rows × 4 columns</p>\n",
              "</div>"
            ],
            "text/plain": [
              "      image_id                                          file_name  height  \\\n",
              "0            0  DOH_10_mp4-5_jpg.rf.1b99964f5eada026f922d24242...     416   \n",
              "1            1  DOH--video-converter_com-_mp4-29_jpg.rf.1bb791...     416   \n",
              "2            2  DOH_mp4-15_jpg.rf.1bca0d965b9c7bdf418f144f385e...     416   \n",
              "3            3  DOH_12_mp4-1_jpg.rf.1bab660cb143eedf004f4f4594...     416   \n",
              "4            4  DOH_mp4-13_jpg.rf.1bf23eb96868d1d271d4e44f6229...     416   \n",
              "...        ...                                                ...     ...   \n",
              "5531      5531  DOH_4_mp4-18_jpg.rf.9d790097613dad0b42d71db69c...     416   \n",
              "5532      5532  DOH_3_mp4-18_jpg.rf.9cf78475ac7f2f6ff2be5381bd...     416   \n",
              "5533      5533  DOH_7_mp4-1_jpg.rf.9bb67a2bc97408e3bd27c431bab...     416   \n",
              "5534      5534  DOH_3_mp4-18_jpg.rf.9d72f5ebc6892fa37a04bf02c1...     416   \n",
              "5535      5535  DOH_mp4-15_jpg.rf.9d96ca8d3bcac3594961fc4745d4...     416   \n",
              "\n",
              "      width  \n",
              "0       416  \n",
              "1       416  \n",
              "2       416  \n",
              "3       416  \n",
              "4       416  \n",
              "...     ...  \n",
              "5531    416  \n",
              "5532    416  \n",
              "5533    416  \n",
              "5534    416  \n",
              "5535    416  \n",
              "\n",
              "[5536 rows x 4 columns]"
            ]
          },
          "execution_count": 146,
          "metadata": {},
          "output_type": "execute_result"
        }
      ],
      "source": [
        "image_df"
      ]
    },
    {
      "cell_type": "markdown",
      "metadata": {
        "id": "UeaG9IymezV3"
      },
      "source": [
        "### **Setting Up Training Data**"
      ]
    },
    {
      "cell_type": "code",
      "execution_count": 147,
      "metadata": {
        "id": "2bttFO4EfQhG"
      },
      "outputs": [],
      "source": [
        "image_to_annotations_df = annotations_df[\"image_id\"].value_counts().sort_index().reset_index() # https://stackoverflow.com/questions/35893176/how-to-assign-a-value-count-output-to-a-dataframe\n",
        "image_to_annotations_df.columns=[\"image_id\", \"vehicle_count\"]"
      ]
    },
    {
      "cell_type": "code",
      "execution_count": 148,
      "metadata": {
        "colab": {
          "base_uri": "https://localhost:8080/",
          "height": 444
        },
        "id": "7W_81056rWGA",
        "outputId": "2894fadf-2a36-4bbd-86da-495d377488ee"
      },
      "outputs": [
        {
          "data": {
            "text/html": [
              "<div>\n",
              "<style scoped>\n",
              "    .dataframe tbody tr th:only-of-type {\n",
              "        vertical-align: middle;\n",
              "    }\n",
              "\n",
              "    .dataframe tbody tr th {\n",
              "        vertical-align: top;\n",
              "    }\n",
              "\n",
              "    .dataframe thead th {\n",
              "        text-align: right;\n",
              "    }\n",
              "</style>\n",
              "<table border=\"1\" class=\"dataframe\">\n",
              "  <thead>\n",
              "    <tr style=\"text-align: right;\">\n",
              "      <th></th>\n",
              "      <th>image_id</th>\n",
              "      <th>vehicle_count</th>\n",
              "    </tr>\n",
              "  </thead>\n",
              "  <tbody>\n",
              "    <tr>\n",
              "      <th>0</th>\n",
              "      <td>0</td>\n",
              "      <td>4</td>\n",
              "    </tr>\n",
              "    <tr>\n",
              "      <th>1</th>\n",
              "      <td>1</td>\n",
              "      <td>6</td>\n",
              "    </tr>\n",
              "    <tr>\n",
              "      <th>2</th>\n",
              "      <td>2</td>\n",
              "      <td>5</td>\n",
              "    </tr>\n",
              "    <tr>\n",
              "      <th>3</th>\n",
              "      <td>3</td>\n",
              "      <td>2</td>\n",
              "    </tr>\n",
              "    <tr>\n",
              "      <th>4</th>\n",
              "      <td>4</td>\n",
              "      <td>6</td>\n",
              "    </tr>\n",
              "    <tr>\n",
              "      <th>...</th>\n",
              "      <td>...</td>\n",
              "      <td>...</td>\n",
              "    </tr>\n",
              "    <tr>\n",
              "      <th>5531</th>\n",
              "      <td>5531</td>\n",
              "      <td>3</td>\n",
              "    </tr>\n",
              "    <tr>\n",
              "      <th>5532</th>\n",
              "      <td>5532</td>\n",
              "      <td>4</td>\n",
              "    </tr>\n",
              "    <tr>\n",
              "      <th>5533</th>\n",
              "      <td>5533</td>\n",
              "      <td>7</td>\n",
              "    </tr>\n",
              "    <tr>\n",
              "      <th>5534</th>\n",
              "      <td>5534</td>\n",
              "      <td>5</td>\n",
              "    </tr>\n",
              "    <tr>\n",
              "      <th>5535</th>\n",
              "      <td>5535</td>\n",
              "      <td>16</td>\n",
              "    </tr>\n",
              "  </tbody>\n",
              "</table>\n",
              "<p>5536 rows × 2 columns</p>\n",
              "</div>"
            ],
            "text/plain": [
              "      image_id  vehicle_count\n",
              "0            0              4\n",
              "1            1              6\n",
              "2            2              5\n",
              "3            3              2\n",
              "4            4              6\n",
              "...        ...            ...\n",
              "5531      5531              3\n",
              "5532      5532              4\n",
              "5533      5533              7\n",
              "5534      5534              5\n",
              "5535      5535             16\n",
              "\n",
              "[5536 rows x 2 columns]"
            ]
          },
          "execution_count": 148,
          "metadata": {},
          "output_type": "execute_result"
        }
      ],
      "source": [
        "image_to_annotations_df"
      ]
    },
    {
      "cell_type": "code",
      "execution_count": 149,
      "metadata": {
        "id": "z5lPpKSprj5Q"
      },
      "outputs": [],
      "source": [
        "vehicle_count = [i for i in image_to_annotations_df.vehicle_count]\n",
        "image_df.insert(4, \"vehicle_count\", vehicle_count)"
      ]
    },
    {
      "cell_type": "code",
      "execution_count": 150,
      "metadata": {
        "colab": {
          "base_uri": "https://localhost:8080/",
          "height": 444
        },
        "id": "JZyqx42-6w3j",
        "outputId": "e9d3b007-48c2-4508-8bed-2edd6b6af516"
      },
      "outputs": [
        {
          "data": {
            "text/html": [
              "<div>\n",
              "<style scoped>\n",
              "    .dataframe tbody tr th:only-of-type {\n",
              "        vertical-align: middle;\n",
              "    }\n",
              "\n",
              "    .dataframe tbody tr th {\n",
              "        vertical-align: top;\n",
              "    }\n",
              "\n",
              "    .dataframe thead th {\n",
              "        text-align: right;\n",
              "    }\n",
              "</style>\n",
              "<table border=\"1\" class=\"dataframe\">\n",
              "  <thead>\n",
              "    <tr style=\"text-align: right;\">\n",
              "      <th></th>\n",
              "      <th>id</th>\n",
              "      <th>image_id</th>\n",
              "      <th>category_id</th>\n",
              "      <th>bbox</th>\n",
              "      <th>file_name</th>\n",
              "      <th>height</th>\n",
              "      <th>width</th>\n",
              "    </tr>\n",
              "  </thead>\n",
              "  <tbody>\n",
              "    <tr>\n",
              "      <th>0</th>\n",
              "      <td>0</td>\n",
              "      <td>0</td>\n",
              "      <td>6</td>\n",
              "      <td>[102, 150, 35, 43.5]</td>\n",
              "      <td>DOH_10_mp4-5_jpg.rf.1b99964f5eada026f922d24242...</td>\n",
              "      <td>416</td>\n",
              "      <td>416</td>\n",
              "    </tr>\n",
              "    <tr>\n",
              "      <th>1</th>\n",
              "      <td>1</td>\n",
              "      <td>0</td>\n",
              "      <td>5</td>\n",
              "      <td>[162, 163, 21.5, 24]</td>\n",
              "      <td>DOH_10_mp4-5_jpg.rf.1b99964f5eada026f922d24242...</td>\n",
              "      <td>416</td>\n",
              "      <td>416</td>\n",
              "    </tr>\n",
              "    <tr>\n",
              "      <th>2</th>\n",
              "      <td>2</td>\n",
              "      <td>0</td>\n",
              "      <td>5</td>\n",
              "      <td>[133, 169, 21.5, 18]</td>\n",
              "      <td>DOH_10_mp4-5_jpg.rf.1b99964f5eada026f922d24242...</td>\n",
              "      <td>416</td>\n",
              "      <td>416</td>\n",
              "    </tr>\n",
              "    <tr>\n",
              "      <th>3</th>\n",
              "      <td>3</td>\n",
              "      <td>0</td>\n",
              "      <td>3</td>\n",
              "      <td>[147, 223, 35.5, 43]</td>\n",
              "      <td>DOH_10_mp4-5_jpg.rf.1b99964f5eada026f922d24242...</td>\n",
              "      <td>416</td>\n",
              "      <td>416</td>\n",
              "    </tr>\n",
              "    <tr>\n",
              "      <th>4</th>\n",
              "      <td>4</td>\n",
              "      <td>1</td>\n",
              "      <td>9</td>\n",
              "      <td>[88, 110, 66, 58]</td>\n",
              "      <td>DOH--video-converter_com-_mp4-29_jpg.rf.1bb791...</td>\n",
              "      <td>416</td>\n",
              "      <td>416</td>\n",
              "    </tr>\n",
              "    <tr>\n",
              "      <th>...</th>\n",
              "      <td>...</td>\n",
              "      <td>...</td>\n",
              "      <td>...</td>\n",
              "      <td>...</td>\n",
              "      <td>...</td>\n",
              "      <td>...</td>\n",
              "      <td>...</td>\n",
              "    </tr>\n",
              "    <tr>\n",
              "      <th>31426</th>\n",
              "      <td>31426</td>\n",
              "      <td>5535</td>\n",
              "      <td>5</td>\n",
              "      <td>[227, 269, 25, 39.5]</td>\n",
              "      <td>DOH_mp4-15_jpg.rf.9d96ca8d3bcac3594961fc4745d4...</td>\n",
              "      <td>416</td>\n",
              "      <td>416</td>\n",
              "    </tr>\n",
              "    <tr>\n",
              "      <th>31427</th>\n",
              "      <td>31427</td>\n",
              "      <td>5535</td>\n",
              "      <td>10</td>\n",
              "      <td>[10, 280, 36.5, 34.5]</td>\n",
              "      <td>DOH_mp4-15_jpg.rf.9d96ca8d3bcac3594961fc4745d4...</td>\n",
              "      <td>416</td>\n",
              "      <td>416</td>\n",
              "    </tr>\n",
              "    <tr>\n",
              "      <th>31428</th>\n",
              "      <td>31428</td>\n",
              "      <td>5535</td>\n",
              "      <td>3</td>\n",
              "      <td>[149, 268, 33, 60.5]</td>\n",
              "      <td>DOH_mp4-15_jpg.rf.9d96ca8d3bcac3594961fc4745d4...</td>\n",
              "      <td>416</td>\n",
              "      <td>416</td>\n",
              "    </tr>\n",
              "    <tr>\n",
              "      <th>31429</th>\n",
              "      <td>31429</td>\n",
              "      <td>5535</td>\n",
              "      <td>6</td>\n",
              "      <td>[10, 303, 38, 42.5]</td>\n",
              "      <td>DOH_mp4-15_jpg.rf.9d96ca8d3bcac3594961fc4745d4...</td>\n",
              "      <td>416</td>\n",
              "      <td>416</td>\n",
              "    </tr>\n",
              "    <tr>\n",
              "      <th>31430</th>\n",
              "      <td>31430</td>\n",
              "      <td>5535</td>\n",
              "      <td>5</td>\n",
              "      <td>[59, 319, 39.5, 49]</td>\n",
              "      <td>DOH_mp4-15_jpg.rf.9d96ca8d3bcac3594961fc4745d4...</td>\n",
              "      <td>416</td>\n",
              "      <td>416</td>\n",
              "    </tr>\n",
              "  </tbody>\n",
              "</table>\n",
              "<p>31431 rows × 7 columns</p>\n",
              "</div>"
            ],
            "text/plain": [
              "          id  image_id  category_id                   bbox  \\\n",
              "0          0         0            6   [102, 150, 35, 43.5]   \n",
              "1          1         0            5   [162, 163, 21.5, 24]   \n",
              "2          2         0            5   [133, 169, 21.5, 18]   \n",
              "3          3         0            3   [147, 223, 35.5, 43]   \n",
              "4          4         1            9      [88, 110, 66, 58]   \n",
              "...      ...       ...          ...                    ...   \n",
              "31426  31426      5535            5   [227, 269, 25, 39.5]   \n",
              "31427  31427      5535           10  [10, 280, 36.5, 34.5]   \n",
              "31428  31428      5535            3   [149, 268, 33, 60.5]   \n",
              "31429  31429      5535            6    [10, 303, 38, 42.5]   \n",
              "31430  31430      5535            5    [59, 319, 39.5, 49]   \n",
              "\n",
              "                                               file_name  height  width  \n",
              "0      DOH_10_mp4-5_jpg.rf.1b99964f5eada026f922d24242...     416    416  \n",
              "1      DOH_10_mp4-5_jpg.rf.1b99964f5eada026f922d24242...     416    416  \n",
              "2      DOH_10_mp4-5_jpg.rf.1b99964f5eada026f922d24242...     416    416  \n",
              "3      DOH_10_mp4-5_jpg.rf.1b99964f5eada026f922d24242...     416    416  \n",
              "4      DOH--video-converter_com-_mp4-29_jpg.rf.1bb791...     416    416  \n",
              "...                                                  ...     ...    ...  \n",
              "31426  DOH_mp4-15_jpg.rf.9d96ca8d3bcac3594961fc4745d4...     416    416  \n",
              "31427  DOH_mp4-15_jpg.rf.9d96ca8d3bcac3594961fc4745d4...     416    416  \n",
              "31428  DOH_mp4-15_jpg.rf.9d96ca8d3bcac3594961fc4745d4...     416    416  \n",
              "31429  DOH_mp4-15_jpg.rf.9d96ca8d3bcac3594961fc4745d4...     416    416  \n",
              "31430  DOH_mp4-15_jpg.rf.9d96ca8d3bcac3594961fc4745d4...     416    416  \n",
              "\n",
              "[31431 rows x 7 columns]"
            ]
          },
          "execution_count": 150,
          "metadata": {},
          "output_type": "execute_result"
        }
      ],
      "source": [
        "image_and_annotations_df = pd.merge(annotations_df, image_df, on=\"image_id\")\n",
        "image_and_annotations_df.drop([\"vehicle_count\"], axis=1)"
      ]
    },
    {
      "cell_type": "markdown",
      "metadata": {
        "id": "_KCy_qfK4Wx8"
      },
      "source": [
        "### **Extracting Cars from Images**\n",
        "\n",
        "Source: https://www.kaggle.com/code/aryankansal2019/face-mask-detection-classsifier-using-cnn"
      ]
    },
    {
      "cell_type": "code",
      "execution_count": 151,
      "metadata": {
        "id": "3bcPgXO50as6"
      },
      "outputs": [],
      "source": [
        "from PIL import Image\n",
        "\n",
        "def crop_image(image_path, bbox):\n",
        "  img = Image.open(image_path)\n",
        "\n",
        "  left, top, width, height = bbox\n",
        "  cropped = img.crop((left, top, left + width, top + height))\n",
        "\n",
        "  return cropped"
      ]
    },
    {
      "cell_type": "code",
      "execution_count": 152,
      "metadata": {
        "colab": {
          "base_uri": "https://localhost:8080/",
          "height": 81
        },
        "id": "IRGOU0q41d80",
        "outputId": "daca28ac-978c-40ea-b1f7-9aaa009411a0"
      },
      "outputs": [
        {
          "data": {
            "image/png": "[encoded data removed]",
            "text/plain": [
              "<PIL.Image.Image image mode=RGB size=35x44>"
            ]
          },
          "execution_count": 152,
          "metadata": {},
          "output_type": "execute_result"
        }
      ],
      "source": [
        "crop_image(cars_folder + \"train/DOH_10_mp4-5_jpg.rf.1b99964f5eada026f922d242423833c8.jpg\", annotations_df[\"bbox\"][0])"
      ]
    },
    {
      "cell_type": "code",
      "execution_count": 153,
      "metadata": {
        "id": "ZnbtNnn11BAp"
      },
      "outputs": [],
      "source": [
        "def extract_cars(image_name, dataframe):\n",
        "  cars_image = []\n",
        "\n",
        "  df_one_img = dataframe[dataframe['file_name'] == image_name][\"bbox\"]\n",
        "\n",
        "  path = cars_folder + \"train/\" + image_name\n",
        "  for row in df_one_img:\n",
        "    img = crop_image(path, row)\n",
        "    cars_image.append(img)\n",
        "\n",
        "  return cars_image"
      ]
    },
    {
      "cell_type": "code",
      "execution_count": 154,
      "metadata": {
        "colab": {
          "base_uri": "https://localhost:8080/",
          "height": 1000
        },
        "id": "Zz_moRY35nJ_",
        "outputId": "a421bfeb-d2a9-4afd-ace7-17b40d11bbe1"
      },
      "outputs": [],
      "source": [
        "for i in extract_cars(\"DOH_10_mp4-5_jpg.rf.1b99964f5eada026f922d242423833c8.jpg\", image_and_annotations_df):\n",
        "  plt.figure()\n",
        "  plt.imshow(i)"
      ]
    },
    {
      "cell_type": "code",
      "execution_count": 155,
      "metadata": {
        "id": "Rt-8iJulAppl"
      },
      "outputs": [],
      "source": [
        "# Extraction of images is done locally as it takes so long to do in colab\n",
        "\n",
        "# cropped_images = [extract_cars(img, image_and_annotations_df) for img in image_df[\"file_name\"]]\n",
        "\n",
        "# ctr = 0\n",
        "\n",
        "# for arr in cropped_images:\n",
        "#   for img in arr:\n",
        "#     height, width = img.height, img.width\n",
        "#     max_size = max(height, width)\n",
        "#     r = max_size / 128\n",
        "#     new_width = int(width / r)\n",
        "#     new_height = int(height / r)\n",
        "#     new_size = (new_width, new_height)\n",
        "#  \n",
        "#     img = img.resize(new_size, Image.Resampling.LANCZOS)\n",
        "# \n",
        "#     new_img = np.zeros((128, 128, 3), dtype=np.uint8)\n",
        "#     new_img[0:new_height, 0:new_width] = img\n",
        "#     new_img = Image.fromarray(new_img)\n",
        "#     new_img.save(f\"extracted_resized_train/{ctr}.jpg\")\n",
        "#\n",
        "#     ctr += 1\n",
        "\n"
      ]
    },
    {
      "cell_type": "code",
      "execution_count": 189,
      "metadata": {
        "id": "Sp9zGqeHA6ch"
      },
      "outputs": [],
      "source": [
        "extracted_cars_folder = \"datasets/train_2100_128x128\"\n",
        "extracted_cars_valid = \"datasets/valid_600_128x128\"\n",
        "extracted_cars_test = \"datasets/test_300_128x128\""
      ]
    },
    {
      "cell_type": "code",
      "execution_count": 190,
      "metadata": {
        "colab": {
          "base_uri": "https://localhost:8080/",
          "height": 165
        },
        "id": "aYGDP7sKezPh",
        "outputId": "76796633-0ae7-43ed-e887-ea8d56854598"
      },
      "outputs": [
        {
          "data": {
            "image/png": "[encoded data removed]",
            "text/plain": [
              "<PIL.JpegImagePlugin.JpegImageFile image mode=RGB size=128x128>"
            ]
          },
          "execution_count": 190,
          "metadata": {},
          "output_type": "execute_result"
        }
      ],
      "source": [
        "Image.open(extracted_cars_folder + \"/0.jpg\")"
      ]
    },
    {
      "cell_type": "markdown",
      "metadata": {},
      "source": [
        "### **Preprocessing Train and Valid Datasets**"
      ]
    },
    {
      "cell_type": "code",
      "execution_count": 191,
      "metadata": {
        "id": "Y-vlmHDCKSDy"
      },
      "outputs": [],
      "source": [
        "import os\n",
        "\n",
        "img_size = 128\n",
        "\n",
        "def load_images_from_folder(folder_path):\n",
        "  images = []\n",
        "  for filename in os.listdir(folder_path):\n",
        "    img_path = os.path.join(folder_path, filename)\n",
        "    image = tf.keras.utils.load_img(img_path)\n",
        "    imageArr = np.asarray(image) / 255.0 # change values from 0-255 to 0-1\n",
        "    images.append(imageArr)\n",
        "  return images"
      ]
    },
    {
      "cell_type": "code",
      "execution_count": 192,
      "metadata": {
        "id": "TULiM5hiLZ4D"
      },
      "outputs": [],
      "source": [
        "cars_x_train = np.array(load_images_from_folder(extracted_cars_folder))"
      ]
    },
    {
      "cell_type": "code",
      "execution_count": 193,
      "metadata": {
        "id": "RbCIaGu2S_RM"
      },
      "outputs": [],
      "source": [
        "cars_y_train = annotations_df[\"category_id\"][0:2100]\n",
        "\n",
        "from tensorflow.keras.utils import to_categorical\n",
        "\n",
        "cars_y_train = to_categorical(cars_y_train) # change category_id into one-hot encoding"
      ]
    },
    {
      "cell_type": "code",
      "execution_count": 194,
      "metadata": {
        "colab": {
          "base_uri": "https://localhost:8080/"
        },
        "id": "_KQHGABSZrah",
        "outputId": "0777b4d8-7728-4410-860c-7ebb0b1001b1"
      },
      "outputs": [
        {
          "name": "stdout",
          "output_type": "stream",
          "text": [
            "(2100, 128, 128, 3)\n",
            "(2100, 11)\n"
          ]
        }
      ],
      "source": [
        "print(cars_x_train.shape)\n",
        "print(cars_y_train.shape)"
      ]
    },
    {
      "cell_type": "code",
      "execution_count": 195,
      "metadata": {},
      "outputs": [],
      "source": [
        "cars_x_valid = np.array(load_images_from_folder(extracted_cars_valid))"
      ]
    },
    {
      "cell_type": "code",
      "execution_count": 196,
      "metadata": {},
      "outputs": [],
      "source": [
        "cars_y_valid = annotations_df[\"category_id\"][2100:2700]\n",
        "\n",
        "from tensorflow.keras.utils import to_categorical\n",
        "\n",
        "cars_y_valid = to_categorical(cars_y_valid) # change category_id into one-hot encoding"
      ]
    },
    {
      "cell_type": "code",
      "execution_count": 197,
      "metadata": {},
      "outputs": [
        {
          "name": "stdout",
          "output_type": "stream",
          "text": [
            "(600, 128, 128, 3)\n",
            "(600, 11)\n"
          ]
        }
      ],
      "source": [
        "print(cars_x_valid.shape)\n",
        "print(cars_y_valid.shape)"
      ]
    },
    {
      "cell_type": "markdown",
      "metadata": {
        "id": "IU5Dv779Fm_j"
      },
      "source": [
        "### **Setting Up Model**"
      ]
    },
    {
      "cell_type": "code",
      "execution_count": 198,
      "metadata": {
        "id": "kQHF9z0WNLCK"
      },
      "outputs": [],
      "source": [
        "img_size = 128\n",
        "batch_size = 50\n",
        "\n",
        "input_shape = (img_size, img_size, 3)\n",
        "output_shape = 11 # how many categories"
      ]
    },
    {
      "cell_type": "code",
      "execution_count": 205,
      "metadata": {
        "colab": {
          "base_uri": "https://localhost:8080/"
        },
        "id": "R-2Kv_MFFHzw",
        "outputId": "7fafca47-4c85-48b2-9ed0-d04456816c90"
      },
      "outputs": [
        {
          "name": "stdout",
          "output_type": "stream",
          "text": [
            "Model: \"sequential_22\"\n",
            "_________________________________________________________________\n",
            " Layer (type)                Output Shape              Param #   \n",
            "=================================================================\n",
            " keras_layer_22 (KerasLayer  (None, 1280)              410208    \n",
            " )                                                               \n",
            "                                                                 \n",
            " dense_22 (Dense)            (None, 11)                14091     \n",
            "                                                                 \n",
            "=================================================================\n",
            "Total params: 424299 (1.62 MB)\n",
            "Trainable params: 410219 (1.56 MB)\n",
            "Non-trainable params: 14080 (55.00 KB)\n",
            "_________________________________________________________________\n"
          ]
        }
      ],
      "source": [
        "import tensorflow as tf\n",
        "import tensorflow_hub as hub\n",
        "\n",
        "model_mobilenet = tf.keras.Sequential([\n",
        "    hub.KerasLayer('https://www.kaggle.com/models/google/mobilenet-v2/TensorFlow2/035-128-feature-vector/2',\n",
        "                  trainable=True, input_shape=[128, 128, 3]),\n",
        "    tf.keras.layers.Dense(11, activation='softmax'),\n",
        "])\n",
        "\n",
        "model_mobilenet.compile(\n",
        "    optimizer=tf.keras.optimizers.Adam(),\n",
        "              loss=tf.keras.losses.CategoricalCrossentropy(),\n",
        "              metrics=['accuracy','Recall', 'Precision', 'AUC'])\n",
        "\n",
        "model_mobilenet.summary()"
      ]
    },
    {
      "cell_type": "markdown",
      "metadata": {
        "id": "LBcg1ATBpC9g"
      },
      "source": [
        "### **Training the Model**"
      ]
    },
    {
      "cell_type": "code",
      "execution_count": 206,
      "metadata": {},
      "outputs": [
        {
          "name": "stdout",
          "output_type": "stream",
          "text": [
            "(50, 128, 128, 3) (50, 11)\n",
            "Epoch 1/10\n",
            "2/2 [==============================] - 22s 138ms/step - loss: 2.9774 - accuracy: 0.1000 - recall: 0.0000e+00 - precision: 0.0000e+00 - auc: 0.4830\n",
            "Epoch 2/10\n",
            "2/2 [==============================] - 0s 139ms/step - loss: 0.4463 - accuracy: 0.9200 - recall: 0.8200 - precision: 0.9762 - auc: 0.9981\n",
            "Epoch 3/10\n",
            "2/2 [==============================] - 0s 139ms/step - loss: 0.1063 - accuracy: 1.0000 - recall: 1.0000 - precision: 1.0000 - auc: 1.0000\n",
            "Epoch 4/10\n",
            "2/2 [==============================] - 0s 128ms/step - loss: 0.0560 - accuracy: 1.0000 - recall: 1.0000 - precision: 1.0000 - auc: 1.0000\n",
            "Epoch 5/10\n",
            "2/2 [==============================] - 0s 136ms/step - loss: 0.0643 - accuracy: 1.0000 - recall: 1.0000 - precision: 1.0000 - auc: 1.0000\n",
            "Epoch 6/10\n",
            "2/2 [==============================] - 0s 129ms/step - loss: 0.0550 - accuracy: 1.0000 - recall: 1.0000 - precision: 1.0000 - auc: 1.0000\n",
            "Epoch 7/10\n",
            "2/2 [==============================] - 0s 137ms/step - loss: 0.0411 - accuracy: 1.0000 - recall: 1.0000 - precision: 1.0000 - auc: 1.0000\n",
            "Epoch 8/10\n",
            "2/2 [==============================] - 0s 131ms/step - loss: 0.0341 - accuracy: 1.0000 - recall: 1.0000 - precision: 1.0000 - auc: 1.0000\n",
            "Epoch 9/10\n",
            "2/2 [==============================] - 0s 125ms/step - loss: 0.0350 - accuracy: 1.0000 - recall: 1.0000 - precision: 1.0000 - auc: 1.0000\n",
            "Epoch 10/10\n",
            "2/2 [==============================] - 0s 125ms/step - loss: 0.0342 - accuracy: 1.0000 - recall: 1.0000 - precision: 1.0000 - auc: 1.0000\n",
            "(50, 128, 128, 3) (50, 11)\n",
            "Epoch 1/10\n",
            "2/2 [==============================] - 0s 135ms/step - loss: 3.0106 - accuracy: 0.3800 - recall: 0.3800 - precision: 0.3958 - auc: 0.7805\n",
            "Epoch 2/10\n",
            "2/2 [==============================] - 0s 136ms/step - loss: 0.9373 - accuracy: 0.7400 - recall: 0.7200 - precision: 0.8182 - auc: 0.9582\n",
            "Epoch 3/10\n",
            "2/2 [==============================] - 0s 123ms/step - loss: 0.2155 - accuracy: 0.9600 - recall: 0.9400 - precision: 0.9792 - auc: 0.9992\n",
            "Epoch 4/10\n",
            "2/2 [==============================] - 0s 130ms/step - loss: 0.0903 - accuracy: 1.0000 - recall: 1.0000 - precision: 1.0000 - auc: 1.0000\n",
            "Epoch 5/10\n",
            "2/2 [==============================] - 0s 119ms/step - loss: 0.0767 - accuracy: 0.9800 - recall: 0.9800 - precision: 0.9800 - auc: 1.0000\n",
            "Epoch 6/10\n",
            "2/2 [==============================] - 0s 129ms/step - loss: 0.0985 - accuracy: 1.0000 - recall: 0.9800 - precision: 1.0000 - auc: 1.0000\n",
            "Epoch 7/10\n",
            "2/2 [==============================] - 0s 124ms/step - loss: 0.0518 - accuracy: 1.0000 - recall: 1.0000 - precision: 1.0000 - auc: 1.0000\n",
            "Epoch 8/10\n",
            "2/2 [==============================] - 0s 132ms/step - loss: 0.0536 - accuracy: 1.0000 - recall: 1.0000 - precision: 1.0000 - auc: 1.0000\n",
            "Epoch 9/10\n",
            "2/2 [==============================] - 0s 152ms/step - loss: 0.0505 - accuracy: 1.0000 - recall: 1.0000 - precision: 1.0000 - auc: 1.0000\n",
            "Epoch 10/10\n",
            "2/2 [==============================] - 0s 118ms/step - loss: 0.0371 - accuracy: 1.0000 - recall: 1.0000 - precision: 1.0000 - auc: 1.0000\n",
            "(50, 128, 128, 3) (50, 11)\n",
            "Epoch 1/10\n",
            "2/2 [==============================] - 0s 121ms/step - loss: 3.4911 - accuracy: 0.2800 - recall: 0.2200 - precision: 0.2500 - auc: 0.7698\n",
            "Epoch 2/10\n",
            "2/2 [==============================] - 0s 123ms/step - loss: 1.0189 - accuracy: 0.6400 - recall: 0.6000 - precision: 0.7143 - auc: 0.9443\n",
            "Epoch 3/10\n",
            "2/2 [==============================] - 0s 124ms/step - loss: 0.3026 - accuracy: 0.9000 - recall: 0.9000 - precision: 0.9574 - auc: 0.9961\n",
            "Epoch 4/10\n",
            "2/2 [==============================] - 0s 126ms/step - loss: 0.1702 - accuracy: 0.9600 - recall: 0.9600 - precision: 0.9600 - auc: 0.9994\n",
            "Epoch 5/10\n",
            "2/2 [==============================] - 0s 131ms/step - loss: 0.0860 - accuracy: 1.0000 - recall: 0.9800 - precision: 1.0000 - auc: 1.0000\n",
            "Epoch 6/10\n",
            "2/2 [==============================] - 0s 128ms/step - loss: 0.0990 - accuracy: 0.9800 - recall: 0.9800 - precision: 0.9800 - auc: 0.9999\n",
            "Epoch 7/10\n",
            "2/2 [==============================] - 0s 128ms/step - loss: 0.0532 - accuracy: 1.0000 - recall: 1.0000 - precision: 1.0000 - auc: 1.0000\n",
            "Epoch 8/10\n",
            "2/2 [==============================] - 0s 118ms/step - loss: 0.0555 - accuracy: 1.0000 - recall: 1.0000 - precision: 1.0000 - auc: 1.0000\n",
            "Epoch 9/10\n",
            "2/2 [==============================] - 0s 138ms/step - loss: 0.0553 - accuracy: 1.0000 - recall: 1.0000 - precision: 1.0000 - auc: 1.0000\n",
            "Epoch 10/10\n",
            "2/2 [==============================] - 0s 128ms/step - loss: 0.0418 - accuracy: 1.0000 - recall: 1.0000 - precision: 1.0000 - auc: 1.0000\n",
            "(50, 128, 128, 3) (50, 11)\n",
            "Epoch 1/10\n",
            "2/2 [==============================] - 0s 147ms/step - loss: 3.3658 - accuracy: 0.3600 - recall: 0.3400 - precision: 0.3778 - auc: 0.7344\n",
            "Epoch 2/10\n",
            "2/2 [==============================] - 0s 120ms/step - loss: 1.2563 - accuracy: 0.6600 - recall: 0.5400 - precision: 0.7105 - auc: 0.9257\n",
            "Epoch 3/10\n",
            "2/2 [==============================] - 0s 125ms/step - loss: 0.2841 - accuracy: 0.9200 - recall: 0.9000 - precision: 0.9184 - auc: 0.9978\n",
            "Epoch 4/10\n",
            "2/2 [==============================] - 0s 135ms/step - loss: 0.1794 - accuracy: 0.9400 - recall: 0.9400 - precision: 0.9400 - auc: 0.9996\n",
            "Epoch 5/10\n",
            "2/2 [==============================] - 0s 116ms/step - loss: 0.1552 - accuracy: 0.9800 - recall: 0.9800 - precision: 0.9800 - auc: 0.9992\n",
            "Epoch 6/10\n",
            "2/2 [==============================] - 0s 125ms/step - loss: 0.0893 - accuracy: 1.0000 - recall: 1.0000 - precision: 1.0000 - auc: 1.0000\n",
            "Epoch 7/10\n",
            "2/2 [==============================] - 0s 131ms/step - loss: 0.0872 - accuracy: 0.9800 - recall: 0.9800 - precision: 0.9800 - auc: 1.0000\n",
            "Epoch 8/10\n",
            "2/2 [==============================] - 0s 127ms/step - loss: 0.0468 - accuracy: 1.0000 - recall: 1.0000 - precision: 1.0000 - auc: 1.0000\n",
            "Epoch 9/10\n",
            "2/2 [==============================] - 0s 119ms/step - loss: 0.0611 - accuracy: 1.0000 - recall: 0.9800 - precision: 1.0000 - auc: 1.0000\n",
            "Epoch 10/10\n",
            "2/2 [==============================] - 0s 125ms/step - loss: 0.0479 - accuracy: 1.0000 - recall: 1.0000 - precision: 1.0000 - auc: 1.0000\n",
            "(50, 128, 128, 3) (50, 11)\n",
            "Epoch 1/10\n",
            "2/2 [==============================] - 0s 123ms/step - loss: 3.4667 - accuracy: 0.2600 - recall: 0.2400 - precision: 0.3158 - auc: 0.7461\n",
            "Epoch 2/10\n",
            "2/2 [==============================] - 0s 140ms/step - loss: 1.2872 - accuracy: 0.6600 - recall: 0.5600 - precision: 0.8000 - auc: 0.9200\n",
            "Epoch 3/10\n",
            "2/2 [==============================] - 0s 126ms/step - loss: 0.4486 - accuracy: 0.8800 - recall: 0.8400 - precision: 0.9130 - auc: 0.9914\n",
            "Epoch 4/10\n",
            "1/2 [==============>...............] - ETA: 0s - loss: 0.2272 - accuracy: 0.9375 - recall: 0.9375 - precision: 1.0000 - auc: 0.9984"
          ]
        }
      ],
      "source": [
        "dataset = tf.data.Dataset.from_tensor_slices((cars_x_train, cars_y_train))\n",
        "dataset = dataset.batch(batch_size)\n",
        "\n",
        "for X_batch, y_batch in dataset:\n",
        "  print(X_batch.shape, y_batch.shape)\n",
        "\n",
        "  model_mobilenet.fit(x = X_batch, \n",
        "                      y = y_batch, \n",
        "                      epochs=10, \n",
        "                      shuffle=True)"
      ]
    },
    {
      "cell_type": "markdown",
      "metadata": {},
      "source": [
        "### **Setting Up Testing Data**"
      ]
    },
    {
      "cell_type": "code",
      "execution_count": null,
      "metadata": {},
      "outputs": [],
      "source": [
        "ann_test_ids = cars_COCO_test.getAnnIds()\n",
        "\n",
        "annotations_test_list = cars_COCO_test.loadAnns(ann_test_ids[0:len(ann_test_ids)])\n",
        "\n",
        "annotations_test_df = pd.DataFrame(annotations_test_list)\n",
        "annotations_test_df = annotations_test_df.drop([\"segmentation\", \"area\", \"iscrowd\"], axis=1)"
      ]
    },
    {
      "cell_type": "code",
      "execution_count": null,
      "metadata": {},
      "outputs": [],
      "source": [
        "annotations_test_df.to_csv(\"anno_test.csv\")"
      ]
    },
    {
      "cell_type": "code",
      "execution_count": null,
      "metadata": {},
      "outputs": [],
      "source": [
        "image_test_ids = cars_COCO_test.getImgIds()\n",
        "\n",
        "image_test_list = cars_COCO_test.loadImgs(image_test_ids[0:len(image_test_ids)])\n",
        "\n",
        "image_test_df = pd.DataFrame(image_test_list)\n",
        "image_test_df = image_test_df.drop([\"date_captured\", \"license\"], axis=1)\n",
        "image_test_df.rename(columns={'id':'image_id'}, inplace=True)"
      ]
    },
    {
      "cell_type": "code",
      "execution_count": null,
      "metadata": {},
      "outputs": [
        {
          "data": {
            "text/html": [
              "<div>\n",
              "<style scoped>\n",
              "    .dataframe tbody tr th:only-of-type {\n",
              "        vertical-align: middle;\n",
              "    }\n",
              "\n",
              "    .dataframe tbody tr th {\n",
              "        vertical-align: top;\n",
              "    }\n",
              "\n",
              "    .dataframe thead th {\n",
              "        text-align: right;\n",
              "    }\n",
              "</style>\n",
              "<table border=\"1\" class=\"dataframe\">\n",
              "  <thead>\n",
              "    <tr style=\"text-align: right;\">\n",
              "      <th></th>\n",
              "      <th>image_id</th>\n",
              "      <th>file_name</th>\n",
              "      <th>height</th>\n",
              "      <th>width</th>\n",
              "    </tr>\n",
              "  </thead>\n",
              "  <tbody>\n",
              "    <tr>\n",
              "      <th>0</th>\n",
              "      <td>0</td>\n",
              "      <td>DOH_3--video-converter_com-_mp4-22_jpg.rf.0024...</td>\n",
              "      <td>416</td>\n",
              "      <td>416</td>\n",
              "    </tr>\n",
              "    <tr>\n",
              "      <th>1</th>\n",
              "      <td>1</td>\n",
              "      <td>DOH_5_mp4-21_jpg.rf.01da928ef3026555430baae103...</td>\n",
              "      <td>416</td>\n",
              "      <td>416</td>\n",
              "    </tr>\n",
              "    <tr>\n",
              "      <th>2</th>\n",
              "      <td>2</td>\n",
              "      <td>DOH_mp4-11_jpg.rf.031038f4fa2f553f73819a0eeaf9...</td>\n",
              "      <td>416</td>\n",
              "      <td>416</td>\n",
              "    </tr>\n",
              "    <tr>\n",
              "      <th>3</th>\n",
              "      <td>3</td>\n",
              "      <td>DOH_7_mp4-18_jpg.rf.04a4f1845ce0e6eb1e93ed4167...</td>\n",
              "      <td>416</td>\n",
              "      <td>416</td>\n",
              "    </tr>\n",
              "    <tr>\n",
              "      <th>4</th>\n",
              "      <td>4</td>\n",
              "      <td>DOH_14_mp4-16_jpg.rf.0689fe01b6858066de52df93e...</td>\n",
              "      <td>416</td>\n",
              "      <td>416</td>\n",
              "    </tr>\n",
              "    <tr>\n",
              "      <th>...</th>\n",
              "      <td>...</td>\n",
              "      <td>...</td>\n",
              "      <td>...</td>\n",
              "      <td>...</td>\n",
              "    </tr>\n",
              "    <tr>\n",
              "      <th>286</th>\n",
              "      <td>286</td>\n",
              "      <td>DOH_2--video-converter_com-_mp4-90_jpg.rf.faf2...</td>\n",
              "      <td>416</td>\n",
              "      <td>416</td>\n",
              "    </tr>\n",
              "    <tr>\n",
              "      <th>287</th>\n",
              "      <td>287</td>\n",
              "      <td>DOH_17_mp4-7_jpg.rf.f327da2fecade01765216e2d2e...</td>\n",
              "      <td>416</td>\n",
              "      <td>416</td>\n",
              "    </tr>\n",
              "    <tr>\n",
              "      <th>288</th>\n",
              "      <td>288</td>\n",
              "      <td>DOH_2_mp4-15_jpg.rf.de3fe6ac1279b91850f1af274b...</td>\n",
              "      <td>416</td>\n",
              "      <td>416</td>\n",
              "    </tr>\n",
              "    <tr>\n",
              "      <th>289</th>\n",
              "      <td>289</td>\n",
              "      <td>DOH_mp4-14_jpg.rf.dcf26fd2f070dad798195b78385d...</td>\n",
              "      <td>416</td>\n",
              "      <td>416</td>\n",
              "    </tr>\n",
              "    <tr>\n",
              "      <th>290</th>\n",
              "      <td>290</td>\n",
              "      <td>DOH_2_mp4-2_jpg.rf.f48953c10f281f6d7a391e834a5...</td>\n",
              "      <td>416</td>\n",
              "      <td>416</td>\n",
              "    </tr>\n",
              "  </tbody>\n",
              "</table>\n",
              "<p>290 rows × 4 columns</p>\n",
              "</div>"
            ],
            "text/plain": [
              "     image_id                                          file_name  height  \\\n",
              "0           0  DOH_3--video-converter_com-_mp4-22_jpg.rf.0024...     416   \n",
              "1           1  DOH_5_mp4-21_jpg.rf.01da928ef3026555430baae103...     416   \n",
              "2           2  DOH_mp4-11_jpg.rf.031038f4fa2f553f73819a0eeaf9...     416   \n",
              "3           3  DOH_7_mp4-18_jpg.rf.04a4f1845ce0e6eb1e93ed4167...     416   \n",
              "4           4  DOH_14_mp4-16_jpg.rf.0689fe01b6858066de52df93e...     416   \n",
              "..        ...                                                ...     ...   \n",
              "286       286  DOH_2--video-converter_com-_mp4-90_jpg.rf.faf2...     416   \n",
              "287       287  DOH_17_mp4-7_jpg.rf.f327da2fecade01765216e2d2e...     416   \n",
              "288       288  DOH_2_mp4-15_jpg.rf.de3fe6ac1279b91850f1af274b...     416   \n",
              "289       289  DOH_mp4-14_jpg.rf.dcf26fd2f070dad798195b78385d...     416   \n",
              "290       290  DOH_2_mp4-2_jpg.rf.f48953c10f281f6d7a391e834a5...     416   \n",
              "\n",
              "     width  \n",
              "0      416  \n",
              "1      416  \n",
              "2      416  \n",
              "3      416  \n",
              "4      416  \n",
              "..     ...  \n",
              "286    416  \n",
              "287    416  \n",
              "288    416  \n",
              "289    416  \n",
              "290    416  \n",
              "\n",
              "[290 rows x 4 columns]"
            ]
          },
          "execution_count": 178,
          "metadata": {},
          "output_type": "execute_result"
        }
      ],
      "source": [
        "image_test_df.drop([79]) # note: has no annotations"
      ]
    },
    {
      "cell_type": "code",
      "execution_count": null,
      "metadata": {},
      "outputs": [],
      "source": [
        "image_to_annotations_test_df = annotations_test_df[\"image_id\"].value_counts().sort_index().reset_index() # https://stackoverflow.com/questions/35893176/how-to-assign-a-value-count-output-to-a-dataframe\n",
        "image_to_annotations_test_df.columns=[\"image_id\", \"vehicle_count\"]"
      ]
    },
    {
      "cell_type": "code",
      "execution_count": null,
      "metadata": {},
      "outputs": [
        {
          "data": {
            "text/html": [
              "<div>\n",
              "<style scoped>\n",
              "    .dataframe tbody tr th:only-of-type {\n",
              "        vertical-align: middle;\n",
              "    }\n",
              "\n",
              "    .dataframe tbody tr th {\n",
              "        vertical-align: top;\n",
              "    }\n",
              "\n",
              "    .dataframe thead th {\n",
              "        text-align: right;\n",
              "    }\n",
              "</style>\n",
              "<table border=\"1\" class=\"dataframe\">\n",
              "  <thead>\n",
              "    <tr style=\"text-align: right;\">\n",
              "      <th></th>\n",
              "      <th>image_id</th>\n",
              "      <th>vehicle_count</th>\n",
              "    </tr>\n",
              "  </thead>\n",
              "  <tbody>\n",
              "    <tr>\n",
              "      <th>0</th>\n",
              "      <td>0</td>\n",
              "      <td>3</td>\n",
              "    </tr>\n",
              "    <tr>\n",
              "      <th>1</th>\n",
              "      <td>1</td>\n",
              "      <td>1</td>\n",
              "    </tr>\n",
              "    <tr>\n",
              "      <th>2</th>\n",
              "      <td>2</td>\n",
              "      <td>7</td>\n",
              "    </tr>\n",
              "    <tr>\n",
              "      <th>3</th>\n",
              "      <td>3</td>\n",
              "      <td>4</td>\n",
              "    </tr>\n",
              "    <tr>\n",
              "      <th>4</th>\n",
              "      <td>4</td>\n",
              "      <td>5</td>\n",
              "    </tr>\n",
              "    <tr>\n",
              "      <th>...</th>\n",
              "      <td>...</td>\n",
              "      <td>...</td>\n",
              "    </tr>\n",
              "    <tr>\n",
              "      <th>285</th>\n",
              "      <td>286</td>\n",
              "      <td>13</td>\n",
              "    </tr>\n",
              "    <tr>\n",
              "      <th>286</th>\n",
              "      <td>287</td>\n",
              "      <td>7</td>\n",
              "    </tr>\n",
              "    <tr>\n",
              "      <th>287</th>\n",
              "      <td>288</td>\n",
              "      <td>3</td>\n",
              "    </tr>\n",
              "    <tr>\n",
              "      <th>288</th>\n",
              "      <td>289</td>\n",
              "      <td>6</td>\n",
              "    </tr>\n",
              "    <tr>\n",
              "      <th>289</th>\n",
              "      <td>290</td>\n",
              "      <td>3</td>\n",
              "    </tr>\n",
              "  </tbody>\n",
              "</table>\n",
              "<p>290 rows × 2 columns</p>\n",
              "</div>"
            ],
            "text/plain": [
              "     image_id  vehicle_count\n",
              "0           0              3\n",
              "1           1              1\n",
              "2           2              7\n",
              "3           3              4\n",
              "4           4              5\n",
              "..        ...            ...\n",
              "285       286             13\n",
              "286       287              7\n",
              "287       288              3\n",
              "288       289              6\n",
              "289       290              3\n",
              "\n",
              "[290 rows x 2 columns]"
            ]
          },
          "execution_count": 180,
          "metadata": {},
          "output_type": "execute_result"
        }
      ],
      "source": [
        "image_to_annotations_test_df"
      ]
    },
    {
      "cell_type": "code",
      "execution_count": null,
      "metadata": {},
      "outputs": [
        {
          "data": {
            "text/html": [
              "<div>\n",
              "<style scoped>\n",
              "    .dataframe tbody tr th:only-of-type {\n",
              "        vertical-align: middle;\n",
              "    }\n",
              "\n",
              "    .dataframe tbody tr th {\n",
              "        vertical-align: top;\n",
              "    }\n",
              "\n",
              "    .dataframe thead th {\n",
              "        text-align: right;\n",
              "    }\n",
              "</style>\n",
              "<table border=\"1\" class=\"dataframe\">\n",
              "  <thead>\n",
              "    <tr style=\"text-align: right;\">\n",
              "      <th></th>\n",
              "      <th>id</th>\n",
              "      <th>image_id</th>\n",
              "      <th>bbox</th>\n",
              "      <th>file_name</th>\n",
              "      <th>height</th>\n",
              "      <th>width</th>\n",
              "    </tr>\n",
              "  </thead>\n",
              "  <tbody>\n",
              "    <tr>\n",
              "      <th>0</th>\n",
              "      <td>0</td>\n",
              "      <td>0</td>\n",
              "      <td>[325, 143, 20.5, 25]</td>\n",
              "      <td>DOH_3--video-converter_com-_mp4-22_jpg.rf.0024...</td>\n",
              "      <td>416</td>\n",
              "      <td>416</td>\n",
              "    </tr>\n",
              "    <tr>\n",
              "      <th>1</th>\n",
              "      <td>1</td>\n",
              "      <td>0</td>\n",
              "      <td>[339, 157, 26.5, 42.5]</td>\n",
              "      <td>DOH_3--video-converter_com-_mp4-22_jpg.rf.0024...</td>\n",
              "      <td>416</td>\n",
              "      <td>416</td>\n",
              "    </tr>\n",
              "    <tr>\n",
              "      <th>2</th>\n",
              "      <td>2</td>\n",
              "      <td>0</td>\n",
              "      <td>[152, 186, 47, 49]</td>\n",
              "      <td>DOH_3--video-converter_com-_mp4-22_jpg.rf.0024...</td>\n",
              "      <td>416</td>\n",
              "      <td>416</td>\n",
              "    </tr>\n",
              "    <tr>\n",
              "      <th>3</th>\n",
              "      <td>3</td>\n",
              "      <td>1</td>\n",
              "      <td>[174, 174, 33, 68.5]</td>\n",
              "      <td>DOH_5_mp4-21_jpg.rf.01da928ef3026555430baae103...</td>\n",
              "      <td>416</td>\n",
              "      <td>416</td>\n",
              "    </tr>\n",
              "    <tr>\n",
              "      <th>4</th>\n",
              "      <td>4</td>\n",
              "      <td>2</td>\n",
              "      <td>[140, 146, 18.5, 27]</td>\n",
              "      <td>DOH_mp4-11_jpg.rf.031038f4fa2f553f73819a0eeaf9...</td>\n",
              "      <td>416</td>\n",
              "      <td>416</td>\n",
              "    </tr>\n",
              "    <tr>\n",
              "      <th>...</th>\n",
              "      <td>...</td>\n",
              "      <td>...</td>\n",
              "      <td>...</td>\n",
              "      <td>...</td>\n",
              "      <td>...</td>\n",
              "      <td>...</td>\n",
              "    </tr>\n",
              "    <tr>\n",
              "      <th>1668</th>\n",
              "      <td>1668</td>\n",
              "      <td>289</td>\n",
              "      <td>[1, 220, 42, 49.5]</td>\n",
              "      <td>DOH_mp4-14_jpg.rf.dcf26fd2f070dad798195b78385d...</td>\n",
              "      <td>416</td>\n",
              "      <td>416</td>\n",
              "    </tr>\n",
              "    <tr>\n",
              "      <th>1669</th>\n",
              "      <td>1669</td>\n",
              "      <td>289</td>\n",
              "      <td>[305, 203, 53.5, 106.5]</td>\n",
              "      <td>DOH_mp4-14_jpg.rf.dcf26fd2f070dad798195b78385d...</td>\n",
              "      <td>416</td>\n",
              "      <td>416</td>\n",
              "    </tr>\n",
              "    <tr>\n",
              "      <th>1670</th>\n",
              "      <td>1670</td>\n",
              "      <td>290</td>\n",
              "      <td>[192, 240, 26, 41.5]</td>\n",
              "      <td>DOH_2_mp4-2_jpg.rf.f48953c10f281f6d7a391e834a5...</td>\n",
              "      <td>416</td>\n",
              "      <td>416</td>\n",
              "    </tr>\n",
              "    <tr>\n",
              "      <th>1671</th>\n",
              "      <td>1671</td>\n",
              "      <td>290</td>\n",
              "      <td>[316, 282, 44.5, 56]</td>\n",
              "      <td>DOH_2_mp4-2_jpg.rf.f48953c10f281f6d7a391e834a5...</td>\n",
              "      <td>416</td>\n",
              "      <td>416</td>\n",
              "    </tr>\n",
              "    <tr>\n",
              "      <th>1672</th>\n",
              "      <td>1672</td>\n",
              "      <td>290</td>\n",
              "      <td>[363, 295, 53, 58]</td>\n",
              "      <td>DOH_2_mp4-2_jpg.rf.f48953c10f281f6d7a391e834a5...</td>\n",
              "      <td>416</td>\n",
              "      <td>416</td>\n",
              "    </tr>\n",
              "  </tbody>\n",
              "</table>\n",
              "<p>1673 rows × 6 columns</p>\n",
              "</div>"
            ],
            "text/plain": [
              "        id  image_id                     bbox  \\\n",
              "0        0         0     [325, 143, 20.5, 25]   \n",
              "1        1         0   [339, 157, 26.5, 42.5]   \n",
              "2        2         0       [152, 186, 47, 49]   \n",
              "3        3         1     [174, 174, 33, 68.5]   \n",
              "4        4         2     [140, 146, 18.5, 27]   \n",
              "...    ...       ...                      ...   \n",
              "1668  1668       289       [1, 220, 42, 49.5]   \n",
              "1669  1669       289  [305, 203, 53.5, 106.5]   \n",
              "1670  1670       290     [192, 240, 26, 41.5]   \n",
              "1671  1671       290     [316, 282, 44.5, 56]   \n",
              "1672  1672       290       [363, 295, 53, 58]   \n",
              "\n",
              "                                              file_name  height  width  \n",
              "0     DOH_3--video-converter_com-_mp4-22_jpg.rf.0024...     416    416  \n",
              "1     DOH_3--video-converter_com-_mp4-22_jpg.rf.0024...     416    416  \n",
              "2     DOH_3--video-converter_com-_mp4-22_jpg.rf.0024...     416    416  \n",
              "3     DOH_5_mp4-21_jpg.rf.01da928ef3026555430baae103...     416    416  \n",
              "4     DOH_mp4-11_jpg.rf.031038f4fa2f553f73819a0eeaf9...     416    416  \n",
              "...                                                 ...     ...    ...  \n",
              "1668  DOH_mp4-14_jpg.rf.dcf26fd2f070dad798195b78385d...     416    416  \n",
              "1669  DOH_mp4-14_jpg.rf.dcf26fd2f070dad798195b78385d...     416    416  \n",
              "1670  DOH_2_mp4-2_jpg.rf.f48953c10f281f6d7a391e834a5...     416    416  \n",
              "1671  DOH_2_mp4-2_jpg.rf.f48953c10f281f6d7a391e834a5...     416    416  \n",
              "1672  DOH_2_mp4-2_jpg.rf.f48953c10f281f6d7a391e834a5...     416    416  \n",
              "\n",
              "[1673 rows x 6 columns]"
            ]
          },
          "execution_count": 181,
          "metadata": {},
          "output_type": "execute_result"
        }
      ],
      "source": [
        "image_and_annotations_test_df = pd.merge(annotations_test_df, image_test_df, on=\"image_id\")\n",
        "image_and_annotations_test_df.drop([\"category_id\"], axis=1)"
      ]
    },
    {
      "cell_type": "markdown",
      "metadata": {},
      "source": [
        "### **Testing the Model**"
      ]
    },
    {
      "cell_type": "code",
      "execution_count": null,
      "metadata": {
        "id": "K1JvQod6WZNc"
      },
      "outputs": [],
      "source": [
        "extracted_cars_test = \"datasets/test_300_128x128\"\n",
        "cars_x_test = np.array(load_images_from_folder(extracted_cars_test))"
      ]
    },
    {
      "cell_type": "code",
      "execution_count": null,
      "metadata": {
        "id": "Atyro697qLft"
      },
      "outputs": [],
      "source": [
        "cars_y_test = annotations_test_df[\"category_id\"][0:300]\n",
        "\n",
        "cars_y_test = to_categorical(cars_y_test) # change category_id into one-hot encoding"
      ]
    },
    {
      "cell_type": "code",
      "execution_count": null,
      "metadata": {
        "colab": {
          "base_uri": "https://localhost:8080/"
        },
        "id": "WUXjOV8SqWbJ",
        "outputId": "d222bea0-c801-4f14-d9d5-469b9dbcce7e"
      },
      "outputs": [
        {
          "name": "stdout",
          "output_type": "stream",
          "text": [
            "(300, 128, 128, 3)\n",
            "(300, 11)\n"
          ]
        }
      ],
      "source": [
        "print(cars_x_test.shape)\n",
        "print(cars_y_test.shape)"
      ]
    },
    {
      "cell_type": "code",
      "execution_count": null,
      "metadata": {
        "colab": {
          "base_uri": "https://localhost:8080/"
        },
        "id": "GPoZfUwhqaLm",
        "outputId": "b5cb5d89-2e43-460b-b34d-ab0c9807af94"
      },
      "outputs": [
        {
          "name": "stdout",
          "output_type": "stream",
          "text": [
            "2/2 [==============================] - 1s 23ms/step\n",
            "2/2 [==============================] - 0s 23ms/step\n",
            "2/2 [==============================] - 0s 21ms/step\n",
            "2/2 [==============================] - 0s 20ms/step\n",
            "2/2 [==============================] - 0s 22ms/step\n",
            "2/2 [==============================] - 0s 21ms/step\n"
          ]
        }
      ],
      "source": [
        "test_dataset = tf.data.Dataset.from_tensor_slices((cars_x_test, cars_y_test))\n",
        "test_dataset = test_dataset.batch(batch_size)\n",
        "\n",
        "predictions = []\n",
        "\n",
        "for X_batch, y_batch in test_dataset:\n",
        "  # Train the model on the current batch\n",
        "  predictions.extend(model_mobilenet.predict(x = X_batch))  # Adjust epochs as needed"
      ]
    },
    {
      "cell_type": "code",
      "execution_count": null,
      "metadata": {},
      "outputs": [],
      "source": [
        "cars_y_test_arr = cars_y_test.tolist()"
      ]
    },
    {
      "cell_type": "code",
      "execution_count": null,
      "metadata": {
        "colab": {
          "base_uri": "https://localhost:8080/"
        },
        "id": "_B6rxnbqrQCz",
        "outputId": "f949cae0-3c08-459a-cef6-fafea8e8789a"
      },
      "outputs": [
        {
          "name": "stdout",
          "output_type": "stream",
          "text": [
            "accuracy: 67.33%\n",
            "{0: [0, 0], 1: [0, 0], 2: [0, 0], 3: [154, 57], 4: [0, 0], 5: [39, 6], 6: [0, 0], 7: [0, 0], 8: [0, 0], 9: [9, 35], 10: [0, 0]}\n",
            "0\t0\t0\t0\t0\t0\t0\t0\t0\t0\t0\t\n",
            "0\t0\t0\t0\t0\t0\t0\t0\t0\t0\t0\t\n",
            "0\t0\t0\t0\t0\t0\t0\t0\t0\t0\t0\t\n",
            "0\t3\t4\t83\t0\t71\t16\t0\t0\t28\t6\t\n",
            "0\t0\t0\t0\t0\t0\t0\t0\t0\t0\t0\t\n",
            "0\t0\t0\t17\t0\t22\t2\t0\t0\t4\t0\t\n",
            "0\t0\t0\t0\t0\t0\t0\t0\t0\t0\t0\t\n",
            "0\t0\t0\t0\t0\t0\t0\t0\t0\t0\t0\t\n",
            "0\t0\t0\t0\t0\t0\t0\t0\t0\t0\t0\t\n",
            "0\t1\t3\t15\t0\t13\t2\t0\t0\t9\t1\t\n",
            "0\t0\t0\t0\t0\t0\t0\t0\t0\t0\t0\t\n"
          ]
        }
      ],
      "source": [
        "correct_answers = 0\n",
        "\n",
        "status = {i: [0, 0] for i in range(11)}\n",
        "answers = [[0 for i in range(11)] for j in range(11)]\n",
        "\n",
        "for p in range(len(predictions)):\n",
        "  label_pred = np.max(predictions[p])\n",
        "  index = np.where(predictions[p] == label_pred)[0]\n",
        "  \n",
        "  answer = np.max(cars_y_test_arr[p])\n",
        "  pred = np.where(cars_y_test_arr[p] == answer)[0]\n",
        "\n",
        "  answers[index[0]][pred[0]] += 1\n",
        "\n",
        "  if index == 3 or index == 5:\n",
        "    if pred == 3 or pred == 5:\n",
        "      correct_answers += 1\n",
        "      status[index[0]][0] += 1\n",
        "    else:\n",
        "      status[index[0]][1] += 1\n",
        "  else:\n",
        "    if index == pred:\n",
        "      correct_answers += 1\n",
        "      status[index[0]][0] += 1\n",
        "    else:\n",
        "      status[index[0]][1] += 1\n",
        "    \n",
        "\n",
        "print(\"accuracy: \", np.round(correct_answers/len(predictions) * 100, 2), \"%\", sep = \"\")\n",
        "\n",
        "print(status)\n",
        "\n",
        "for r in answers:\n",
        "  for c in r:\n",
        "    print(c, end = \"\\t\")\n",
        "  print()"
      ]
    },
    {
      "cell_type": "code",
      "execution_count": null,
      "metadata": {},
      "outputs": [],
      "source": []
    }
  ],
  "metadata": {
    "colab": {
      "provenance": []
    },
    "kernelspec": {
      "display_name": "Python 3",
      "name": "python3"
    },
    "language_info": {
      "codemirror_mode": {
        "name": "ipython",
        "version": 3
      },
      "file_extension": ".py",
      "mimetype": "text/x-python",
      "name": "python",
      "nbconvert_exporter": "python",
      "pygments_lexer": "ipython3",
      "version": "3.11.9"
    }
  },
  "nbformat": 4,
  "nbformat_minor": 0
}
