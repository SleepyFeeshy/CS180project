{
  "cells": [
    {
      "cell_type": "markdown",
      "metadata": {
        "id": "bW7wkYTDMrJp"
      },
      "source": [
        "### **Initial Setup**"
      ]
    },
    {
      "cell_type": "code",
      "execution_count": 136,
      "metadata": {
        "id": "2ASEoEALMwow"
      },
      "outputs": [],
      "source": [
        "import tensorflow as tf\n",
        "import tensorflow_hub as hub\n",
        "import pandas as pd\n",
        "\n",
        "import matplotlib.pyplot as plt\n",
        "import numpy as np\n",
        "from PIL import Image\n",
        "\n",
        "from tensorflow.keras.utils import to_categorical"
      ]
    },
    {
      "cell_type": "code",
      "execution_count": 137,
      "metadata": {
        "colab": {
          "base_uri": "https://localhost:8080/"
        },
        "id": "PwBr4FiAMyVb",
        "outputId": "78be52d4-d162-47cc-c12e-af79a9af5cbe"
      },
      "outputs": [
        {
          "name": "stdout",
          "output_type": "stream",
          "text": [
            "2.14.0\n"
          ]
        }
      ],
      "source": [
        "print(tf.__version__)"
      ]
    },
    {
      "cell_type": "markdown",
      "metadata": {
        "id": "kOEyEefNM-8K"
      },
      "source": [
        "### **Importing Image Details (Cars)**"
      ]
    },
    {
      "cell_type": "code",
      "execution_count": 138,
      "metadata": {
        "id": "aK8kIodJM0QM"
      },
      "outputs": [],
      "source": [
        "cars_folder = \"datasets/Car Counting.v1i.coco/\""
      ]
    },
    {
      "cell_type": "code",
      "execution_count": 139,
      "metadata": {
        "colab": {
          "base_uri": "https://localhost:8080/"
        },
        "id": "0onBtOukNFZl",
        "outputId": "f8d0b767-8d02-4898-92ab-88d500e8ef59"
      },
      "outputs": [
        {
          "name": "stdout",
          "output_type": "stream",
          "text": [
            "loading annotations into memory...\n",
            "Done (t=0.54s)\n",
            "creating index...\n",
            "index created!\n",
            "loading annotations into memory...\n",
            "Done (t=0.00s)\n",
            "creating index...\n",
            "index created!\n"
          ]
        }
      ],
      "source": [
        "from pycocotools.coco import COCO\n",
        "\n",
        "cars_info_train = cars_folder + \"train/_annotations.coco.json\"\n",
        "cars_COCO_train = COCO(cars_info_train)\n",
        "\n",
        "cars_info_test = cars_folder + \"test/_annotations.coco.json\"\n",
        "cars_COCO_test = COCO(cars_info_test)"
      ]
    },
    {
      "cell_type": "code",
      "execution_count": 140,
      "metadata": {
        "colab": {
          "base_uri": "https://localhost:8080/"
        },
        "id": "zPZ_QMLgNIEk",
        "outputId": "e9d1f2e2-3773-4f80-e95d-5b09ffb82f8d"
      },
      "outputs": [
        {
          "name": "stdout",
          "output_type": "stream",
          "text": [
            "Total images: 5536\n",
            "Image example:\n",
            "{'id': 1139, 'license': 1, 'file_name': 'DOH_mp4-27_jpg.rf.0b32c8265573e248cadf140d70da647a.jpg', 'height': 416, 'width': 416, 'date_captured': '2023-07-16T10:33:59+00:00'}\n",
            "\n",
            "Total annotations: 31431\n",
            "Annotation example:\n",
            "{'id': 6248, 'image_id': 1139, 'category_id': 9, 'bbox': [89, 210, 57.5, 117.5], 'area': 6756.25, 'segmentation': [], 'iscrowd': 0}\n"
          ]
        }
      ],
      "source": [
        "imgIds = cars_COCO_train.getImgIds()\n",
        "print(\"Total images: {}\".format(len(imgIds)))\n",
        "rand=np.random.randint(0,len(imgIds))\n",
        "img = cars_COCO_train.loadImgs(imgIds[rand])[0]\n",
        "print(\"Image example:\")\n",
        "print(img)\n",
        "annIds=cars_COCO_train.getAnnIds()\n",
        "print(\"\\nTotal annotations: {}\".format(len(annIds)))\n",
        "ann=cars_COCO_train.loadAnns(cars_COCO_train.getAnnIds(imgIds=img['id']))\n",
        "print(\"Annotation example:\")\n",
        "print(ann[0])"
      ]
    },
    {
      "cell_type": "code",
      "execution_count": 141,
      "metadata": {
        "colab": {
          "base_uri": "https://localhost:8080/"
        },
        "id": "moRlW9-_NIr0",
        "outputId": "e784cd10-20de-4027-e069-d6cb5744332d"
      },
      "outputs": [
        {
          "name": "stdout",
          "output_type": "stream",
          "text": [
            "Number of categories: 11\n",
            "\n",
            "COCO categories: \n",
            "cc Bus Motorcyecle Pickup SUV Sedan Suv TRUCK TUCK Truck Van\n",
            "\n"
          ]
        }
      ],
      "source": [
        "car_categories = cars_COCO_train.loadCats(cars_COCO_train.getCatIds())\n",
        "print(\"Number of categories: {}\".format(len(car_categories)))\n",
        "cars_kinds = [category['name'] for category in car_categories]\n",
        "print('\\nCOCO categories: \\n{}\\n'.format(' '.join(cars_kinds)))"
      ]
    },
    {
      "cell_type": "markdown",
      "metadata": {
        "id": "yby_AXvBeuyi"
      },
      "source": [
        "### **Setting Up Dataframes**"
      ]
    },
    {
      "cell_type": "code",
      "execution_count": 142,
      "metadata": {
        "id": "9xtlWPtFbpo3"
      },
      "outputs": [],
      "source": [
        "ann_ids = cars_COCO_train.getAnnIds()\n",
        "\n",
        "annotations_list = cars_COCO_train.loadAnns(ann_ids[0:len(ann_ids)])\n",
        "\n",
        "annotations_df = pd.DataFrame(annotations_list)\n",
        "annotations_df = annotations_df.drop([\"segmentation\", \"area\", \"iscrowd\"], axis=1)"
      ]
    },
    {
      "cell_type": "code",
      "execution_count": 143,
      "metadata": {
        "colab": {
          "base_uri": "https://localhost:8080/",
          "height": 444
        },
        "id": "9MxaPLkGcVD9",
        "outputId": "6adf3e8a-aece-414a-d7aa-b8941b54efd8"
      },
      "outputs": [
        {
          "data": {
            "text/html": [
              "<div>\n",
              "<style scoped>\n",
              "    .dataframe tbody tr th:only-of-type {\n",
              "        vertical-align: middle;\n",
              "    }\n",
              "\n",
              "    .dataframe tbody tr th {\n",
              "        vertical-align: top;\n",
              "    }\n",
              "\n",
              "    .dataframe thead th {\n",
              "        text-align: right;\n",
              "    }\n",
              "</style>\n",
              "<table border=\"1\" class=\"dataframe\">\n",
              "  <thead>\n",
              "    <tr style=\"text-align: right;\">\n",
              "      <th></th>\n",
              "      <th>id</th>\n",
              "      <th>image_id</th>\n",
              "      <th>category_id</th>\n",
              "      <th>bbox</th>\n",
              "    </tr>\n",
              "  </thead>\n",
              "  <tbody>\n",
              "    <tr>\n",
              "      <th>0</th>\n",
              "      <td>0</td>\n",
              "      <td>0</td>\n",
              "      <td>6</td>\n",
              "      <td>[102, 150, 35, 43.5]</td>\n",
              "    </tr>\n",
              "    <tr>\n",
              "      <th>1</th>\n",
              "      <td>1</td>\n",
              "      <td>0</td>\n",
              "      <td>5</td>\n",
              "      <td>[162, 163, 21.5, 24]</td>\n",
              "    </tr>\n",
              "    <tr>\n",
              "      <th>2</th>\n",
              "      <td>2</td>\n",
              "      <td>0</td>\n",
              "      <td>5</td>\n",
              "      <td>[133, 169, 21.5, 18]</td>\n",
              "    </tr>\n",
              "    <tr>\n",
              "      <th>3</th>\n",
              "      <td>3</td>\n",
              "      <td>0</td>\n",
              "      <td>3</td>\n",
              "      <td>[147, 223, 35.5, 43]</td>\n",
              "    </tr>\n",
              "    <tr>\n",
              "      <th>4</th>\n",
              "      <td>4</td>\n",
              "      <td>1</td>\n",
              "      <td>9</td>\n",
              "      <td>[88, 110, 66, 58]</td>\n",
              "    </tr>\n",
              "    <tr>\n",
              "      <th>...</th>\n",
              "      <td>...</td>\n",
              "      <td>...</td>\n",
              "      <td>...</td>\n",
              "      <td>...</td>\n",
              "    </tr>\n",
              "    <tr>\n",
              "      <th>31426</th>\n",
              "      <td>31426</td>\n",
              "      <td>5535</td>\n",
              "      <td>5</td>\n",
              "      <td>[227, 269, 25, 39.5]</td>\n",
              "    </tr>\n",
              "    <tr>\n",
              "      <th>31427</th>\n",
              "      <td>31427</td>\n",
              "      <td>5535</td>\n",
              "      <td>10</td>\n",
              "      <td>[10, 280, 36.5, 34.5]</td>\n",
              "    </tr>\n",
              "    <tr>\n",
              "      <th>31428</th>\n",
              "      <td>31428</td>\n",
              "      <td>5535</td>\n",
              "      <td>3</td>\n",
              "      <td>[149, 268, 33, 60.5]</td>\n",
              "    </tr>\n",
              "    <tr>\n",
              "      <th>31429</th>\n",
              "      <td>31429</td>\n",
              "      <td>5535</td>\n",
              "      <td>6</td>\n",
              "      <td>[10, 303, 38, 42.5]</td>\n",
              "    </tr>\n",
              "    <tr>\n",
              "      <th>31430</th>\n",
              "      <td>31430</td>\n",
              "      <td>5535</td>\n",
              "      <td>5</td>\n",
              "      <td>[59, 319, 39.5, 49]</td>\n",
              "    </tr>\n",
              "  </tbody>\n",
              "</table>\n",
              "<p>31431 rows × 4 columns</p>\n",
              "</div>"
            ],
            "text/plain": [
              "          id  image_id  category_id                   bbox\n",
              "0          0         0            6   [102, 150, 35, 43.5]\n",
              "1          1         0            5   [162, 163, 21.5, 24]\n",
              "2          2         0            5   [133, 169, 21.5, 18]\n",
              "3          3         0            3   [147, 223, 35.5, 43]\n",
              "4          4         1            9      [88, 110, 66, 58]\n",
              "...      ...       ...          ...                    ...\n",
              "31426  31426      5535            5   [227, 269, 25, 39.5]\n",
              "31427  31427      5535           10  [10, 280, 36.5, 34.5]\n",
              "31428  31428      5535            3   [149, 268, 33, 60.5]\n",
              "31429  31429      5535            6    [10, 303, 38, 42.5]\n",
              "31430  31430      5535            5    [59, 319, 39.5, 49]\n",
              "\n",
              "[31431 rows x 4 columns]"
            ]
          },
          "execution_count": 143,
          "metadata": {},
          "output_type": "execute_result"
        }
      ],
      "source": [
        "annotations_df"
      ]
    },
    {
      "cell_type": "code",
      "execution_count": 144,
      "metadata": {
        "id": "VAUUF5Gkr6fv"
      },
      "outputs": [],
      "source": [
        "image_ids = cars_COCO_train.getImgIds()\n",
        "\n",
        "image_list = cars_COCO_train.loadImgs(imgIds[0:len(image_ids)])\n",
        "\n",
        "image_df = pd.DataFrame(image_list)\n",
        "image_df = image_df.drop([\"date_captured\", \"license\"], axis=1)\n",
        "image_df.rename(columns={'id':'image_id'}, inplace=True)"
      ]
    },
    {
      "cell_type": "code",
      "execution_count": 145,
      "metadata": {
        "colab": {
          "base_uri": "https://localhost:8080/",
          "height": 444
        },
        "id": "LY1OWUM3dpIi",
        "outputId": "36dc568c-e163-42a0-f8a1-7005e91812fc"
      },
      "outputs": [
        {
          "data": {
            "text/html": [
              "<div>\n",
              "<style scoped>\n",
              "    .dataframe tbody tr th:only-of-type {\n",
              "        vertical-align: middle;\n",
              "    }\n",
              "\n",
              "    .dataframe tbody tr th {\n",
              "        vertical-align: top;\n",
              "    }\n",
              "\n",
              "    .dataframe thead th {\n",
              "        text-align: right;\n",
              "    }\n",
              "</style>\n",
              "<table border=\"1\" class=\"dataframe\">\n",
              "  <thead>\n",
              "    <tr style=\"text-align: right;\">\n",
              "      <th></th>\n",
              "      <th>image_id</th>\n",
              "      <th>file_name</th>\n",
              "      <th>height</th>\n",
              "      <th>width</th>\n",
              "    </tr>\n",
              "  </thead>\n",
              "  <tbody>\n",
              "    <tr>\n",
              "      <th>0</th>\n",
              "      <td>0</td>\n",
              "      <td>DOH_10_mp4-5_jpg.rf.1b99964f5eada026f922d24242...</td>\n",
              "      <td>416</td>\n",
              "      <td>416</td>\n",
              "    </tr>\n",
              "    <tr>\n",
              "      <th>1</th>\n",
              "      <td>1</td>\n",
              "      <td>DOH--video-converter_com-_mp4-29_jpg.rf.1bb791...</td>\n",
              "      <td>416</td>\n",
              "      <td>416</td>\n",
              "    </tr>\n",
              "    <tr>\n",
              "      <th>2</th>\n",
              "      <td>2</td>\n",
              "      <td>DOH_mp4-15_jpg.rf.1bca0d965b9c7bdf418f144f385e...</td>\n",
              "      <td>416</td>\n",
              "      <td>416</td>\n",
              "    </tr>\n",
              "    <tr>\n",
              "      <th>3</th>\n",
              "      <td>3</td>\n",
              "      <td>DOH_12_mp4-1_jpg.rf.1bab660cb143eedf004f4f4594...</td>\n",
              "      <td>416</td>\n",
              "      <td>416</td>\n",
              "    </tr>\n",
              "    <tr>\n",
              "      <th>4</th>\n",
              "      <td>4</td>\n",
              "      <td>DOH_mp4-13_jpg.rf.1bf23eb96868d1d271d4e44f6229...</td>\n",
              "      <td>416</td>\n",
              "      <td>416</td>\n",
              "    </tr>\n",
              "    <tr>\n",
              "      <th>...</th>\n",
              "      <td>...</td>\n",
              "      <td>...</td>\n",
              "      <td>...</td>\n",
              "      <td>...</td>\n",
              "    </tr>\n",
              "    <tr>\n",
              "      <th>5531</th>\n",
              "      <td>5531</td>\n",
              "      <td>DOH_4_mp4-18_jpg.rf.9d790097613dad0b42d71db69c...</td>\n",
              "      <td>416</td>\n",
              "      <td>416</td>\n",
              "    </tr>\n",
              "    <tr>\n",
              "      <th>5532</th>\n",
              "      <td>5532</td>\n",
              "      <td>DOH_3_mp4-18_jpg.rf.9cf78475ac7f2f6ff2be5381bd...</td>\n",
              "      <td>416</td>\n",
              "      <td>416</td>\n",
              "    </tr>\n",
              "    <tr>\n",
              "      <th>5533</th>\n",
              "      <td>5533</td>\n",
              "      <td>DOH_7_mp4-1_jpg.rf.9bb67a2bc97408e3bd27c431bab...</td>\n",
              "      <td>416</td>\n",
              "      <td>416</td>\n",
              "    </tr>\n",
              "    <tr>\n",
              "      <th>5534</th>\n",
              "      <td>5534</td>\n",
              "      <td>DOH_3_mp4-18_jpg.rf.9d72f5ebc6892fa37a04bf02c1...</td>\n",
              "      <td>416</td>\n",
              "      <td>416</td>\n",
              "    </tr>\n",
              "    <tr>\n",
              "      <th>5535</th>\n",
              "      <td>5535</td>\n",
              "      <td>DOH_mp4-15_jpg.rf.9d96ca8d3bcac3594961fc4745d4...</td>\n",
              "      <td>416</td>\n",
              "      <td>416</td>\n",
              "    </tr>\n",
              "  </tbody>\n",
              "</table>\n",
              "<p>5536 rows × 4 columns</p>\n",
              "</div>"
            ],
            "text/plain": [
              "      image_id                                          file_name  height  \\\n",
              "0            0  DOH_10_mp4-5_jpg.rf.1b99964f5eada026f922d24242...     416   \n",
              "1            1  DOH--video-converter_com-_mp4-29_jpg.rf.1bb791...     416   \n",
              "2            2  DOH_mp4-15_jpg.rf.1bca0d965b9c7bdf418f144f385e...     416   \n",
              "3            3  DOH_12_mp4-1_jpg.rf.1bab660cb143eedf004f4f4594...     416   \n",
              "4            4  DOH_mp4-13_jpg.rf.1bf23eb96868d1d271d4e44f6229...     416   \n",
              "...        ...                                                ...     ...   \n",
              "5531      5531  DOH_4_mp4-18_jpg.rf.9d790097613dad0b42d71db69c...     416   \n",
              "5532      5532  DOH_3_mp4-18_jpg.rf.9cf78475ac7f2f6ff2be5381bd...     416   \n",
              "5533      5533  DOH_7_mp4-1_jpg.rf.9bb67a2bc97408e3bd27c431bab...     416   \n",
              "5534      5534  DOH_3_mp4-18_jpg.rf.9d72f5ebc6892fa37a04bf02c1...     416   \n",
              "5535      5535  DOH_mp4-15_jpg.rf.9d96ca8d3bcac3594961fc4745d4...     416   \n",
              "\n",
              "      width  \n",
              "0       416  \n",
              "1       416  \n",
              "2       416  \n",
              "3       416  \n",
              "4       416  \n",
              "...     ...  \n",
              "5531    416  \n",
              "5532    416  \n",
              "5533    416  \n",
              "5534    416  \n",
              "5535    416  \n",
              "\n",
              "[5536 rows x 4 columns]"
            ]
          },
          "execution_count": 145,
          "metadata": {},
          "output_type": "execute_result"
        }
      ],
      "source": [
        "image_df"
      ]
    },
    {
      "cell_type": "markdown",
      "metadata": {
        "id": "UeaG9IymezV3"
      },
      "source": [
        "### **Setting Up Training Data**"
      ]
    },
    {
      "cell_type": "code",
      "execution_count": 146,
      "metadata": {
        "id": "2bttFO4EfQhG"
      },
      "outputs": [],
      "source": [
        "image_to_annotations_df = annotations_df[\"image_id\"].value_counts().sort_index().reset_index() # https://stackoverflow.com/questions/35893176/how-to-assign-a-value-count-output-to-a-dataframe\n",
        "image_to_annotations_df.columns=[\"image_id\", \"vehicle_count\"]"
      ]
    },
    {
      "cell_type": "code",
      "execution_count": 147,
      "metadata": {
        "colab": {
          "base_uri": "https://localhost:8080/",
          "height": 444
        },
        "id": "7W_81056rWGA",
        "outputId": "2894fadf-2a36-4bbd-86da-495d377488ee"
      },
      "outputs": [
        {
          "data": {
            "text/html": [
              "<div>\n",
              "<style scoped>\n",
              "    .dataframe tbody tr th:only-of-type {\n",
              "        vertical-align: middle;\n",
              "    }\n",
              "\n",
              "    .dataframe tbody tr th {\n",
              "        vertical-align: top;\n",
              "    }\n",
              "\n",
              "    .dataframe thead th {\n",
              "        text-align: right;\n",
              "    }\n",
              "</style>\n",
              "<table border=\"1\" class=\"dataframe\">\n",
              "  <thead>\n",
              "    <tr style=\"text-align: right;\">\n",
              "      <th></th>\n",
              "      <th>image_id</th>\n",
              "      <th>vehicle_count</th>\n",
              "    </tr>\n",
              "  </thead>\n",
              "  <tbody>\n",
              "    <tr>\n",
              "      <th>0</th>\n",
              "      <td>0</td>\n",
              "      <td>4</td>\n",
              "    </tr>\n",
              "    <tr>\n",
              "      <th>1</th>\n",
              "      <td>1</td>\n",
              "      <td>6</td>\n",
              "    </tr>\n",
              "    <tr>\n",
              "      <th>2</th>\n",
              "      <td>2</td>\n",
              "      <td>5</td>\n",
              "    </tr>\n",
              "    <tr>\n",
              "      <th>3</th>\n",
              "      <td>3</td>\n",
              "      <td>2</td>\n",
              "    </tr>\n",
              "    <tr>\n",
              "      <th>4</th>\n",
              "      <td>4</td>\n",
              "      <td>6</td>\n",
              "    </tr>\n",
              "    <tr>\n",
              "      <th>...</th>\n",
              "      <td>...</td>\n",
              "      <td>...</td>\n",
              "    </tr>\n",
              "    <tr>\n",
              "      <th>5531</th>\n",
              "      <td>5531</td>\n",
              "      <td>3</td>\n",
              "    </tr>\n",
              "    <tr>\n",
              "      <th>5532</th>\n",
              "      <td>5532</td>\n",
              "      <td>4</td>\n",
              "    </tr>\n",
              "    <tr>\n",
              "      <th>5533</th>\n",
              "      <td>5533</td>\n",
              "      <td>7</td>\n",
              "    </tr>\n",
              "    <tr>\n",
              "      <th>5534</th>\n",
              "      <td>5534</td>\n",
              "      <td>5</td>\n",
              "    </tr>\n",
              "    <tr>\n",
              "      <th>5535</th>\n",
              "      <td>5535</td>\n",
              "      <td>16</td>\n",
              "    </tr>\n",
              "  </tbody>\n",
              "</table>\n",
              "<p>5536 rows × 2 columns</p>\n",
              "</div>"
            ],
            "text/plain": [
              "      image_id  vehicle_count\n",
              "0            0              4\n",
              "1            1              6\n",
              "2            2              5\n",
              "3            3              2\n",
              "4            4              6\n",
              "...        ...            ...\n",
              "5531      5531              3\n",
              "5532      5532              4\n",
              "5533      5533              7\n",
              "5534      5534              5\n",
              "5535      5535             16\n",
              "\n",
              "[5536 rows x 2 columns]"
            ]
          },
          "execution_count": 147,
          "metadata": {},
          "output_type": "execute_result"
        }
      ],
      "source": [
        "image_to_annotations_df"
      ]
    },
    {
      "cell_type": "code",
      "execution_count": 148,
      "metadata": {
        "id": "z5lPpKSprj5Q"
      },
      "outputs": [],
      "source": [
        "vehicle_count = [i for i in image_to_annotations_df.vehicle_count]\n",
        "image_df.insert(4, \"vehicle_count\", vehicle_count)"
      ]
    },
    {
      "cell_type": "code",
      "execution_count": 149,
      "metadata": {
        "colab": {
          "base_uri": "https://localhost:8080/",
          "height": 444
        },
        "id": "JZyqx42-6w3j",
        "outputId": "e9d3b007-48c2-4508-8bed-2edd6b6af516"
      },
      "outputs": [
        {
          "data": {
            "text/html": [
              "<div>\n",
              "<style scoped>\n",
              "    .dataframe tbody tr th:only-of-type {\n",
              "        vertical-align: middle;\n",
              "    }\n",
              "\n",
              "    .dataframe tbody tr th {\n",
              "        vertical-align: top;\n",
              "    }\n",
              "\n",
              "    .dataframe thead th {\n",
              "        text-align: right;\n",
              "    }\n",
              "</style>\n",
              "<table border=\"1\" class=\"dataframe\">\n",
              "  <thead>\n",
              "    <tr style=\"text-align: right;\">\n",
              "      <th></th>\n",
              "      <th>id</th>\n",
              "      <th>image_id</th>\n",
              "      <th>category_id</th>\n",
              "      <th>bbox</th>\n",
              "      <th>file_name</th>\n",
              "      <th>height</th>\n",
              "      <th>width</th>\n",
              "    </tr>\n",
              "  </thead>\n",
              "  <tbody>\n",
              "    <tr>\n",
              "      <th>0</th>\n",
              "      <td>0</td>\n",
              "      <td>0</td>\n",
              "      <td>6</td>\n",
              "      <td>[102, 150, 35, 43.5]</td>\n",
              "      <td>DOH_10_mp4-5_jpg.rf.1b99964f5eada026f922d24242...</td>\n",
              "      <td>416</td>\n",
              "      <td>416</td>\n",
              "    </tr>\n",
              "    <tr>\n",
              "      <th>1</th>\n",
              "      <td>1</td>\n",
              "      <td>0</td>\n",
              "      <td>5</td>\n",
              "      <td>[162, 163, 21.5, 24]</td>\n",
              "      <td>DOH_10_mp4-5_jpg.rf.1b99964f5eada026f922d24242...</td>\n",
              "      <td>416</td>\n",
              "      <td>416</td>\n",
              "    </tr>\n",
              "    <tr>\n",
              "      <th>2</th>\n",
              "      <td>2</td>\n",
              "      <td>0</td>\n",
              "      <td>5</td>\n",
              "      <td>[133, 169, 21.5, 18]</td>\n",
              "      <td>DOH_10_mp4-5_jpg.rf.1b99964f5eada026f922d24242...</td>\n",
              "      <td>416</td>\n",
              "      <td>416</td>\n",
              "    </tr>\n",
              "    <tr>\n",
              "      <th>3</th>\n",
              "      <td>3</td>\n",
              "      <td>0</td>\n",
              "      <td>3</td>\n",
              "      <td>[147, 223, 35.5, 43]</td>\n",
              "      <td>DOH_10_mp4-5_jpg.rf.1b99964f5eada026f922d24242...</td>\n",
              "      <td>416</td>\n",
              "      <td>416</td>\n",
              "    </tr>\n",
              "    <tr>\n",
              "      <th>4</th>\n",
              "      <td>4</td>\n",
              "      <td>1</td>\n",
              "      <td>9</td>\n",
              "      <td>[88, 110, 66, 58]</td>\n",
              "      <td>DOH--video-converter_com-_mp4-29_jpg.rf.1bb791...</td>\n",
              "      <td>416</td>\n",
              "      <td>416</td>\n",
              "    </tr>\n",
              "    <tr>\n",
              "      <th>...</th>\n",
              "      <td>...</td>\n",
              "      <td>...</td>\n",
              "      <td>...</td>\n",
              "      <td>...</td>\n",
              "      <td>...</td>\n",
              "      <td>...</td>\n",
              "      <td>...</td>\n",
              "    </tr>\n",
              "    <tr>\n",
              "      <th>31426</th>\n",
              "      <td>31426</td>\n",
              "      <td>5535</td>\n",
              "      <td>5</td>\n",
              "      <td>[227, 269, 25, 39.5]</td>\n",
              "      <td>DOH_mp4-15_jpg.rf.9d96ca8d3bcac3594961fc4745d4...</td>\n",
              "      <td>416</td>\n",
              "      <td>416</td>\n",
              "    </tr>\n",
              "    <tr>\n",
              "      <th>31427</th>\n",
              "      <td>31427</td>\n",
              "      <td>5535</td>\n",
              "      <td>10</td>\n",
              "      <td>[10, 280, 36.5, 34.5]</td>\n",
              "      <td>DOH_mp4-15_jpg.rf.9d96ca8d3bcac3594961fc4745d4...</td>\n",
              "      <td>416</td>\n",
              "      <td>416</td>\n",
              "    </tr>\n",
              "    <tr>\n",
              "      <th>31428</th>\n",
              "      <td>31428</td>\n",
              "      <td>5535</td>\n",
              "      <td>3</td>\n",
              "      <td>[149, 268, 33, 60.5]</td>\n",
              "      <td>DOH_mp4-15_jpg.rf.9d96ca8d3bcac3594961fc4745d4...</td>\n",
              "      <td>416</td>\n",
              "      <td>416</td>\n",
              "    </tr>\n",
              "    <tr>\n",
              "      <th>31429</th>\n",
              "      <td>31429</td>\n",
              "      <td>5535</td>\n",
              "      <td>6</td>\n",
              "      <td>[10, 303, 38, 42.5]</td>\n",
              "      <td>DOH_mp4-15_jpg.rf.9d96ca8d3bcac3594961fc4745d4...</td>\n",
              "      <td>416</td>\n",
              "      <td>416</td>\n",
              "    </tr>\n",
              "    <tr>\n",
              "      <th>31430</th>\n",
              "      <td>31430</td>\n",
              "      <td>5535</td>\n",
              "      <td>5</td>\n",
              "      <td>[59, 319, 39.5, 49]</td>\n",
              "      <td>DOH_mp4-15_jpg.rf.9d96ca8d3bcac3594961fc4745d4...</td>\n",
              "      <td>416</td>\n",
              "      <td>416</td>\n",
              "    </tr>\n",
              "  </tbody>\n",
              "</table>\n",
              "<p>31431 rows × 7 columns</p>\n",
              "</div>"
            ],
            "text/plain": [
              "          id  image_id  category_id                   bbox  \\\n",
              "0          0         0            6   [102, 150, 35, 43.5]   \n",
              "1          1         0            5   [162, 163, 21.5, 24]   \n",
              "2          2         0            5   [133, 169, 21.5, 18]   \n",
              "3          3         0            3   [147, 223, 35.5, 43]   \n",
              "4          4         1            9      [88, 110, 66, 58]   \n",
              "...      ...       ...          ...                    ...   \n",
              "31426  31426      5535            5   [227, 269, 25, 39.5]   \n",
              "31427  31427      5535           10  [10, 280, 36.5, 34.5]   \n",
              "31428  31428      5535            3   [149, 268, 33, 60.5]   \n",
              "31429  31429      5535            6    [10, 303, 38, 42.5]   \n",
              "31430  31430      5535            5    [59, 319, 39.5, 49]   \n",
              "\n",
              "                                               file_name  height  width  \n",
              "0      DOH_10_mp4-5_jpg.rf.1b99964f5eada026f922d24242...     416    416  \n",
              "1      DOH_10_mp4-5_jpg.rf.1b99964f5eada026f922d24242...     416    416  \n",
              "2      DOH_10_mp4-5_jpg.rf.1b99964f5eada026f922d24242...     416    416  \n",
              "3      DOH_10_mp4-5_jpg.rf.1b99964f5eada026f922d24242...     416    416  \n",
              "4      DOH--video-converter_com-_mp4-29_jpg.rf.1bb791...     416    416  \n",
              "...                                                  ...     ...    ...  \n",
              "31426  DOH_mp4-15_jpg.rf.9d96ca8d3bcac3594961fc4745d4...     416    416  \n",
              "31427  DOH_mp4-15_jpg.rf.9d96ca8d3bcac3594961fc4745d4...     416    416  \n",
              "31428  DOH_mp4-15_jpg.rf.9d96ca8d3bcac3594961fc4745d4...     416    416  \n",
              "31429  DOH_mp4-15_jpg.rf.9d96ca8d3bcac3594961fc4745d4...     416    416  \n",
              "31430  DOH_mp4-15_jpg.rf.9d96ca8d3bcac3594961fc4745d4...     416    416  \n",
              "\n",
              "[31431 rows x 7 columns]"
            ]
          },
          "execution_count": 149,
          "metadata": {},
          "output_type": "execute_result"
        }
      ],
      "source": [
        "image_and_annotations_df = pd.merge(annotations_df, image_df, on=\"image_id\")\n",
        "image_and_annotations_df.drop([\"vehicle_count\"], axis=1)"
      ]
    },
    {
      "cell_type": "markdown",
      "metadata": {},
      "source": [
        "### **Setting Up Testing Data**"
      ]
    },
    {
      "cell_type": "code",
      "execution_count": 150,
      "metadata": {},
      "outputs": [],
      "source": [
        "ann_test_ids = cars_COCO_test.getAnnIds()\n",
        "\n",
        "annotations_test_list = cars_COCO_test.loadAnns(ann_test_ids[0:len(ann_test_ids)])\n",
        "\n",
        "annotations_test_df = pd.DataFrame(annotations_test_list)\n",
        "annotations_test_df = annotations_test_df.drop([\"segmentation\", \"area\", \"iscrowd\"], axis=1)"
      ]
    },
    {
      "cell_type": "code",
      "execution_count": 151,
      "metadata": {},
      "outputs": [],
      "source": [
        "image_test_ids = cars_COCO_test.getImgIds()\n",
        "\n",
        "image_test_list = cars_COCO_test.loadImgs(image_test_ids[0:len(image_test_ids)])\n",
        "\n",
        "image_test_df = pd.DataFrame(image_test_list)\n",
        "image_test_df = image_test_df.drop([\"date_captured\", \"license\"], axis=1)\n",
        "image_test_df.rename(columns={'id':'image_id'}, inplace=True)"
      ]
    },
    {
      "cell_type": "code",
      "execution_count": 152,
      "metadata": {},
      "outputs": [],
      "source": [
        "cars_y_test = annotations_test_df[\"category_id\"][0:300]\n",
        "\n",
        "cars_y_test = to_categorical(cars_y_test) # change category_id into one-hot encoding"
      ]
    },
    {
      "cell_type": "markdown",
      "metadata": {
        "id": "_KCy_qfK4Wx8"
      },
      "source": [
        "### **Extracting Cars from Images**\n",
        "\n",
        "Source: https://www.kaggle.com/code/aryankansal2019/face-mask-detection-classsifier-using-cnn"
      ]
    },
    {
      "cell_type": "code",
      "execution_count": 153,
      "metadata": {
        "id": "3bcPgXO50as6"
      },
      "outputs": [],
      "source": [
        "from PIL import Image\n",
        "\n",
        "def crop_image(image_path, bbox):\n",
        "  img = Image.open(image_path)\n",
        "\n",
        "  left, top, width, height = bbox\n",
        "  cropped = img.crop((left, top, left + width, top + height))\n",
        "\n",
        "  return cropped"
      ]
    },
    {
      "cell_type": "code",
      "execution_count": 154,
      "metadata": {
        "colab": {
          "base_uri": "https://localhost:8080/",
          "height": 81
        },
        "id": "IRGOU0q41d80",
        "outputId": "daca28ac-978c-40ea-b1f7-9aaa009411a0"
      },
      "outputs": [
        {
          "data": {
            "image/jpeg": "[encoded data removed]",
            "image/png": "[encoded data removed]",
            "text/plain": [
              "<PIL.Image.Image image mode=RGB size=35x44>"
            ]
          },
          "execution_count": 154,
          "metadata": {},
          "output_type": "execute_result"
        }
      ],
      "source": [
        "crop_image(cars_folder + \"train/DOH_10_mp4-5_jpg.rf.1b99964f5eada026f922d242423833c8.jpg\", annotations_df[\"bbox\"][0])"
      ]
    },
    {
      "cell_type": "code",
      "execution_count": 155,
      "metadata": {
        "id": "ZnbtNnn11BAp"
      },
      "outputs": [],
      "source": [
        "def extract_cars(image_name, dataframe):\n",
        "  cars_image = []\n",
        "\n",
        "  df_one_img = dataframe[dataframe['file_name'] == image_name][\"bbox\"]\n",
        "\n",
        "  path = cars_folder + \"train/\" + image_name\n",
        "  for row in df_one_img:\n",
        "    img = crop_image(path, row)\n",
        "    cars_image.append(img)\n",
        "\n",
        "  return cars_image"
      ]
    },
    {
      "cell_type": "code",
      "execution_count": 156,
      "metadata": {
        "colab": {
          "base_uri": "https://localhost:8080/",
          "height": 1000
        },
        "id": "Zz_moRY35nJ_",
        "outputId": "a421bfeb-d2a9-4afd-ace7-17b40d11bbe1"
      },
      "outputs": [
        {
          "data": {
            "image/png": "[encoded data removed]",
            "text/plain": [
              "<Figure size 640x480 with 1 Axes>"
            ]
          },
          "metadata": {},
          "output_type": "display_data"
        },
        {
          "data": {
            "image/png": "[encoded data removed]",
            "text/plain": [
              "<Figure size 640x480 with 1 Axes>"
            ]
          },
          "metadata": {},
          "output_type": "display_data"
        },
        {
          "data": {
            "image/png": "[encoded data removed]",
            "text/plain": [
              "<Figure size 640x480 with 1 Axes>"
            ]
          },
          "metadata": {},
          "output_type": "display_data"
        },
        {
          "data": {
            "image/png": "[encoded data removed]",
            "text/plain": [
              "<Figure size 640x480 with 1 Axes>"
            ]
          },
          "metadata": {},
          "output_type": "display_data"
        }
      ],
      "source": [
        "for i in extract_cars(\"DOH_10_mp4-5_jpg.rf.1b99964f5eada026f922d242423833c8.jpg\", image_and_annotations_df):\n",
        "  plt.figure()\n",
        "  plt.imshow(i)"
      ]
    },
    {
      "cell_type": "code",
      "execution_count": 157,
      "metadata": {
        "id": "Rt-8iJulAppl"
      },
      "outputs": [],
      "source": [
        "# Extraction of images is done locally as it takes so long to do in colab\n",
        "\n",
        "# cropped_images = [extract_cars(img, image_and_annotations_df) for img in image_df[\"file_name\"]]\n",
        "\n",
        "# ctr = 0\n",
        "\n",
        "# for arr in cropped_images:\n",
        "#   for img in arr:\n",
        "#     height, width = img.height, img.width\n",
        "#     max_size = max(height, width)\n",
        "#     r = max_size / 128\n",
        "#     new_width = int(width / r)\n",
        "#     new_height = int(height / r)\n",
        "#     new_size = (new_width, new_height)\n",
        "#  \n",
        "#     img = img.resize(new_size, Image.Resampling.LANCZOS)\n",
        "# \n",
        "#     new_img = np.zeros((128, 128, 3), dtype=np.uint8)\n",
        "#     new_img[0:new_height, 0:new_width] = img\n",
        "#     new_img = Image.fromarray(new_img)\n",
        "#     new_img.save(f\"extracted_resized_train/{ctr}.jpg\")\n",
        "#\n",
        "#     ctr += 1\n",
        "\n"
      ]
    },
    {
      "cell_type": "code",
      "execution_count": 158,
      "metadata": {
        "id": "Sp9zGqeHA6ch"
      },
      "outputs": [],
      "source": [
        "extracted_cars_folder = \"datasets/train_2100_128x128\"\n",
        "extracted_cars_valid = \"datasets/valid_600_128x128\"\n",
        "extracted_cars_test = \"datasets/test_300_128x128\""
      ]
    },
    {
      "cell_type": "markdown",
      "metadata": {},
      "source": [
        "### **Preprocessing Train and Valid Datasets**"
      ]
    },
    {
      "cell_type": "code",
      "execution_count": 159,
      "metadata": {
        "id": "Y-vlmHDCKSDy"
      },
      "outputs": [],
      "source": [
        "import os\n",
        "\n",
        "img_size = 128\n",
        "\n",
        "def load_images_from_folder(folder_path):\n",
        "  images = []\n",
        "  for filename in os.listdir(folder_path):\n",
        "    img_path = os.path.join(folder_path, filename)\n",
        "    image = tf.keras.utils.load_img(img_path)\n",
        "    imageArr = np.asarray(image) / 255.0 # change values from 0-255 to 0-1\n",
        "    images.append(imageArr)\n",
        "  return images"
      ]
    },
    {
      "cell_type": "code",
      "execution_count": 160,
      "metadata": {},
      "outputs": [],
      "source": [
        "# Labels\n",
        "\n",
        "cars_y_train = annotations_df[\"category_id\"][0:2100]\n",
        "cars_y_valid = annotations_df[\"category_id\"][2100:2700]\n",
        "cars_y_test = annotations_test_df[\"category_id\"][0:300]"
      ]
    },
    {
      "cell_type": "code",
      "execution_count": 161,
      "metadata": {},
      "outputs": [
        {
          "name": "stdout",
          "output_type": "stream",
          "text": [
            "Found 2100 images belonging to 11 classes.\n",
            "Found 600 images belonging to 11 classes.\n",
            "Found 300 images belonging to 11 classes.\n"
          ]
        }
      ],
      "source": [
        "from keras.preprocessing.image import ImageDataGenerator\n",
        "\n",
        "datagen = ImageDataGenerator(\n",
        "    rescale=1.0 / 255, horizontal_flip=True, zoom_range=0.1, shear_range=0.2, width_shift_range=0.1,\n",
        "    height_shift_range=0.1, rotation_range=4, vertical_flip=False\n",
        ")\n",
        "\n",
        "val_datagen = ImageDataGenerator(\n",
        "    rescale=1.0 / 255\n",
        ")\n",
        "\n",
        "train_generator = datagen.flow_from_directory(\n",
        "    directory=extracted_cars_folder, \n",
        "    classes=list(map(str, list(range(11)))),\n",
        "    target_size = (128,128),\n",
        "    class_mode=\"categorical\", batch_size=32, shuffle=True\n",
        "\n",
        ")\n",
        "\n",
        "# Validation data\n",
        "val_generator = val_datagen.flow_from_directory(\n",
        "    classes=list(map(str, list(range(11)))),\n",
        "    directory=extracted_cars_valid, \n",
        "    target_size = (128,128),\n",
        "    class_mode=\"categorical\", batch_size=32, shuffle=True\n",
        ")\n",
        "\n",
        "# Test data\n",
        "test_generator = val_datagen.flow_from_directory(\n",
        "    classes=list(map(str, list(range(11)))),\n",
        "    directory=extracted_cars_test, \n",
        "    target_size = (128,128),\n",
        "    class_mode=\"categorical\", batch_size=32, shuffle=False\n",
        ")"
      ]
    },
    {
      "cell_type": "markdown",
      "metadata": {
        "id": "IU5Dv779Fm_j"
      },
      "source": [
        "### **Setting Up Model**"
      ]
    },
    {
      "cell_type": "code",
      "execution_count": 162,
      "metadata": {
        "id": "kQHF9z0WNLCK"
      },
      "outputs": [],
      "source": [
        "img_size = 128\n",
        "batch_size = 50\n",
        "\n",
        "input_shape = (img_size, img_size, 3)\n",
        "output_shape = 11 # how many categories"
      ]
    },
    {
      "cell_type": "code",
      "execution_count": 163,
      "metadata": {
        "colab": {
          "base_uri": "https://localhost:8080/"
        },
        "id": "R-2Kv_MFFHzw",
        "outputId": "7fafca47-4c85-48b2-9ed0-d04456816c90"
      },
      "outputs": [
        {
          "name": "stdout",
          "output_type": "stream",
          "text": [
            "Model: \"sequential_4\"\n",
            "_________________________________________________________________\n",
            " Layer (type)                Output Shape              Param #   \n",
            "=================================================================\n",
            " keras_layer_4 (KerasLayer)  (None, 1280)              410208    \n",
            "                                                                 \n",
            " dense_4 (Dense)             (None, 11)                14091     \n",
            "                                                                 \n",
            "=================================================================\n",
            "Total params: 424299 (1.62 MB)\n",
            "Trainable params: 410219 (1.56 MB)\n",
            "Non-trainable params: 14080 (55.00 KB)\n",
            "_________________________________________________________________\n"
          ]
        }
      ],
      "source": [
        "import tensorflow as tf\n",
        "import tensorflow_hub as hub\n",
        "\n",
        "model_mobilenet = tf.keras.Sequential([\n",
        "    hub.KerasLayer('https://www.kaggle.com/models/google/mobilenet-v2/TensorFlow2/035-128-feature-vector/2',\n",
        "                  trainable=True, input_shape=[128, 128, 3]),\n",
        "    tf.keras.layers.Dense(11, activation='softmax'),\n",
        "])\n",
        "\n",
        "model_mobilenet.compile(\n",
        "    optimizer=tf.keras.optimizers.Adam(learning_rate=0.0001),\n",
        "              loss=tf.keras.losses.CategoricalCrossentropy(),\n",
        "              metrics=['accuracy','Recall', 'Precision', 'AUC'])\n",
        "\n",
        "model_mobilenet.summary()"
      ]
    },
    {
      "cell_type": "markdown",
      "metadata": {
        "id": "LBcg1ATBpC9g"
      },
      "source": [
        "### **Training the Model**"
      ]
    },
    {
      "cell_type": "code",
      "execution_count": 164,
      "metadata": {},
      "outputs": [
        {
          "name": "stdout",
          "output_type": "stream",
          "text": [
            "Epoch 1/100\n",
            "66/66 [==============================] - 28s 293ms/step - loss: 1.5881 - accuracy: 0.4714 - recall: 0.2505 - precision: 0.5970 - auc: 0.8711 - val_loss: 1.2924 - val_accuracy: 0.5400 - val_recall: 0.3600 - val_precision: 0.6017 - val_auc: 0.9210\n",
            "Epoch 2/100\n",
            "66/66 [==============================] - 21s 315ms/step - loss: 1.1361 - accuracy: 0.6000 - recall: 0.4567 - precision: 0.6821 - auc: 0.9388 - val_loss: 1.1581 - val_accuracy: 0.5933 - val_recall: 0.4300 - val_precision: 0.6649 - val_auc: 0.9364\n",
            "Epoch 3/100\n",
            "66/66 [==============================] - 23s 356ms/step - loss: 1.0084 - accuracy: 0.6343 - recall: 0.5200 - precision: 0.7285 - auc: 0.9525 - val_loss: 1.0476 - val_accuracy: 0.6283 - val_recall: 0.5433 - val_precision: 0.6878 - val_auc: 0.9476\n",
            "Epoch 4/100\n",
            "66/66 [==============================] - 21s 312ms/step - loss: 0.9422 - accuracy: 0.6643 - recall: 0.5629 - precision: 0.7514 - auc: 0.9584 - val_loss: 0.9933 - val_accuracy: 0.6567 - val_recall: 0.5350 - val_precision: 0.7379 - val_auc: 0.9520\n",
            "Epoch 5/100\n",
            "66/66 [==============================] - 19s 293ms/step - loss: 0.8598 - accuracy: 0.6848 - recall: 0.5829 - precision: 0.7718 - auc: 0.9658 - val_loss: 0.9668 - val_accuracy: 0.6650 - val_recall: 0.5800 - val_precision: 0.7250 - val_auc: 0.9546\n",
            "Epoch 6/100\n",
            "66/66 [==============================] - 19s 284ms/step - loss: 0.7996 - accuracy: 0.7219 - recall: 0.6338 - precision: 0.8023 - auc: 0.9703 - val_loss: 0.9184 - val_accuracy: 0.6850 - val_recall: 0.6183 - val_precision: 0.7289 - val_auc: 0.9587\n",
            "Epoch 7/100\n",
            "66/66 [==============================] - 20s 300ms/step - loss: 0.7611 - accuracy: 0.7243 - recall: 0.6333 - precision: 0.7950 - auc: 0.9733 - val_loss: 0.9033 - val_accuracy: 0.6800 - val_recall: 0.6200 - val_precision: 0.7410 - val_auc: 0.9609\n",
            "Epoch 8/100\n",
            "66/66 [==============================] - 20s 297ms/step - loss: 0.7118 - accuracy: 0.7600 - recall: 0.6705 - precision: 0.8191 - auc: 0.9768 - val_loss: 0.8950 - val_accuracy: 0.7117 - val_recall: 0.6383 - val_precision: 0.7480 - val_auc: 0.9612\n",
            "Epoch 9/100\n",
            "66/66 [==============================] - 20s 307ms/step - loss: 0.6707 - accuracy: 0.7686 - recall: 0.6933 - precision: 0.8344 - auc: 0.9797 - val_loss: 0.8753 - val_accuracy: 0.7117 - val_recall: 0.6483 - val_precision: 0.7598 - val_auc: 0.9622\n",
            "Epoch 10/100\n",
            "66/66 [==============================] - 19s 290ms/step - loss: 0.6176 - accuracy: 0.7857 - recall: 0.7167 - precision: 0.8455 - auc: 0.9831 - val_loss: 0.8612 - val_accuracy: 0.7100 - val_recall: 0.6533 - val_precision: 0.7626 - val_auc: 0.9641\n",
            "Epoch 11/100\n",
            "66/66 [==============================] - 21s 310ms/step - loss: 0.5870 - accuracy: 0.7981 - recall: 0.7352 - precision: 0.8545 - auc: 0.9846 - val_loss: 0.8864 - val_accuracy: 0.7150 - val_recall: 0.6417 - val_precision: 0.7594 - val_auc: 0.9629\n",
            "Epoch 12/100\n",
            "66/66 [==============================] - 21s 309ms/step - loss: 0.5498 - accuracy: 0.8186 - recall: 0.7524 - precision: 0.8662 - auc: 0.9869 - val_loss: 0.9009 - val_accuracy: 0.7017 - val_recall: 0.6133 - val_precision: 0.7316 - val_auc: 0.9615\n",
            "Epoch 13/100\n",
            "66/66 [==============================] - 21s 311ms/step - loss: 0.5382 - accuracy: 0.8205 - recall: 0.7538 - precision: 0.8669 - auc: 0.9876 - val_loss: 0.8653 - val_accuracy: 0.7017 - val_recall: 0.6500 - val_precision: 0.7514 - val_auc: 0.9641\n",
            "Epoch 14/100\n",
            "66/66 [==============================] - 20s 299ms/step - loss: 0.4931 - accuracy: 0.8367 - recall: 0.7752 - precision: 0.8829 - auc: 0.9895 - val_loss: 0.8565 - val_accuracy: 0.7200 - val_recall: 0.6833 - val_precision: 0.7621 - val_auc: 0.9644\n",
            "Epoch 15/100\n",
            "66/66 [==============================] - 20s 298ms/step - loss: 0.4771 - accuracy: 0.8457 - recall: 0.7900 - precision: 0.8843 - auc: 0.9904 - val_loss: 0.8751 - val_accuracy: 0.6950 - val_recall: 0.6600 - val_precision: 0.7514 - val_auc: 0.9636\n",
            "Epoch 16/100\n",
            "66/66 [==============================] - 20s 295ms/step - loss: 0.4486 - accuracy: 0.8590 - recall: 0.8071 - precision: 0.8921 - auc: 0.9916 - val_loss: 0.9028 - val_accuracy: 0.7083 - val_recall: 0.6633 - val_precision: 0.7316 - val_auc: 0.9619\n",
            "Epoch 17/100\n",
            "66/66 [==============================] - 18s 271ms/step - loss: 0.4196 - accuracy: 0.8652 - recall: 0.8233 - precision: 0.9005 - auc: 0.9926 - val_loss: 0.8299 - val_accuracy: 0.7333 - val_recall: 0.6767 - val_precision: 0.7546 - val_auc: 0.9671\n",
            "Epoch 18/100\n",
            "66/66 [==============================] - 18s 273ms/step - loss: 0.3994 - accuracy: 0.8643 - recall: 0.8257 - precision: 0.8994 - auc: 0.9937 - val_loss: 0.8498 - val_accuracy: 0.7183 - val_recall: 0.6717 - val_precision: 0.7505 - val_auc: 0.9653\n",
            "Epoch 19/100\n",
            "66/66 [==============================] - 19s 291ms/step - loss: 0.3764 - accuracy: 0.8857 - recall: 0.8467 - precision: 0.9170 - auc: 0.9943 - val_loss: 0.8550 - val_accuracy: 0.7067 - val_recall: 0.6633 - val_precision: 0.7412 - val_auc: 0.9651\n",
            "Epoch 20/100\n",
            "66/66 [==============================] - 18s 272ms/step - loss: 0.3558 - accuracy: 0.8914 - recall: 0.8471 - precision: 0.9184 - auc: 0.9953 - val_loss: 0.8551 - val_accuracy: 0.7183 - val_recall: 0.6733 - val_precision: 0.7523 - val_auc: 0.9646\n",
            "Epoch 21/100\n",
            "66/66 [==============================] - 19s 287ms/step - loss: 0.3361 - accuracy: 0.9000 - recall: 0.8676 - precision: 0.9324 - auc: 0.9956 - val_loss: 0.8582 - val_accuracy: 0.7117 - val_recall: 0.6683 - val_precision: 0.7426 - val_auc: 0.9637\n",
            "Epoch 22/100\n",
            "66/66 [==============================] - 18s 273ms/step - loss: 0.3468 - accuracy: 0.8962 - recall: 0.8629 - precision: 0.9189 - auc: 0.9949 - val_loss: 0.8534 - val_accuracy: 0.7167 - val_recall: 0.6817 - val_precision: 0.7505 - val_auc: 0.9658\n",
            "Epoch 23/100\n",
            "66/66 [==============================] - 24s 362ms/step - loss: 0.3158 - accuracy: 0.9076 - recall: 0.8795 - precision: 0.9328 - auc: 0.9963 - val_loss: 0.8522 - val_accuracy: 0.7167 - val_recall: 0.6733 - val_precision: 0.7454 - val_auc: 0.9665\n",
            "Epoch 24/100\n",
            "66/66 [==============================] - 22s 326ms/step - loss: 0.2963 - accuracy: 0.9181 - recall: 0.8924 - precision: 0.9347 - auc: 0.9968 - val_loss: 0.9108 - val_accuracy: 0.7167 - val_recall: 0.6900 - val_precision: 0.7486 - val_auc: 0.9598\n",
            "Epoch 25/100\n",
            "66/66 [==============================] - 21s 313ms/step - loss: 0.2750 - accuracy: 0.9267 - recall: 0.9019 - precision: 0.9409 - auc: 0.9972 - val_loss: 0.8707 - val_accuracy: 0.7283 - val_recall: 0.6867 - val_precision: 0.7532 - val_auc: 0.9623\n",
            "Epoch 26/100\n",
            "66/66 [==============================] - 19s 284ms/step - loss: 0.2605 - accuracy: 0.9252 - recall: 0.9062 - precision: 0.9407 - auc: 0.9978 - val_loss: 0.8715 - val_accuracy: 0.7233 - val_recall: 0.7000 - val_precision: 0.7460 - val_auc: 0.9625\n",
            "Epoch 27/100\n",
            "66/66 [==============================] - 19s 287ms/step - loss: 0.2553 - accuracy: 0.9281 - recall: 0.9090 - precision: 0.9460 - auc: 0.9978 - val_loss: 0.8697 - val_accuracy: 0.7233 - val_recall: 0.6917 - val_precision: 0.7437 - val_auc: 0.9634\n",
            "Epoch 28/100\n",
            "66/66 [==============================] - 19s 293ms/step - loss: 0.2519 - accuracy: 0.9248 - recall: 0.9071 - precision: 0.9421 - auc: 0.9977 - val_loss: 0.8969 - val_accuracy: 0.7233 - val_recall: 0.6933 - val_precision: 0.7509 - val_auc: 0.9608\n",
            "Epoch 29/100\n",
            "66/66 [==============================] - 19s 284ms/step - loss: 0.2429 - accuracy: 0.9371 - recall: 0.9200 - precision: 0.9494 - auc: 0.9979 - val_loss: 0.8854 - val_accuracy: 0.7233 - val_recall: 0.6883 - val_precision: 0.7415 - val_auc: 0.9610\n",
            "Epoch 30/100\n",
            "66/66 [==============================] - 18s 271ms/step - loss: 0.2099 - accuracy: 0.9486 - recall: 0.9333 - precision: 0.9603 - auc: 0.9988 - val_loss: 0.8744 - val_accuracy: 0.7233 - val_recall: 0.6917 - val_precision: 0.7491 - val_auc: 0.9633\n",
            "Epoch 31/100\n",
            "66/66 [==============================] - 18s 270ms/step - loss: 0.1993 - accuracy: 0.9476 - recall: 0.9324 - precision: 0.9598 - auc: 0.9988 - val_loss: 0.9250 - val_accuracy: 0.7150 - val_recall: 0.6967 - val_precision: 0.7385 - val_auc: 0.9597\n",
            "Epoch 32/100\n",
            "66/66 [==============================] - 18s 270ms/step - loss: 0.2086 - accuracy: 0.9452 - recall: 0.9352 - precision: 0.9553 - auc: 0.9985 - val_loss: 0.8899 - val_accuracy: 0.7317 - val_recall: 0.7100 - val_precision: 0.7500 - val_auc: 0.9642\n",
            "Epoch 33/100\n",
            "66/66 [==============================] - 18s 268ms/step - loss: 0.1889 - accuracy: 0.9514 - recall: 0.9386 - precision: 0.9605 - auc: 0.9990 - val_loss: 0.9186 - val_accuracy: 0.7267 - val_recall: 0.7067 - val_precision: 0.7465 - val_auc: 0.9612\n",
            "Epoch 34/100\n",
            "66/66 [==============================] - 18s 272ms/step - loss: 0.1849 - accuracy: 0.9519 - recall: 0.9419 - precision: 0.9621 - auc: 0.9990 - val_loss: 0.9241 - val_accuracy: 0.7300 - val_recall: 0.7033 - val_precision: 0.7496 - val_auc: 0.9602\n",
            "Epoch 35/100\n",
            "66/66 [==============================] - 19s 289ms/step - loss: 0.1893 - accuracy: 0.9562 - recall: 0.9462 - precision: 0.9636 - auc: 0.9984 - val_loss: 0.9456 - val_accuracy: 0.7300 - val_recall: 0.7067 - val_precision: 0.7452 - val_auc: 0.9573\n",
            "Epoch 36/100\n",
            "66/66 [==============================] - 19s 295ms/step - loss: 0.1588 - accuracy: 0.9648 - recall: 0.9562 - precision: 0.9696 - auc: 0.9994 - val_loss: 0.9196 - val_accuracy: 0.7400 - val_recall: 0.7250 - val_precision: 0.7565 - val_auc: 0.9600\n",
            "Epoch 37/100\n",
            "66/66 [==============================] - 21s 320ms/step - loss: 0.1690 - accuracy: 0.9590 - recall: 0.9524 - precision: 0.9634 - auc: 0.9989 - val_loss: 0.9386 - val_accuracy: 0.7383 - val_recall: 0.7183 - val_precision: 0.7588 - val_auc: 0.9578\n",
            "Epoch 38/100\n",
            "66/66 [==============================] - 20s 306ms/step - loss: 0.1674 - accuracy: 0.9619 - recall: 0.9529 - precision: 0.9690 - auc: 0.9992 - val_loss: 0.9447 - val_accuracy: 0.7317 - val_recall: 0.7133 - val_precision: 0.7549 - val_auc: 0.9591\n",
            "Epoch 39/100\n",
            "66/66 [==============================] - 21s 316ms/step - loss: 0.1744 - accuracy: 0.9500 - recall: 0.9429 - precision: 0.9598 - auc: 0.9990 - val_loss: 0.9021 - val_accuracy: 0.7500 - val_recall: 0.7250 - val_precision: 0.7592 - val_auc: 0.9629\n",
            "Epoch 40/100\n",
            "66/66 [==============================] - 20s 299ms/step - loss: 0.1564 - accuracy: 0.9619 - recall: 0.9529 - precision: 0.9695 - auc: 0.9993 - val_loss: 0.9148 - val_accuracy: 0.7367 - val_recall: 0.7183 - val_precision: 0.7588 - val_auc: 0.9620\n",
            "Epoch 41/100\n",
            "66/66 [==============================] - 23s 353ms/step - loss: 0.1468 - accuracy: 0.9633 - recall: 0.9595 - precision: 0.9664 - auc: 0.9995 - val_loss: 0.9353 - val_accuracy: 0.7283 - val_recall: 0.7150 - val_precision: 0.7384 - val_auc: 0.9604\n",
            "Epoch 42/100\n",
            "66/66 [==============================] - 22s 336ms/step - loss: 0.1461 - accuracy: 0.9648 - recall: 0.9576 - precision: 0.9687 - auc: 0.9994 - val_loss: 0.9842 - val_accuracy: 0.7267 - val_recall: 0.7067 - val_precision: 0.7439 - val_auc: 0.9573\n",
            "Epoch 43/100\n",
            "66/66 [==============================] - 20s 306ms/step - loss: 0.1467 - accuracy: 0.9690 - recall: 0.9638 - precision: 0.9745 - auc: 0.9994 - val_loss: 1.0019 - val_accuracy: 0.7433 - val_recall: 0.7250 - val_precision: 0.7565 - val_auc: 0.9535\n",
            "Epoch 44/100\n",
            "66/66 [==============================] - 21s 321ms/step - loss: 0.1245 - accuracy: 0.9724 - recall: 0.9671 - precision: 0.9783 - auc: 0.9997 - val_loss: 0.9538 - val_accuracy: 0.7367 - val_recall: 0.7267 - val_precision: 0.7583 - val_auc: 0.9597\n",
            "Epoch 45/100\n",
            "66/66 [==============================] - 20s 308ms/step - loss: 0.1356 - accuracy: 0.9657 - recall: 0.9614 - precision: 0.9702 - auc: 0.9996 - val_loss: 0.9518 - val_accuracy: 0.7450 - val_recall: 0.7217 - val_precision: 0.7517 - val_auc: 0.9555\n",
            "Epoch 46/100\n",
            "66/66 [==============================] - 21s 321ms/step - loss: 0.1341 - accuracy: 0.9700 - recall: 0.9657 - precision: 0.9755 - auc: 0.9996 - val_loss: 0.9716 - val_accuracy: 0.7333 - val_recall: 0.7167 - val_precision: 0.7491 - val_auc: 0.9545\n",
            "Epoch 47/100\n",
            "66/66 [==============================] - 22s 328ms/step - loss: 0.1282 - accuracy: 0.9690 - recall: 0.9648 - precision: 0.9750 - auc: 0.9996 - val_loss: 0.9332 - val_accuracy: 0.7533 - val_recall: 0.7417 - val_precision: 0.7672 - val_auc: 0.9593\n",
            "Epoch 48/100\n",
            "66/66 [==============================] - 21s 314ms/step - loss: 0.1296 - accuracy: 0.9710 - recall: 0.9662 - precision: 0.9750 - auc: 0.9993 - val_loss: 0.9687 - val_accuracy: 0.7317 - val_recall: 0.7250 - val_precision: 0.7500 - val_auc: 0.9567\n",
            "Epoch 49/100\n",
            "66/66 [==============================] - 21s 315ms/step - loss: 0.1150 - accuracy: 0.9748 - recall: 0.9690 - precision: 0.9765 - auc: 0.9998 - val_loss: 0.9040 - val_accuracy: 0.7517 - val_recall: 0.7283 - val_precision: 0.7574 - val_auc: 0.9626\n",
            "Epoch 50/100\n",
            "66/66 [==============================] - 22s 330ms/step - loss: 0.1196 - accuracy: 0.9752 - recall: 0.9719 - precision: 0.9798 - auc: 0.9997 - val_loss: 0.9251 - val_accuracy: 0.7433 - val_recall: 0.7367 - val_precision: 0.7621 - val_auc: 0.9610\n",
            "Epoch 51/100\n",
            "66/66 [==============================] - 22s 336ms/step - loss: 0.1098 - accuracy: 0.9738 - recall: 0.9700 - precision: 0.9793 - auc: 0.9998 - val_loss: 0.9314 - val_accuracy: 0.7467 - val_recall: 0.7300 - val_precision: 0.7591 - val_auc: 0.9579\n",
            "Epoch 52/100\n",
            "66/66 [==============================] - 21s 312ms/step - loss: 0.1227 - accuracy: 0.9733 - recall: 0.9700 - precision: 0.9746 - auc: 0.9994 - val_loss: 0.9639 - val_accuracy: 0.7400 - val_recall: 0.7267 - val_precision: 0.7504 - val_auc: 0.9566\n",
            "Epoch 53/100\n",
            "66/66 [==============================] - 22s 327ms/step - loss: 0.0965 - accuracy: 0.9814 - recall: 0.9795 - precision: 0.9856 - auc: 0.9999 - val_loss: 0.9770 - val_accuracy: 0.7433 - val_recall: 0.7350 - val_precision: 0.7564 - val_auc: 0.9582\n",
            "Epoch 54/100\n",
            "66/66 [==============================] - 20s 299ms/step - loss: 0.1069 - accuracy: 0.9786 - recall: 0.9762 - precision: 0.9804 - auc: 0.9997 - val_loss: 1.0083 - val_accuracy: 0.7450 - val_recall: 0.7283 - val_precision: 0.7547 - val_auc: 0.9539\n",
            "Epoch 55/100\n",
            "66/66 [==============================] - 21s 322ms/step - loss: 0.1085 - accuracy: 0.9748 - recall: 0.9690 - precision: 0.9793 - auc: 0.9998 - val_loss: 0.9768 - val_accuracy: 0.7467 - val_recall: 0.7350 - val_precision: 0.7590 - val_auc: 0.9564\n",
            "Epoch 56/100\n",
            "66/66 [==============================] - 23s 343ms/step - loss: 0.1095 - accuracy: 0.9748 - recall: 0.9729 - precision: 0.9789 - auc: 0.9997 - val_loss: 0.9974 - val_accuracy: 0.7533 - val_recall: 0.7400 - val_precision: 0.7642 - val_auc: 0.9538\n",
            "Epoch 57/100\n",
            "66/66 [==============================] - 21s 315ms/step - loss: 0.1074 - accuracy: 0.9743 - recall: 0.9705 - precision: 0.9779 - auc: 0.9995 - val_loss: 0.9748 - val_accuracy: 0.7217 - val_recall: 0.7150 - val_precision: 0.7371 - val_auc: 0.9591\n",
            "Epoch 58/100\n",
            "66/66 [==============================] - 20s 307ms/step - loss: 0.0916 - accuracy: 0.9848 - recall: 0.9814 - precision: 0.9861 - auc: 0.9999 - val_loss: 1.0298 - val_accuracy: 0.7367 - val_recall: 0.7167 - val_precision: 0.7491 - val_auc: 0.9544\n",
            "Epoch 59/100\n",
            "66/66 [==============================] - 20s 300ms/step - loss: 0.0900 - accuracy: 0.9843 - recall: 0.9829 - precision: 0.9871 - auc: 0.9996 - val_loss: 1.0159 - val_accuracy: 0.7217 - val_recall: 0.7133 - val_precision: 0.7379 - val_auc: 0.9532\n",
            "Epoch 60/100\n",
            "66/66 [==============================] - 22s 334ms/step - loss: 0.1081 - accuracy: 0.9771 - recall: 0.9743 - precision: 0.9804 - auc: 0.9997 - val_loss: 1.0658 - val_accuracy: 0.7333 - val_recall: 0.7233 - val_precision: 0.7419 - val_auc: 0.9501\n",
            "Epoch 61/100\n",
            "66/66 [==============================] - 22s 335ms/step - loss: 0.1030 - accuracy: 0.9795 - recall: 0.9752 - precision: 0.9818 - auc: 0.9998 - val_loss: 1.0039 - val_accuracy: 0.7333 - val_recall: 0.7183 - val_precision: 0.7393 - val_auc: 0.9564\n",
            "Epoch 62/100\n",
            "66/66 [==============================] - 21s 320ms/step - loss: 0.0894 - accuracy: 0.9824 - recall: 0.9781 - precision: 0.9837 - auc: 0.9999 - val_loss: 1.0152 - val_accuracy: 0.7467 - val_recall: 0.7383 - val_precision: 0.7521 - val_auc: 0.9514\n",
            "Epoch 63/100\n",
            "66/66 [==============================] - 20s 299ms/step - loss: 0.0803 - accuracy: 0.9886 - recall: 0.9881 - precision: 0.9900 - auc: 0.9999 - val_loss: 0.9577 - val_accuracy: 0.7483 - val_recall: 0.7300 - val_precision: 0.7604 - val_auc: 0.9588\n",
            "Epoch 64/100\n",
            "66/66 [==============================] - 19s 293ms/step - loss: 0.0855 - accuracy: 0.9867 - recall: 0.9833 - precision: 0.9899 - auc: 0.9999 - val_loss: 0.9687 - val_accuracy: 0.7467 - val_recall: 0.7367 - val_precision: 0.7556 - val_auc: 0.9552\n",
            "Epoch 65/100\n",
            "66/66 [==============================] - 20s 295ms/step - loss: 0.0853 - accuracy: 0.9833 - recall: 0.9814 - precision: 0.9847 - auc: 0.9999 - val_loss: 0.9996 - val_accuracy: 0.7500 - val_recall: 0.7400 - val_precision: 0.7603 - val_auc: 0.9538\n",
            "Epoch 66/100\n",
            "66/66 [==============================] - 18s 270ms/step - loss: 0.0906 - accuracy: 0.9810 - recall: 0.9790 - precision: 0.9819 - auc: 0.9998 - val_loss: 0.9953 - val_accuracy: 0.7350 - val_recall: 0.7133 - val_precision: 0.7496 - val_auc: 0.9534\n",
            "Epoch 67/100\n",
            "66/66 [==============================] - 18s 278ms/step - loss: 0.0919 - accuracy: 0.9810 - recall: 0.9795 - precision: 0.9847 - auc: 0.9998 - val_loss: 1.0268 - val_accuracy: 0.7383 - val_recall: 0.7317 - val_precision: 0.7543 - val_auc: 0.9543\n",
            "Epoch 68/100\n",
            "66/66 [==============================] - 19s 281ms/step - loss: 0.0782 - accuracy: 0.9871 - recall: 0.9871 - precision: 0.9886 - auc: 0.9999 - val_loss: 1.0433 - val_accuracy: 0.7400 - val_recall: 0.7283 - val_precision: 0.7509 - val_auc: 0.9502\n",
            "Epoch 69/100\n",
            "66/66 [==============================] - 20s 305ms/step - loss: 0.0824 - accuracy: 0.9843 - recall: 0.9824 - precision: 0.9857 - auc: 0.9999 - val_loss: 1.1108 - val_accuracy: 0.7217 - val_recall: 0.7100 - val_precision: 0.7295 - val_auc: 0.9472\n",
            "Epoch 70/100\n",
            "66/66 [==============================] - 20s 299ms/step - loss: 0.0854 - accuracy: 0.9838 - recall: 0.9829 - precision: 0.9843 - auc: 0.9998 - val_loss: 0.9592 - val_accuracy: 0.7450 - val_recall: 0.7367 - val_precision: 0.7556 - val_auc: 0.9575\n",
            "Epoch 71/100\n",
            "66/66 [==============================] - 18s 277ms/step - loss: 0.0918 - accuracy: 0.9819 - recall: 0.9805 - precision: 0.9838 - auc: 0.9998 - val_loss: 0.9645 - val_accuracy: 0.7500 - val_recall: 0.7350 - val_precision: 0.7670 - val_auc: 0.9507\n",
            "Epoch 72/100\n",
            "66/66 [==============================] - 19s 288ms/step - loss: 0.0758 - accuracy: 0.9871 - recall: 0.9862 - precision: 0.9885 - auc: 0.9999 - val_loss: 1.0540 - val_accuracy: 0.7517 - val_recall: 0.7433 - val_precision: 0.7611 - val_auc: 0.9486\n",
            "Epoch 73/100\n",
            "66/66 [==============================] - 21s 310ms/step - loss: 0.0856 - accuracy: 0.9819 - recall: 0.9795 - precision: 0.9837 - auc: 0.9999 - val_loss: 1.0447 - val_accuracy: 0.7400 - val_recall: 0.7283 - val_precision: 0.7522 - val_auc: 0.9489\n",
            "Epoch 74/100\n",
            "66/66 [==============================] - 20s 306ms/step - loss: 0.0758 - accuracy: 0.9862 - recall: 0.9843 - precision: 0.9876 - auc: 0.9999 - val_loss: 1.0978 - val_accuracy: 0.7417 - val_recall: 0.7317 - val_precision: 0.7491 - val_auc: 0.9445\n",
            "Epoch 75/100\n",
            "66/66 [==============================] - 20s 305ms/step - loss: 0.0851 - accuracy: 0.9857 - recall: 0.9848 - precision: 0.9866 - auc: 0.9994 - val_loss: 1.0883 - val_accuracy: 0.7350 - val_recall: 0.7300 - val_precision: 0.7500 - val_auc: 0.9456\n",
            "Epoch 76/100\n",
            "66/66 [==============================] - 19s 286ms/step - loss: 0.0974 - accuracy: 0.9795 - recall: 0.9781 - precision: 0.9809 - auc: 0.9997 - val_loss: 1.0740 - val_accuracy: 0.7450 - val_recall: 0.7300 - val_precision: 0.7631 - val_auc: 0.9501\n",
            "Epoch 77/100\n",
            "66/66 [==============================] - 20s 310ms/step - loss: 0.0775 - accuracy: 0.9862 - recall: 0.9852 - precision: 0.9890 - auc: 0.9999 - val_loss: 1.0084 - val_accuracy: 0.7383 - val_recall: 0.7300 - val_precision: 0.7487 - val_auc: 0.9535\n",
            "Epoch 78/100\n",
            "66/66 [==============================] - 19s 291ms/step - loss: 0.0796 - accuracy: 0.9857 - recall: 0.9848 - precision: 0.9866 - auc: 0.9999 - val_loss: 1.0496 - val_accuracy: 0.7400 - val_recall: 0.7317 - val_precision: 0.7543 - val_auc: 0.9509\n",
            "Epoch 79/100\n",
            "66/66 [==============================] - 20s 306ms/step - loss: 0.0757 - accuracy: 0.9871 - recall: 0.9857 - precision: 0.9881 - auc: 0.9997 - val_loss: 1.0319 - val_accuracy: 0.7317 - val_recall: 0.7217 - val_precision: 0.7453 - val_auc: 0.9534\n",
            "Epoch 80/100\n",
            "66/66 [==============================] - 21s 310ms/step - loss: 0.0746 - accuracy: 0.9900 - recall: 0.9876 - precision: 0.9914 - auc: 0.9999 - val_loss: 1.0676 - val_accuracy: 0.7483 - val_recall: 0.7417 - val_precision: 0.7517 - val_auc: 0.9502\n",
            "Epoch 81/100\n",
            "66/66 [==============================] - 21s 313ms/step - loss: 0.0809 - accuracy: 0.9852 - recall: 0.9838 - precision: 0.9857 - auc: 0.9996 - val_loss: 1.0689 - val_accuracy: 0.7217 - val_recall: 0.7133 - val_precision: 0.7367 - val_auc: 0.9491\n",
            "Epoch 82/100\n",
            "66/66 [==============================] - 19s 292ms/step - loss: 0.0713 - accuracy: 0.9881 - recall: 0.9876 - precision: 0.9886 - auc: 0.9999 - val_loss: 1.0805 - val_accuracy: 0.7483 - val_recall: 0.7267 - val_precision: 0.7530 - val_auc: 0.9444\n",
            "Epoch 83/100\n",
            "66/66 [==============================] - 20s 301ms/step - loss: 0.0664 - accuracy: 0.9924 - recall: 0.9919 - precision: 0.9924 - auc: 0.9999 - val_loss: 1.0515 - val_accuracy: 0.7383 - val_recall: 0.7267 - val_precision: 0.7466 - val_auc: 0.9458\n",
            "Epoch 84/100\n",
            "66/66 [==============================] - 20s 306ms/step - loss: 0.0746 - accuracy: 0.9857 - recall: 0.9857 - precision: 0.9871 - auc: 0.9999 - val_loss: 1.0364 - val_accuracy: 0.7600 - val_recall: 0.7467 - val_precision: 0.7619 - val_auc: 0.9499\n",
            "Epoch 85/100\n",
            "66/66 [==============================] - 21s 322ms/step - loss: 0.0782 - accuracy: 0.9838 - recall: 0.9829 - precision: 0.9852 - auc: 0.9999 - val_loss: 1.0578 - val_accuracy: 0.7400 - val_recall: 0.7300 - val_precision: 0.7487 - val_auc: 0.9482\n",
            "Epoch 86/100\n",
            "66/66 [==============================] - 20s 306ms/step - loss: 0.0732 - accuracy: 0.9867 - recall: 0.9852 - precision: 0.9866 - auc: 0.9999 - val_loss: 1.0168 - val_accuracy: 0.7433 - val_recall: 0.7350 - val_precision: 0.7487 - val_auc: 0.9510\n",
            "Epoch 87/100\n",
            "66/66 [==============================] - 19s 291ms/step - loss: 0.0658 - accuracy: 0.9886 - recall: 0.9881 - precision: 0.9909 - auc: 0.9999 - val_loss: 1.0850 - val_accuracy: 0.7500 - val_recall: 0.7367 - val_precision: 0.7568 - val_auc: 0.9478\n",
            "Epoch 88/100\n",
            "66/66 [==============================] - 20s 308ms/step - loss: 0.0750 - accuracy: 0.9867 - recall: 0.9848 - precision: 0.9895 - auc: 0.9999 - val_loss: 1.0370 - val_accuracy: 0.7533 - val_recall: 0.7450 - val_precision: 0.7615 - val_auc: 0.9532\n",
            "Epoch 89/100\n",
            "66/66 [==============================] - 20s 300ms/step - loss: 0.0661 - accuracy: 0.9900 - recall: 0.9890 - precision: 0.9905 - auc: 0.9999 - val_loss: 1.0610 - val_accuracy: 0.7683 - val_recall: 0.7483 - val_precision: 0.7755 - val_auc: 0.9494\n",
            "Epoch 90/100\n",
            "66/66 [==============================] - 19s 281ms/step - loss: 0.0586 - accuracy: 0.9948 - recall: 0.9938 - precision: 0.9952 - auc: 1.0000 - val_loss: 1.0381 - val_accuracy: 0.7650 - val_recall: 0.7550 - val_precision: 0.7665 - val_auc: 0.9487\n",
            "Epoch 91/100\n",
            "66/66 [==============================] - 19s 282ms/step - loss: 0.0737 - accuracy: 0.9890 - recall: 0.9876 - precision: 0.9895 - auc: 0.9997 - val_loss: 1.0683 - val_accuracy: 0.7500 - val_recall: 0.7383 - val_precision: 0.7560 - val_auc: 0.9510\n",
            "Epoch 92/100\n",
            "66/66 [==============================] - 18s 278ms/step - loss: 0.0731 - accuracy: 0.9871 - recall: 0.9862 - precision: 0.9881 - auc: 0.9997 - val_loss: 1.1074 - val_accuracy: 0.7550 - val_recall: 0.7500 - val_precision: 0.7666 - val_auc: 0.9474\n",
            "Epoch 93/100\n",
            "66/66 [==============================] - 19s 294ms/step - loss: 0.0658 - accuracy: 0.9933 - recall: 0.9924 - precision: 0.9938 - auc: 0.9997 - val_loss: 1.0766 - val_accuracy: 0.7550 - val_recall: 0.7417 - val_precision: 0.7594 - val_auc: 0.9467\n",
            "Epoch 94/100\n",
            "66/66 [==============================] - 20s 300ms/step - loss: 0.0611 - accuracy: 0.9919 - recall: 0.9919 - precision: 0.9933 - auc: 1.0000 - val_loss: 1.0566 - val_accuracy: 0.7650 - val_recall: 0.7583 - val_precision: 0.7725 - val_auc: 0.9506\n",
            "Epoch 95/100\n",
            "66/66 [==============================] - 22s 329ms/step - loss: 0.0592 - accuracy: 0.9943 - recall: 0.9933 - precision: 0.9943 - auc: 1.0000 - val_loss: 1.0867 - val_accuracy: 0.7533 - val_recall: 0.7433 - val_precision: 0.7585 - val_auc: 0.9475\n",
            "Epoch 96/100\n",
            "66/66 [==============================] - 21s 320ms/step - loss: 0.0619 - accuracy: 0.9905 - recall: 0.9900 - precision: 0.9914 - auc: 1.0000 - val_loss: 1.1217 - val_accuracy: 0.7483 - val_recall: 0.7367 - val_precision: 0.7517 - val_auc: 0.9470\n",
            "Epoch 97/100\n",
            "66/66 [==============================] - 22s 339ms/step - loss: 0.0696 - accuracy: 0.9871 - recall: 0.9862 - precision: 0.9876 - auc: 0.9999 - val_loss: 1.1050 - val_accuracy: 0.7333 - val_recall: 0.7283 - val_precision: 0.7394 - val_auc: 0.9492\n",
            "Epoch 98/100\n",
            "66/66 [==============================] - 19s 291ms/step - loss: 0.0595 - accuracy: 0.9938 - recall: 0.9929 - precision: 0.9938 - auc: 1.0000 - val_loss: 1.0525 - val_accuracy: 0.7500 - val_recall: 0.7450 - val_precision: 0.7538 - val_auc: 0.9558\n",
            "Epoch 99/100\n",
            "66/66 [==============================] - 20s 306ms/step - loss: 0.0609 - accuracy: 0.9895 - recall: 0.9886 - precision: 0.9895 - auc: 1.0000 - val_loss: 1.0740 - val_accuracy: 0.7450 - val_recall: 0.7367 - val_precision: 0.7517 - val_auc: 0.9507\n",
            "Epoch 100/100\n",
            "66/66 [==============================] - 24s 357ms/step - loss: 0.0603 - accuracy: 0.9924 - recall: 0.9919 - precision: 0.9933 - auc: 1.0000 - val_loss: 1.1170 - val_accuracy: 0.7400 - val_recall: 0.7300 - val_precision: 0.7436 - val_auc: 0.9457\n"
          ]
        }
      ],
      "source": [
        "# model_mobilenet_history = model_mobilenet.fit_generator(\n",
        "#     generator=train_generator,\n",
        "#     epochs=10,\n",
        "#     shuffle=True,\n",
        "#     validation_data=val_generator,\n",
        "# )\n",
        "import scipy\n",
        "\n",
        "model_mobilenet_history = model_mobilenet.fit(\n",
        "    train_generator,\n",
        "    epochs=100,\n",
        "    shuffle=True,\n",
        "    validation_data=val_generator,\n",
        ")"
      ]
    },
    {
      "cell_type": "code",
      "execution_count": 165,
      "metadata": {},
      "outputs": [
        {
          "name": "stderr",
          "output_type": "stream",
          "text": [
            "c:\\Users\\zromu\\AppData\\Local\\Programs\\Python\\Python311\\Lib\\site-packages\\keras\\src\\engine\\training.py:3079: UserWarning: You are saving your model as an HDF5 file via `model.save()`. This file format is considered legacy. We recommend using instead the native Keras format, e.g. `model.save('my_model.keras')`.\n",
            "  saving_api.save_model(\n"
          ]
        }
      ],
      "source": [
        "model_mobilenet.save('model/custom_model_ssd.h5')"
      ]
    },
    {
      "cell_type": "code",
      "execution_count": 172,
      "metadata": {},
      "outputs": [
        {
          "name": "stderr",
          "output_type": "stream",
          "text": [
            "c:\\Users\\zromu\\AppData\\Local\\Programs\\Python\\Python311\\Lib\\site-packages\\keras\\src\\engine\\training.py:3079: UserWarning: You are saving your model as an HDF5 file via `model.save()`. This file format is considered legacy. We recommend using instead the native Keras format, e.g. `model.save('my_model.keras')`.\n",
            "  saving_api.save_model(\n"
          ]
        }
      ],
      "source": [
        "# model save\n",
        "model_mobilenet.save(\"model/custom_model.h5\", save_format=\"h5\")"
      ]
    },
    {
      "cell_type": "markdown",
      "metadata": {},
      "source": [
        "### **Testing the Model**"
      ]
    },
    {
      "cell_type": "code",
      "execution_count": 166,
      "metadata": {},
      "outputs": [
        {
          "name": "stdout",
          "output_type": "stream",
          "text": [
            "10/10 [==============================] - 1s 57ms/step\n"
          ]
        }
      ],
      "source": [
        "predictions = model_mobilenet.predict(test_generator)"
      ]
    },
    {
      "cell_type": "markdown",
      "metadata": {},
      "source": [
        "### **Model Evaluation**"
      ]
    },
    {
      "cell_type": "code",
      "execution_count": 167,
      "metadata": {},
      "outputs": [],
      "source": [
        "cars_y_test_arr = cars_y_test.tolist()"
      ]
    },
    {
      "cell_type": "code",
      "execution_count": 168,
      "metadata": {},
      "outputs": [
        {
          "data": {
            "text/plain": [
              "[3,\n",
              " 3,\n",
              " 3,\n",
              " 3,\n",
              " 3,\n",
              " 3,\n",
              " 3,\n",
              " 3,\n",
              " 5,\n",
              " 5,\n",
              " 5,\n",
              " 3,\n",
              " 3,\n",
              " 5,\n",
              " 3,\n",
              " 5,\n",
              " 3,\n",
              " 3,\n",
              " 3,\n",
              " 3,\n",
              " 3,\n",
              " 6,\n",
              " 3,\n",
              " 5,\n",
              " 3,\n",
              " 9,\n",
              " 3,\n",
              " 5,\n",
              " 5,\n",
              " 5,\n",
              " 5,\n",
              " 6,\n",
              " 3,\n",
              " 6,\n",
              " 10,\n",
              " 5,\n",
              " 3,\n",
              " 9,\n",
              " 5,\n",
              " 5,\n",
              " 3,\n",
              " 9,\n",
              " 3,\n",
              " 3,\n",
              " 3,\n",
              " 5,\n",
              " 3,\n",
              " 5,\n",
              " 5,\n",
              " 3,\n",
              " 3,\n",
              " 5,\n",
              " 3,\n",
              " 3,\n",
              " 5,\n",
              " 3,\n",
              " 3,\n",
              " 5,\n",
              " 5,\n",
              " 3,\n",
              " 3,\n",
              " 5,\n",
              " 3,\n",
              " 6,\n",
              " 3,\n",
              " 5,\n",
              " 3,\n",
              " 5,\n",
              " 3,\n",
              " 3,\n",
              " 9,\n",
              " 5,\n",
              " 3,\n",
              " 3,\n",
              " 3,\n",
              " 5,\n",
              " 5,\n",
              " 5,\n",
              " 9,\n",
              " 9,\n",
              " 9,\n",
              " 5,\n",
              " 3,\n",
              " 3,\n",
              " 9,\n",
              " 3,\n",
              " 3,\n",
              " 5,\n",
              " 5,\n",
              " 3,\n",
              " 9,\n",
              " 3,\n",
              " 6,\n",
              " 5,\n",
              " 5,\n",
              " 3,\n",
              " 5,\n",
              " 3,\n",
              " 5,\n",
              " 3,\n",
              " 6,\n",
              " 5,\n",
              " 3,\n",
              " 3,\n",
              " 5,\n",
              " 9,\n",
              " 5,\n",
              " 9,\n",
              " 3,\n",
              " 6,\n",
              " 5,\n",
              " 9,\n",
              " 5,\n",
              " 3,\n",
              " 3,\n",
              " 3,\n",
              " 1,\n",
              " 5,\n",
              " 3,\n",
              " 9,\n",
              " 9,\n",
              " 9,\n",
              " 3,\n",
              " 9,\n",
              " 9,\n",
              " 2,\n",
              " 3,\n",
              " 3,\n",
              " 2,\n",
              " 5,\n",
              " 9,\n",
              " 3,\n",
              " 5,\n",
              " 5,\n",
              " 5,\n",
              " 5,\n",
              " 5,\n",
              " 2,\n",
              " 2,\n",
              " 2,\n",
              " 5,\n",
              " 3,\n",
              " 5,\n",
              " 3,\n",
              " 6,\n",
              " 3,\n",
              " 3,\n",
              " 3,\n",
              " 9,\n",
              " 5,\n",
              " 3,\n",
              " 9,\n",
              " 6,\n",
              " 10,\n",
              " 3,\n",
              " 3,\n",
              " 5,\n",
              " 6,\n",
              " 5,\n",
              " 6,\n",
              " 9,\n",
              " 3,\n",
              " 3,\n",
              " 5,\n",
              " 3,\n",
              " 10,\n",
              " 5,\n",
              " 5,\n",
              " 9,\n",
              " 3,\n",
              " 9,\n",
              " 3,\n",
              " 9,\n",
              " 5,\n",
              " 9,\n",
              " 3,\n",
              " 5,\n",
              " 5,\n",
              " 5,\n",
              " 6,\n",
              " 6,\n",
              " 10,\n",
              " 3,\n",
              " 9,\n",
              " 5,\n",
              " 9,\n",
              " 5,\n",
              " 6,\n",
              " 5,\n",
              " 5,\n",
              " 3,\n",
              " 9,\n",
              " 5,\n",
              " 5,\n",
              " 9,\n",
              " 5,\n",
              " 9,\n",
              " 3,\n",
              " 5,\n",
              " 6,\n",
              " 9,\n",
              " 3,\n",
              " 3,\n",
              " 5,\n",
              " 5,\n",
              " 5,\n",
              " 3,\n",
              " 3,\n",
              " 1,\n",
              " 9,\n",
              " 5,\n",
              " 3,\n",
              " 3,\n",
              " 5,\n",
              " 9,\n",
              " 5,\n",
              " 5,\n",
              " 3,\n",
              " 9,\n",
              " 3,\n",
              " 3,\n",
              " 3,\n",
              " 1,\n",
              " 5,\n",
              " 5,\n",
              " 2,\n",
              " 5,\n",
              " 5,\n",
              " 9,\n",
              " 5,\n",
              " 5,\n",
              " 3,\n",
              " 3,\n",
              " 5,\n",
              " 10,\n",
              " 9,\n",
              " 3,\n",
              " 5,\n",
              " 3,\n",
              " 5,\n",
              " 1,\n",
              " 5,\n",
              " 3,\n",
              " 5,\n",
              " 5,\n",
              " 10,\n",
              " 5,\n",
              " 3,\n",
              " 5,\n",
              " 3,\n",
              " 3,\n",
              " 5,\n",
              " 5,\n",
              " 3,\n",
              " 6,\n",
              " 9,\n",
              " 2,\n",
              " 5,\n",
              " 3,\n",
              " 5,\n",
              " 5,\n",
              " 3,\n",
              " 3,\n",
              " 3,\n",
              " 5,\n",
              " 5,\n",
              " 3,\n",
              " 3,\n",
              " 5,\n",
              " 3,\n",
              " 5,\n",
              " 5,\n",
              " 3,\n",
              " 5,\n",
              " 6,\n",
              " 6,\n",
              " 10,\n",
              " 5,\n",
              " 3,\n",
              " 3,\n",
              " 5,\n",
              " 6,\n",
              " 5,\n",
              " 9,\n",
              " 3,\n",
              " 3,\n",
              " 5,\n",
              " 9,\n",
              " 3,\n",
              " 5,\n",
              " 3,\n",
              " 3,\n",
              " 9,\n",
              " 3,\n",
              " 5,\n",
              " 6,\n",
              " 3,\n",
              " 5,\n",
              " 5,\n",
              " 9]"
            ]
          },
          "execution_count": 168,
          "metadata": {},
          "output_type": "execute_result"
        }
      ],
      "source": [
        "cars_y_test_arr"
      ]
    },
    {
      "cell_type": "code",
      "execution_count": 169,
      "metadata": {},
      "outputs": [
        {
          "data": {
            "text/html": [
              "<div>\n",
              "<style scoped>\n",
              "    .dataframe tbody tr th:only-of-type {\n",
              "        vertical-align: middle;\n",
              "    }\n",
              "\n",
              "    .dataframe tbody tr th {\n",
              "        vertical-align: top;\n",
              "    }\n",
              "\n",
              "    .dataframe thead th {\n",
              "        text-align: right;\n",
              "    }\n",
              "</style>\n",
              "<table border=\"1\" class=\"dataframe\">\n",
              "  <thead>\n",
              "    <tr style=\"text-align: right;\">\n",
              "      <th></th>\n",
              "      <th>id</th>\n",
              "      <th>image_id</th>\n",
              "      <th>category_id</th>\n",
              "      <th>bbox</th>\n",
              "    </tr>\n",
              "  </thead>\n",
              "  <tbody>\n",
              "    <tr>\n",
              "      <th>0</th>\n",
              "      <td>0</td>\n",
              "      <td>0</td>\n",
              "      <td>3</td>\n",
              "      <td>[325, 143, 20.5, 25]</td>\n",
              "    </tr>\n",
              "    <tr>\n",
              "      <th>1</th>\n",
              "      <td>1</td>\n",
              "      <td>0</td>\n",
              "      <td>3</td>\n",
              "      <td>[339, 157, 26.5, 42.5]</td>\n",
              "    </tr>\n",
              "    <tr>\n",
              "      <th>2</th>\n",
              "      <td>2</td>\n",
              "      <td>0</td>\n",
              "      <td>3</td>\n",
              "      <td>[152, 186, 47, 49]</td>\n",
              "    </tr>\n",
              "    <tr>\n",
              "      <th>3</th>\n",
              "      <td>3</td>\n",
              "      <td>1</td>\n",
              "      <td>3</td>\n",
              "      <td>[174, 174, 33, 68.5]</td>\n",
              "    </tr>\n",
              "    <tr>\n",
              "      <th>4</th>\n",
              "      <td>4</td>\n",
              "      <td>2</td>\n",
              "      <td>3</td>\n",
              "      <td>[140, 146, 18.5, 27]</td>\n",
              "    </tr>\n",
              "    <tr>\n",
              "      <th>...</th>\n",
              "      <td>...</td>\n",
              "      <td>...</td>\n",
              "      <td>...</td>\n",
              "      <td>...</td>\n",
              "    </tr>\n",
              "    <tr>\n",
              "      <th>1668</th>\n",
              "      <td>1668</td>\n",
              "      <td>289</td>\n",
              "      <td>3</td>\n",
              "      <td>[1, 220, 42, 49.5]</td>\n",
              "    </tr>\n",
              "    <tr>\n",
              "      <th>1669</th>\n",
              "      <td>1669</td>\n",
              "      <td>289</td>\n",
              "      <td>9</td>\n",
              "      <td>[305, 203, 53.5, 106.5]</td>\n",
              "    </tr>\n",
              "    <tr>\n",
              "      <th>1670</th>\n",
              "      <td>1670</td>\n",
              "      <td>290</td>\n",
              "      <td>5</td>\n",
              "      <td>[192, 240, 26, 41.5]</td>\n",
              "    </tr>\n",
              "    <tr>\n",
              "      <th>1671</th>\n",
              "      <td>1671</td>\n",
              "      <td>290</td>\n",
              "      <td>5</td>\n",
              "      <td>[316, 282, 44.5, 56]</td>\n",
              "    </tr>\n",
              "    <tr>\n",
              "      <th>1672</th>\n",
              "      <td>1672</td>\n",
              "      <td>290</td>\n",
              "      <td>3</td>\n",
              "      <td>[363, 295, 53, 58]</td>\n",
              "    </tr>\n",
              "  </tbody>\n",
              "</table>\n",
              "<p>1673 rows × 4 columns</p>\n",
              "</div>"
            ],
            "text/plain": [
              "        id  image_id  category_id                     bbox\n",
              "0        0         0            3     [325, 143, 20.5, 25]\n",
              "1        1         0            3   [339, 157, 26.5, 42.5]\n",
              "2        2         0            3       [152, 186, 47, 49]\n",
              "3        3         1            3     [174, 174, 33, 68.5]\n",
              "4        4         2            3     [140, 146, 18.5, 27]\n",
              "...    ...       ...          ...                      ...\n",
              "1668  1668       289            3       [1, 220, 42, 49.5]\n",
              "1669  1669       289            9  [305, 203, 53.5, 106.5]\n",
              "1670  1670       290            5     [192, 240, 26, 41.5]\n",
              "1671  1671       290            5     [316, 282, 44.5, 56]\n",
              "1672  1672       290            3       [363, 295, 53, 58]\n",
              "\n",
              "[1673 rows x 4 columns]"
            ]
          },
          "execution_count": 169,
          "metadata": {},
          "output_type": "execute_result"
        }
      ],
      "source": [
        "annotations_test_df"
      ]
    },
    {
      "cell_type": "code",
      "execution_count": 170,
      "metadata": {
        "colab": {
          "base_uri": "https://localhost:8080/"
        },
        "id": "_B6rxnbqrQCz",
        "outputId": "f949cae0-3c08-459a-cef6-fafea8e8789a"
      },
      "outputs": [
        {
          "name": "stdout",
          "output_type": "stream",
          "text": [
            "accuracy: 32.33%\n",
            "{0: [0, 0], 1: [0, 0], 2: [0, 9], 3: [49, 63], 4: [0, 0], 5: [43, 79], 6: [1, 9], 7: [0, 0], 8: [0, 0], 9: [4, 32], 10: [0, 11]}\n",
            "0\t0\t0\t0\t0\t0\t0\t0\t0\t0\t0\t\n",
            "0\t0\t0\t0\t0\t0\t0\t0\t0\t0\t0\t\n",
            "0\t0\t0\t0\t0\t0\t0\t0\t0\t0\t0\t\n",
            "0\t0\t0\t0\t0\t0\t0\t0\t0\t0\t0\t\n",
            "0\t0\t0\t0\t0\t0\t0\t0\t0\t0\t0\t\n",
            "0\t0\t0\t0\t0\t0\t0\t0\t0\t0\t0\t\n",
            "0\t0\t0\t0\t0\t0\t0\t0\t0\t0\t0\t\n",
            "0\t0\t0\t0\t0\t0\t0\t0\t0\t0\t0\t\n",
            "0\t0\t0\t0\t0\t0\t0\t0\t0\t0\t0\t\n",
            "0\t0\t0\t0\t0\t0\t0\t0\t0\t0\t0\t\n",
            "0\t0\t0\t0\t0\t0\t0\t0\t0\t0\t0\t\n"
          ]
        },
        {
          "name": "stderr",
          "output_type": "stream",
          "text": [
            "C:\\Users\\zromu\\AppData\\Local\\Temp\\ipykernel_24260\\115735229.py:11: DeprecationWarning: Calling nonzero on 0d arrays is deprecated, as it behaves surprisingly. Use `atleast_1d(cond).nonzero()` if the old behavior was intended. If the context of this warning is of the form `arr[nonzero(cond)]`, just use `arr[cond]`.\n",
            "  pred = np.where(cars_y_test_arr[p] == answer)[0]\n"
          ]
        }
      ],
      "source": [
        "correct_answers = 0\n",
        "\n",
        "status = {i: [0, 0] for i in range(11)}\n",
        "answers = [[0 for i in range(11)] for j in range(11)]\n",
        "\n",
        "for p in range(len(predictions)):\n",
        "  label_pred = np.max(predictions[p])\n",
        "  index = np.where(predictions[p] == label_pred)[0]\n",
        "  \n",
        "  answer = np.max(cars_y_test_arr[p])\n",
        "  pred = np.where(cars_y_test_arr[p] == answer)[0]\n",
        "\n",
        "\n",
        "  if index == answer:\n",
        "    correct_answers += 1\n",
        "    status[index[0]][0] += 1\n",
        "  else:\n",
        "    status[index[0]][1] += 1\n",
        "    \n",
        "\n",
        "print(\"accuracy: \", np.round(correct_answers/len(predictions) * 100, 2), \"%\", sep = \"\")\n",
        "\n",
        "print(status)\n",
        "\n",
        "for r in answers:\n",
        "  for c in r:\n",
        "    print(c, end = \"\\t\")\n",
        "  print()"
      ]
    }
  ],
  "metadata": {
    "colab": {
      "provenance": []
    },
    "kernelspec": {
      "display_name": "Python 3",
      "name": "python3"
    },
    "language_info": {
      "codemirror_mode": {
        "name": "ipython",
        "version": 3
      },
      "file_extension": ".py",
      "mimetype": "text/x-python",
      "name": "python",
      "nbconvert_exporter": "python",
      "pygments_lexer": "ipython3",
      "version": "3.11.0"
    }
  },
  "nbformat": 4,
  "nbformat_minor": 0
}
